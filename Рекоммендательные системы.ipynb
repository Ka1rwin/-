{
  "cells": [
    {
      "cell_type": "markdown",
      "id": "2a328238",
      "metadata": {
        "id": "2a328238"
      },
      "source": [
        "# Машинное обучение, ФКН ВШЭ\n",
        "\n",
        "# Практическое задание 13. Рекомендательные системы\n",
        "\n",
        "## Общая информация\n",
        "**Дата выдачи: 01.06.2025**\n",
        "\n",
        "**Мягкий дедлайн: 14.06.2025 23:59 MSK**\n",
        "\n",
        "**Жёсткий дедлайн: 16.06.2025 23:59 MSK**\n",
        "\n",
        "## Оценивание и штрафы\n",
        "\n",
        "Каждая из задач имеет определенную «стоимость» (указана в скобках около задачи). Максимально допустимая оценка за работу — **11** баллов + **2.5** бонусных.\n",
        "\n",
        "Сдавать задание после указанного срока сдачи нельзя. При выставлении неполного балла за задание в связи с наличием ошибок на усмотрение проверяющего предусмотрена возможность исправить работу на указанных в ответном письме условиях.\n",
        "\n",
        "Задание выполняется самостоятельно. «Похожие» решения считаются плагиатом и все задействованные студенты (в том числе те, у кого списали) не могут получить за него больше 0 баллов (подробнее о плагиате см. на странице курса). Если вы нашли решение какого-то из заданий (или его часть) в открытом источнике, необходимо указать ссылку на этот источник в отдельном блоке в конце вашей работы (скорее всего вы будете не единственным, кто это нашел, поэтому чтобы исключить подозрение в плагиате, необходима ссылка на источник).\n",
        "\n",
        "Неэффективная реализация кода может негативно отразиться на оценке.\n",
        "\n",
        "## Формат сдачи\n",
        "Задания сдаются через систему anytask. Посылка должна содержать:\n",
        "* Ноутбук homework-practice-13-Username.ipynb\n",
        "\n",
        "Username — ваша фамилия и имя на латинице именно в таком порядке"
      ]
    },
    {
      "cell_type": "markdown",
      "id": "ee35127e",
      "metadata": {
        "id": "ee35127e"
      },
      "source": [
        "## О задании\n",
        "\n",
        "В этой работе мы будем решать задачу рекомендации музыки. То есть мы поставим целью получить модель, которая для каждого пользователя будет возвращать набор треков, наиболее похожих на те, что он уже слушал. В первой части мы разберемся с memory-based подходом и моделью со скрытыми переменными. Это не очень мощные методы, но зато они позволяют строить предсказания почти моментально. Затем, во второй части, мы обратим внимание на то, что датасет содержит огромное число треков и воспользуемся результатами уже построенных быстрых моделей для сокращения списка кандидатов до разумного количества. После этого проведем ранжирование среди кандидатов с помощью сильной, но чуть более медленной модели, и отберем самые лучшие варианты. Такой двухэтапный алгоритм построения рекомендаций изображен на картинке.\n",
        "\n",
        "\n",
        "![photo_2023-05-17%2020.06.18.jpeg](attachment:photo_2023-05-17%2020.06.18.jpeg)"
      ]
    },
    {
      "cell_type": "markdown",
      "id": "eba5be53",
      "metadata": {
        "id": "eba5be53"
      },
      "source": [
        "Приступим!\n",
        "\n",
        "Все шаблоны ниже можно переписывать по своему усмотрению."
      ]
    },
    {
      "cell_type": "code",
      "execution_count": 1,
      "id": "75f6503b",
      "metadata": {
        "id": "75f6503b"
      },
      "outputs": [],
      "source": [
        "from sklearn.preprocessing import LabelEncoder\n",
        "\n",
        "import pandas as pd\n",
        "import numpy as np\n",
        "from tqdm.notebook import tqdm\n",
        "from typing import Callable, List\n",
        "\n",
        "import matplotlib.pyplot as plt\n",
        "import seaborn as sns\n",
        "import scipy.sparse as scs"
      ]
    },
    {
      "cell_type": "code",
      "execution_count": 2,
      "id": "q39kPlJ6jsQc",
      "metadata": {
        "colab": {
          "base_uri": "https://localhost:8080/",
          "height": 206
        },
        "id": "q39kPlJ6jsQc",
        "outputId": "8ea6d439-4722-4b66-a3ef-3453612680a7"
      },
      "outputs": [
        {
          "output_type": "execute_result",
          "data": {
            "text/plain": [
              "   userId  trackId\n",
              "0       0       14\n",
              "1       0       95\n",
              "2       0      219\n",
              "3       0      220\n",
              "4       0      404"
            ],
            "text/html": [
              "\n",
              "  <div id=\"df-465a0d9a-d5b0-4755-86a4-e3b72d3b5c83\" class=\"colab-df-container\">\n",
              "    <div>\n",
              "<style scoped>\n",
              "    .dataframe tbody tr th:only-of-type {\n",
              "        vertical-align: middle;\n",
              "    }\n",
              "\n",
              "    .dataframe tbody tr th {\n",
              "        vertical-align: top;\n",
              "    }\n",
              "\n",
              "    .dataframe thead th {\n",
              "        text-align: right;\n",
              "    }\n",
              "</style>\n",
              "<table border=\"1\" class=\"dataframe\">\n",
              "  <thead>\n",
              "    <tr style=\"text-align: right;\">\n",
              "      <th></th>\n",
              "      <th>userId</th>\n",
              "      <th>trackId</th>\n",
              "    </tr>\n",
              "  </thead>\n",
              "  <tbody>\n",
              "    <tr>\n",
              "      <th>0</th>\n",
              "      <td>0</td>\n",
              "      <td>14</td>\n",
              "    </tr>\n",
              "    <tr>\n",
              "      <th>1</th>\n",
              "      <td>0</td>\n",
              "      <td>95</td>\n",
              "    </tr>\n",
              "    <tr>\n",
              "      <th>2</th>\n",
              "      <td>0</td>\n",
              "      <td>219</td>\n",
              "    </tr>\n",
              "    <tr>\n",
              "      <th>3</th>\n",
              "      <td>0</td>\n",
              "      <td>220</td>\n",
              "    </tr>\n",
              "    <tr>\n",
              "      <th>4</th>\n",
              "      <td>0</td>\n",
              "      <td>404</td>\n",
              "    </tr>\n",
              "  </tbody>\n",
              "</table>\n",
              "</div>\n",
              "    <div class=\"colab-df-buttons\">\n",
              "\n",
              "  <div class=\"colab-df-container\">\n",
              "    <button class=\"colab-df-convert\" onclick=\"convertToInteractive('df-465a0d9a-d5b0-4755-86a4-e3b72d3b5c83')\"\n",
              "            title=\"Convert this dataframe to an interactive table.\"\n",
              "            style=\"display:none;\">\n",
              "\n",
              "  <svg xmlns=\"http://www.w3.org/2000/svg\" height=\"24px\" viewBox=\"0 -960 960 960\">\n",
              "    <path d=\"M120-120v-720h720v720H120Zm60-500h600v-160H180v160Zm220 220h160v-160H400v160Zm0 220h160v-160H400v160ZM180-400h160v-160H180v160Zm440 0h160v-160H620v160ZM180-180h160v-160H180v160Zm440 0h160v-160H620v160Z\"/>\n",
              "  </svg>\n",
              "    </button>\n",
              "\n",
              "  <style>\n",
              "    .colab-df-container {\n",
              "      display:flex;\n",
              "      gap: 12px;\n",
              "    }\n",
              "\n",
              "    .colab-df-convert {\n",
              "      background-color: #E8F0FE;\n",
              "      border: none;\n",
              "      border-radius: 50%;\n",
              "      cursor: pointer;\n",
              "      display: none;\n",
              "      fill: #1967D2;\n",
              "      height: 32px;\n",
              "      padding: 0 0 0 0;\n",
              "      width: 32px;\n",
              "    }\n",
              "\n",
              "    .colab-df-convert:hover {\n",
              "      background-color: #E2EBFA;\n",
              "      box-shadow: 0px 1px 2px rgba(60, 64, 67, 0.3), 0px 1px 3px 1px rgba(60, 64, 67, 0.15);\n",
              "      fill: #174EA6;\n",
              "    }\n",
              "\n",
              "    .colab-df-buttons div {\n",
              "      margin-bottom: 4px;\n",
              "    }\n",
              "\n",
              "    [theme=dark] .colab-df-convert {\n",
              "      background-color: #3B4455;\n",
              "      fill: #D2E3FC;\n",
              "    }\n",
              "\n",
              "    [theme=dark] .colab-df-convert:hover {\n",
              "      background-color: #434B5C;\n",
              "      box-shadow: 0px 1px 3px 1px rgba(0, 0, 0, 0.15);\n",
              "      filter: drop-shadow(0px 1px 2px rgba(0, 0, 0, 0.3));\n",
              "      fill: #FFFFFF;\n",
              "    }\n",
              "  </style>\n",
              "\n",
              "    <script>\n",
              "      const buttonEl =\n",
              "        document.querySelector('#df-465a0d9a-d5b0-4755-86a4-e3b72d3b5c83 button.colab-df-convert');\n",
              "      buttonEl.style.display =\n",
              "        google.colab.kernel.accessAllowed ? 'block' : 'none';\n",
              "\n",
              "      async function convertToInteractive(key) {\n",
              "        const element = document.querySelector('#df-465a0d9a-d5b0-4755-86a4-e3b72d3b5c83');\n",
              "        const dataTable =\n",
              "          await google.colab.kernel.invokeFunction('convertToInteractive',\n",
              "                                                    [key], {});\n",
              "        if (!dataTable) return;\n",
              "\n",
              "        const docLinkHtml = 'Like what you see? Visit the ' +\n",
              "          '<a target=\"_blank\" href=https://colab.research.google.com/notebooks/data_table.ipynb>data table notebook</a>'\n",
              "          + ' to learn more about interactive tables.';\n",
              "        element.innerHTML = '';\n",
              "        dataTable['output_type'] = 'display_data';\n",
              "        await google.colab.output.renderOutput(dataTable, element);\n",
              "        const docLink = document.createElement('div');\n",
              "        docLink.innerHTML = docLinkHtml;\n",
              "        element.appendChild(docLink);\n",
              "      }\n",
              "    </script>\n",
              "  </div>\n",
              "\n",
              "\n",
              "    <div id=\"df-372bf1b2-efd0-4eb2-bb2b-757b8c7d0ab7\">\n",
              "      <button class=\"colab-df-quickchart\" onclick=\"quickchart('df-372bf1b2-efd0-4eb2-bb2b-757b8c7d0ab7')\"\n",
              "                title=\"Suggest charts\"\n",
              "                style=\"display:none;\">\n",
              "\n",
              "<svg xmlns=\"http://www.w3.org/2000/svg\" height=\"24px\"viewBox=\"0 0 24 24\"\n",
              "     width=\"24px\">\n",
              "    <g>\n",
              "        <path d=\"M19 3H5c-1.1 0-2 .9-2 2v14c0 1.1.9 2 2 2h14c1.1 0 2-.9 2-2V5c0-1.1-.9-2-2-2zM9 17H7v-7h2v7zm4 0h-2V7h2v10zm4 0h-2v-4h2v4z\"/>\n",
              "    </g>\n",
              "</svg>\n",
              "      </button>\n",
              "\n",
              "<style>\n",
              "  .colab-df-quickchart {\n",
              "      --bg-color: #E8F0FE;\n",
              "      --fill-color: #1967D2;\n",
              "      --hover-bg-color: #E2EBFA;\n",
              "      --hover-fill-color: #174EA6;\n",
              "      --disabled-fill-color: #AAA;\n",
              "      --disabled-bg-color: #DDD;\n",
              "  }\n",
              "\n",
              "  [theme=dark] .colab-df-quickchart {\n",
              "      --bg-color: #3B4455;\n",
              "      --fill-color: #D2E3FC;\n",
              "      --hover-bg-color: #434B5C;\n",
              "      --hover-fill-color: #FFFFFF;\n",
              "      --disabled-bg-color: #3B4455;\n",
              "      --disabled-fill-color: #666;\n",
              "  }\n",
              "\n",
              "  .colab-df-quickchart {\n",
              "    background-color: var(--bg-color);\n",
              "    border: none;\n",
              "    border-radius: 50%;\n",
              "    cursor: pointer;\n",
              "    display: none;\n",
              "    fill: var(--fill-color);\n",
              "    height: 32px;\n",
              "    padding: 0;\n",
              "    width: 32px;\n",
              "  }\n",
              "\n",
              "  .colab-df-quickchart:hover {\n",
              "    background-color: var(--hover-bg-color);\n",
              "    box-shadow: 0 1px 2px rgba(60, 64, 67, 0.3), 0 1px 3px 1px rgba(60, 64, 67, 0.15);\n",
              "    fill: var(--button-hover-fill-color);\n",
              "  }\n",
              "\n",
              "  .colab-df-quickchart-complete:disabled,\n",
              "  .colab-df-quickchart-complete:disabled:hover {\n",
              "    background-color: var(--disabled-bg-color);\n",
              "    fill: var(--disabled-fill-color);\n",
              "    box-shadow: none;\n",
              "  }\n",
              "\n",
              "  .colab-df-spinner {\n",
              "    border: 2px solid var(--fill-color);\n",
              "    border-color: transparent;\n",
              "    border-bottom-color: var(--fill-color);\n",
              "    animation:\n",
              "      spin 1s steps(1) infinite;\n",
              "  }\n",
              "\n",
              "  @keyframes spin {\n",
              "    0% {\n",
              "      border-color: transparent;\n",
              "      border-bottom-color: var(--fill-color);\n",
              "      border-left-color: var(--fill-color);\n",
              "    }\n",
              "    20% {\n",
              "      border-color: transparent;\n",
              "      border-left-color: var(--fill-color);\n",
              "      border-top-color: var(--fill-color);\n",
              "    }\n",
              "    30% {\n",
              "      border-color: transparent;\n",
              "      border-left-color: var(--fill-color);\n",
              "      border-top-color: var(--fill-color);\n",
              "      border-right-color: var(--fill-color);\n",
              "    }\n",
              "    40% {\n",
              "      border-color: transparent;\n",
              "      border-right-color: var(--fill-color);\n",
              "      border-top-color: var(--fill-color);\n",
              "    }\n",
              "    60% {\n",
              "      border-color: transparent;\n",
              "      border-right-color: var(--fill-color);\n",
              "    }\n",
              "    80% {\n",
              "      border-color: transparent;\n",
              "      border-right-color: var(--fill-color);\n",
              "      border-bottom-color: var(--fill-color);\n",
              "    }\n",
              "    90% {\n",
              "      border-color: transparent;\n",
              "      border-bottom-color: var(--fill-color);\n",
              "    }\n",
              "  }\n",
              "</style>\n",
              "\n",
              "      <script>\n",
              "        async function quickchart(key) {\n",
              "          const quickchartButtonEl =\n",
              "            document.querySelector('#' + key + ' button');\n",
              "          quickchartButtonEl.disabled = true;  // To prevent multiple clicks.\n",
              "          quickchartButtonEl.classList.add('colab-df-spinner');\n",
              "          try {\n",
              "            const charts = await google.colab.kernel.invokeFunction(\n",
              "                'suggestCharts', [key], {});\n",
              "          } catch (error) {\n",
              "            console.error('Error during call to suggestCharts:', error);\n",
              "          }\n",
              "          quickchartButtonEl.classList.remove('colab-df-spinner');\n",
              "          quickchartButtonEl.classList.add('colab-df-quickchart-complete');\n",
              "        }\n",
              "        (() => {\n",
              "          let quickchartButtonEl =\n",
              "            document.querySelector('#df-372bf1b2-efd0-4eb2-bb2b-757b8c7d0ab7 button');\n",
              "          quickchartButtonEl.style.display =\n",
              "            google.colab.kernel.accessAllowed ? 'block' : 'none';\n",
              "        })();\n",
              "      </script>\n",
              "    </div>\n",
              "    </div>\n",
              "  </div>\n"
            ],
            "application/vnd.google.colaboratory.intrinsic+json": {
              "type": "dataframe",
              "variable_name": "ratings"
            }
          },
          "metadata": {},
          "execution_count": 2
        }
      ],
      "source": [
        "ratings = pd.read_csv('music_dataset.csv')\n",
        "ratings.head()"
      ]
    },
    {
      "cell_type": "code",
      "execution_count": 3,
      "id": "PgGrUf6TSvHC",
      "metadata": {
        "colab": {
          "base_uri": "https://localhost:8080/",
          "height": 206
        },
        "id": "PgGrUf6TSvHC",
        "outputId": "5107d745-19c0-4139-b923-bcb1c536b424"
      },
      "outputs": [
        {
          "output_type": "execute_result",
          "data": {
            "text/plain": [
              "   id                         name              artists\n",
              "0   0                What There Is             ['a-ha']\n",
              "1   1  I'll Play The Blues For You      ['Albert King']\n",
              "2   2  Breaking Up Somebody's Home      ['Albert King']\n",
              "3   3                      Imma Be  ['Black Eyed Peas']\n",
              "4   4                Boom Boom Pow  ['Black Eyed Peas']"
            ],
            "text/html": [
              "\n",
              "  <div id=\"df-87fc7925-cc70-43b4-9dd6-062cf15ac463\" class=\"colab-df-container\">\n",
              "    <div>\n",
              "<style scoped>\n",
              "    .dataframe tbody tr th:only-of-type {\n",
              "        vertical-align: middle;\n",
              "    }\n",
              "\n",
              "    .dataframe tbody tr th {\n",
              "        vertical-align: top;\n",
              "    }\n",
              "\n",
              "    .dataframe thead th {\n",
              "        text-align: right;\n",
              "    }\n",
              "</style>\n",
              "<table border=\"1\" class=\"dataframe\">\n",
              "  <thead>\n",
              "    <tr style=\"text-align: right;\">\n",
              "      <th></th>\n",
              "      <th>id</th>\n",
              "      <th>name</th>\n",
              "      <th>artists</th>\n",
              "    </tr>\n",
              "  </thead>\n",
              "  <tbody>\n",
              "    <tr>\n",
              "      <th>0</th>\n",
              "      <td>0</td>\n",
              "      <td>What There Is</td>\n",
              "      <td>['a-ha']</td>\n",
              "    </tr>\n",
              "    <tr>\n",
              "      <th>1</th>\n",
              "      <td>1</td>\n",
              "      <td>I'll Play The Blues For You</td>\n",
              "      <td>['Albert King']</td>\n",
              "    </tr>\n",
              "    <tr>\n",
              "      <th>2</th>\n",
              "      <td>2</td>\n",
              "      <td>Breaking Up Somebody's Home</td>\n",
              "      <td>['Albert King']</td>\n",
              "    </tr>\n",
              "    <tr>\n",
              "      <th>3</th>\n",
              "      <td>3</td>\n",
              "      <td>Imma Be</td>\n",
              "      <td>['Black Eyed Peas']</td>\n",
              "    </tr>\n",
              "    <tr>\n",
              "      <th>4</th>\n",
              "      <td>4</td>\n",
              "      <td>Boom Boom Pow</td>\n",
              "      <td>['Black Eyed Peas']</td>\n",
              "    </tr>\n",
              "  </tbody>\n",
              "</table>\n",
              "</div>\n",
              "    <div class=\"colab-df-buttons\">\n",
              "\n",
              "  <div class=\"colab-df-container\">\n",
              "    <button class=\"colab-df-convert\" onclick=\"convertToInteractive('df-87fc7925-cc70-43b4-9dd6-062cf15ac463')\"\n",
              "            title=\"Convert this dataframe to an interactive table.\"\n",
              "            style=\"display:none;\">\n",
              "\n",
              "  <svg xmlns=\"http://www.w3.org/2000/svg\" height=\"24px\" viewBox=\"0 -960 960 960\">\n",
              "    <path d=\"M120-120v-720h720v720H120Zm60-500h600v-160H180v160Zm220 220h160v-160H400v160Zm0 220h160v-160H400v160ZM180-400h160v-160H180v160Zm440 0h160v-160H620v160ZM180-180h160v-160H180v160Zm440 0h160v-160H620v160Z\"/>\n",
              "  </svg>\n",
              "    </button>\n",
              "\n",
              "  <style>\n",
              "    .colab-df-container {\n",
              "      display:flex;\n",
              "      gap: 12px;\n",
              "    }\n",
              "\n",
              "    .colab-df-convert {\n",
              "      background-color: #E8F0FE;\n",
              "      border: none;\n",
              "      border-radius: 50%;\n",
              "      cursor: pointer;\n",
              "      display: none;\n",
              "      fill: #1967D2;\n",
              "      height: 32px;\n",
              "      padding: 0 0 0 0;\n",
              "      width: 32px;\n",
              "    }\n",
              "\n",
              "    .colab-df-convert:hover {\n",
              "      background-color: #E2EBFA;\n",
              "      box-shadow: 0px 1px 2px rgba(60, 64, 67, 0.3), 0px 1px 3px 1px rgba(60, 64, 67, 0.15);\n",
              "      fill: #174EA6;\n",
              "    }\n",
              "\n",
              "    .colab-df-buttons div {\n",
              "      margin-bottom: 4px;\n",
              "    }\n",
              "\n",
              "    [theme=dark] .colab-df-convert {\n",
              "      background-color: #3B4455;\n",
              "      fill: #D2E3FC;\n",
              "    }\n",
              "\n",
              "    [theme=dark] .colab-df-convert:hover {\n",
              "      background-color: #434B5C;\n",
              "      box-shadow: 0px 1px 3px 1px rgba(0, 0, 0, 0.15);\n",
              "      filter: drop-shadow(0px 1px 2px rgba(0, 0, 0, 0.3));\n",
              "      fill: #FFFFFF;\n",
              "    }\n",
              "  </style>\n",
              "\n",
              "    <script>\n",
              "      const buttonEl =\n",
              "        document.querySelector('#df-87fc7925-cc70-43b4-9dd6-062cf15ac463 button.colab-df-convert');\n",
              "      buttonEl.style.display =\n",
              "        google.colab.kernel.accessAllowed ? 'block' : 'none';\n",
              "\n",
              "      async function convertToInteractive(key) {\n",
              "        const element = document.querySelector('#df-87fc7925-cc70-43b4-9dd6-062cf15ac463');\n",
              "        const dataTable =\n",
              "          await google.colab.kernel.invokeFunction('convertToInteractive',\n",
              "                                                    [key], {});\n",
              "        if (!dataTable) return;\n",
              "\n",
              "        const docLinkHtml = 'Like what you see? Visit the ' +\n",
              "          '<a target=\"_blank\" href=https://colab.research.google.com/notebooks/data_table.ipynb>data table notebook</a>'\n",
              "          + ' to learn more about interactive tables.';\n",
              "        element.innerHTML = '';\n",
              "        dataTable['output_type'] = 'display_data';\n",
              "        await google.colab.output.renderOutput(dataTable, element);\n",
              "        const docLink = document.createElement('div');\n",
              "        docLink.innerHTML = docLinkHtml;\n",
              "        element.appendChild(docLink);\n",
              "      }\n",
              "    </script>\n",
              "  </div>\n",
              "\n",
              "\n",
              "    <div id=\"df-481f21e9-6a7c-4f54-b01a-c707c56ff839\">\n",
              "      <button class=\"colab-df-quickchart\" onclick=\"quickchart('df-481f21e9-6a7c-4f54-b01a-c707c56ff839')\"\n",
              "                title=\"Suggest charts\"\n",
              "                style=\"display:none;\">\n",
              "\n",
              "<svg xmlns=\"http://www.w3.org/2000/svg\" height=\"24px\"viewBox=\"0 0 24 24\"\n",
              "     width=\"24px\">\n",
              "    <g>\n",
              "        <path d=\"M19 3H5c-1.1 0-2 .9-2 2v14c0 1.1.9 2 2 2h14c1.1 0 2-.9 2-2V5c0-1.1-.9-2-2-2zM9 17H7v-7h2v7zm4 0h-2V7h2v10zm4 0h-2v-4h2v4z\"/>\n",
              "    </g>\n",
              "</svg>\n",
              "      </button>\n",
              "\n",
              "<style>\n",
              "  .colab-df-quickchart {\n",
              "      --bg-color: #E8F0FE;\n",
              "      --fill-color: #1967D2;\n",
              "      --hover-bg-color: #E2EBFA;\n",
              "      --hover-fill-color: #174EA6;\n",
              "      --disabled-fill-color: #AAA;\n",
              "      --disabled-bg-color: #DDD;\n",
              "  }\n",
              "\n",
              "  [theme=dark] .colab-df-quickchart {\n",
              "      --bg-color: #3B4455;\n",
              "      --fill-color: #D2E3FC;\n",
              "      --hover-bg-color: #434B5C;\n",
              "      --hover-fill-color: #FFFFFF;\n",
              "      --disabled-bg-color: #3B4455;\n",
              "      --disabled-fill-color: #666;\n",
              "  }\n",
              "\n",
              "  .colab-df-quickchart {\n",
              "    background-color: var(--bg-color);\n",
              "    border: none;\n",
              "    border-radius: 50%;\n",
              "    cursor: pointer;\n",
              "    display: none;\n",
              "    fill: var(--fill-color);\n",
              "    height: 32px;\n",
              "    padding: 0;\n",
              "    width: 32px;\n",
              "  }\n",
              "\n",
              "  .colab-df-quickchart:hover {\n",
              "    background-color: var(--hover-bg-color);\n",
              "    box-shadow: 0 1px 2px rgba(60, 64, 67, 0.3), 0 1px 3px 1px rgba(60, 64, 67, 0.15);\n",
              "    fill: var(--button-hover-fill-color);\n",
              "  }\n",
              "\n",
              "  .colab-df-quickchart-complete:disabled,\n",
              "  .colab-df-quickchart-complete:disabled:hover {\n",
              "    background-color: var(--disabled-bg-color);\n",
              "    fill: var(--disabled-fill-color);\n",
              "    box-shadow: none;\n",
              "  }\n",
              "\n",
              "  .colab-df-spinner {\n",
              "    border: 2px solid var(--fill-color);\n",
              "    border-color: transparent;\n",
              "    border-bottom-color: var(--fill-color);\n",
              "    animation:\n",
              "      spin 1s steps(1) infinite;\n",
              "  }\n",
              "\n",
              "  @keyframes spin {\n",
              "    0% {\n",
              "      border-color: transparent;\n",
              "      border-bottom-color: var(--fill-color);\n",
              "      border-left-color: var(--fill-color);\n",
              "    }\n",
              "    20% {\n",
              "      border-color: transparent;\n",
              "      border-left-color: var(--fill-color);\n",
              "      border-top-color: var(--fill-color);\n",
              "    }\n",
              "    30% {\n",
              "      border-color: transparent;\n",
              "      border-left-color: var(--fill-color);\n",
              "      border-top-color: var(--fill-color);\n",
              "      border-right-color: var(--fill-color);\n",
              "    }\n",
              "    40% {\n",
              "      border-color: transparent;\n",
              "      border-right-color: var(--fill-color);\n",
              "      border-top-color: var(--fill-color);\n",
              "    }\n",
              "    60% {\n",
              "      border-color: transparent;\n",
              "      border-right-color: var(--fill-color);\n",
              "    }\n",
              "    80% {\n",
              "      border-color: transparent;\n",
              "      border-right-color: var(--fill-color);\n",
              "      border-bottom-color: var(--fill-color);\n",
              "    }\n",
              "    90% {\n",
              "      border-color: transparent;\n",
              "      border-bottom-color: var(--fill-color);\n",
              "    }\n",
              "  }\n",
              "</style>\n",
              "\n",
              "      <script>\n",
              "        async function quickchart(key) {\n",
              "          const quickchartButtonEl =\n",
              "            document.querySelector('#' + key + ' button');\n",
              "          quickchartButtonEl.disabled = true;  // To prevent multiple clicks.\n",
              "          quickchartButtonEl.classList.add('colab-df-spinner');\n",
              "          try {\n",
              "            const charts = await google.colab.kernel.invokeFunction(\n",
              "                'suggestCharts', [key], {});\n",
              "          } catch (error) {\n",
              "            console.error('Error during call to suggestCharts:', error);\n",
              "          }\n",
              "          quickchartButtonEl.classList.remove('colab-df-spinner');\n",
              "          quickchartButtonEl.classList.add('colab-df-quickchart-complete');\n",
              "        }\n",
              "        (() => {\n",
              "          let quickchartButtonEl =\n",
              "            document.querySelector('#df-481f21e9-6a7c-4f54-b01a-c707c56ff839 button');\n",
              "          quickchartButtonEl.style.display =\n",
              "            google.colab.kernel.accessAllowed ? 'block' : 'none';\n",
              "        })();\n",
              "      </script>\n",
              "    </div>\n",
              "    </div>\n",
              "  </div>\n"
            ],
            "application/vnd.google.colaboratory.intrinsic+json": {
              "type": "dataframe",
              "variable_name": "tracks_info",
              "summary": "{\n  \"name\": \"tracks_info\",\n  \"rows\": 72383,\n  \"fields\": [\n    {\n      \"column\": \"id\",\n      \"properties\": {\n        \"dtype\": \"number\",\n        \"std\": 20895,\n        \"min\": 0,\n        \"max\": 72382,\n        \"num_unique_values\": 72383,\n        \"samples\": [\n          64057,\n          40095,\n          11097\n        ],\n        \"semantic_type\": \"\",\n        \"description\": \"\"\n      }\n    },\n    {\n      \"column\": \"name\",\n      \"properties\": {\n        \"dtype\": \"string\",\n        \"num_unique_values\": 52551,\n        \"samples\": [\n          \"GOLD MERCURY TOK\",\n          \"\\u041c\\u0430\\u0436\\u043e\\u0440\\u0438\\u0449\\u0435\",\n          \"Feelin' Bad Blues\"\n        ],\n        \"semantic_type\": \"\",\n        \"description\": \"\"\n      }\n    },\n    {\n      \"column\": \"artists\",\n      \"properties\": {\n        \"dtype\": \"category\",\n        \"num_unique_values\": 23520,\n        \"samples\": [\n          \"['The Acid']\",\n          \"['RAFF']\",\n          \"['Manudigital', 'Soom T']\"\n        ],\n        \"semantic_type\": \"\",\n        \"description\": \"\"\n      }\n    }\n  ]\n}"
            }
          },
          "metadata": {},
          "execution_count": 3
        }
      ],
      "source": [
        "tracks_info = pd.read_csv('tracks_info.csv')\n",
        "tracks_info.head()"
      ]
    },
    {
      "cell_type": "markdown",
      "id": "SSvgStZZIEdz",
      "metadata": {
        "id": "SSvgStZZIEdz"
      },
      "source": [
        "Для оценки качества рекомендаций мы будем использовать метрику $MAP@k$.\n",
        "\n",
        "$$\n",
        "MAP@k = \\frac{1}{N} \\sum_{u = 1}^N AP_u@k\n",
        "$$\n",
        "$$\n",
        "AP_u@k = \\frac{1}{\\min(k, n_u)} \\sum_{i=1}^k r_u(i) p_u@i\n",
        "$$\n",
        "$$p_u@k = \\dfrac{1}{k}\\sum_{j=1}^k r_u(j)$$\n",
        "\n",
        "\n",
        "*   $N$ - количество пользователей.\n",
        "*   $n_u$ - число релевантных треков пользователя $u$ на тестовом промежутке.\n",
        "*   $r_u(i)$ - бинарная величина: относится ли трек на позиции $i$ к релевантным."
      ]
    },
    {
      "cell_type": "markdown",
      "id": "UDTWQLoKS3nA",
      "metadata": {
        "id": "UDTWQLoKS3nA"
      },
      "source": [
        "**Задание 1 (0.5 балл).** Реализуйте метрику $MAP@k$."
      ]
    },
    {
      "cell_type": "code",
      "execution_count": 4,
      "id": "8YW8fMfnQY08",
      "metadata": {
        "id": "8YW8fMfnQY08",
        "scrolled": true
      },
      "outputs": [],
      "source": [
        "def mapk(relevant: List[List[int]], predicted: List[List[int]], k: int = 20) -> float:\n",
        "\n",
        "    average_precisions = []\n",
        "\n",
        "    for rel, pred in zip(relevant, predicted):\n",
        "\n",
        "        pred = pred[:k]\n",
        "\n",
        "\n",
        "        precisions = []\n",
        "        relevant_items = set(rel)\n",
        "        num_relevant = len(relevant_items)\n",
        "\n",
        "        if num_relevant == 0:\n",
        "\n",
        "            average_precisions.append(0.0)\n",
        "            continue\n",
        "\n",
        "        correct = 0\n",
        "        for i, item in enumerate(pred, 1):\n",
        "            if item in relevant_items:\n",
        "                correct += 1\n",
        "                precisions.append(correct / i)\n",
        "\n",
        "        if precisions:\n",
        "            avg_precision = sum(precisions) / min(num_relevant, k)\n",
        "        else:\n",
        "            avg_precision = 0.0\n",
        "\n",
        "        average_precisions.append(avg_precision)\n",
        "\n",
        "    return sum(average_precisions) / len(average_precisions) if average_precisions else 0.0"
      ]
    },
    {
      "cell_type": "code",
      "execution_count": 5,
      "id": "JbKyNPk8TaIG",
      "metadata": {
        "id": "JbKyNPk8TaIG"
      },
      "outputs": [],
      "source": [
        "relevant = [\n",
        "    [1, 7, 6, 2, 8],\n",
        "    [1, 5, 4, 8],\n",
        "    [8, 2, 5]\n",
        "]\n",
        "\n",
        "pred = [\n",
        "    [8, 1, 5, 0, 7, 2, 9, 4],\n",
        "    [0, 1, 8, 5, 3, 4, 7, 9],\n",
        "    [9, 2, 0, 6, 8, 5, 3, 7]\n",
        "]\n",
        "\n",
        "assert round(mapk(relevant, pred, k=5), 4) == 0.4331"
      ]
    },
    {
      "cell_type": "markdown",
      "id": "WFYR-X49HlMl",
      "metadata": {
        "id": "WFYR-X49HlMl"
      },
      "source": [
        "Разделим данные на тренировочные и тестовые так, чтобы в теcтовый датасет попали 50 последних треков каждого пользователя."
      ]
    },
    {
      "cell_type": "code",
      "execution_count": 6,
      "id": "TEzz_ym8Go_L",
      "metadata": {
        "id": "TEzz_ym8Go_L"
      },
      "outputs": [],
      "source": [
        "def train_test_split(ratings):\n",
        "    train_ratings, test_ratings = [], []\n",
        "    num_test_samples = 50\n",
        "\n",
        "    # getting train samples\n",
        "    for userId, user_data in tqdm(ratings.groupby('userId')):\n",
        "        train_ratings += [user_data[:-num_test_samples]]\n",
        "\n",
        "    train_ratings = pd.concat(train_ratings).reset_index(drop=True)\n",
        "    all_train_items = train_ratings['trackId'].unique()\n",
        "\n",
        "    # getting train samples\n",
        "    # we drop all tracks that are not presented it the training samples,\n",
        "    # because we won't be able to learn representations for them\n",
        "    for userId, user_data in tqdm(ratings.groupby('userId')):\n",
        "        test_items = user_data[-num_test_samples:]\n",
        "        test_items = test_items[np.isin(test_items['trackId'], all_train_items)]\n",
        "        test_ratings += [test_items]\n",
        "\n",
        "    test_ratings = pd.concat(test_ratings).reset_index(drop=True)\n",
        "\n",
        "    return train_ratings, test_ratings"
      ]
    },
    {
      "cell_type": "code",
      "execution_count": 7,
      "id": "vuyiM1Lk4L-e",
      "metadata": {
        "colab": {
          "base_uri": "https://localhost:8080/",
          "height": 81,
          "referenced_widgets": [
            "b4b50c7fc80d420c9a4f7f8ccff68447",
            "1a77fb5aa76a49ed91cfdc7ba1bca423",
            "cfe3a1f9e0f5456fb2f44604e0d2f14e",
            "7ef54d77c9f746c49558d0840af30084",
            "f806e469e2974d31be9935aa901af2df",
            "a8b80455bb934c19b2c61e96719abf93",
            "289281645d3c4b16a36c47dd89133c47",
            "eb829e6907a14e53be7ed68e98ca7984",
            "28e3ffe6117a40c8b8418d5b0d95d9ac",
            "d02f89e84f38403c83ce85d022012d83",
            "464982f1b1ac4010bdb15ab5eaf2931d",
            "1c2f051e353349009d5e99599c94adc4",
            "b0696e8f905a4d58b4148872eabf1cc9",
            "65c9d4b1ed2b47e3987b36b97ab97668",
            "3b7ff688afea47b2b5861e0003f232b5",
            "c0558788674445baa3a6a0ce60f7eed8",
            "d6a920f22c3449f6a04547c71c85993a",
            "466aa81f891a4f7ca1bf48795d963ce6",
            "1a3acc06b0e44a8d9ef035f245677123",
            "34dd566fa39b406ea707b11e8e397c5a",
            "63d616ce29354dc1a5d0108fbfdab924",
            "2bcb9763893d4da7b273a1015bd49ec0"
          ]
        },
        "id": "vuyiM1Lk4L-e",
        "outputId": "4ce0d88c-84c7-493e-eaba-128caee309c9"
      },
      "outputs": [
        {
          "output_type": "display_data",
          "data": {
            "text/plain": [
              "  0%|          | 0/241 [00:00<?, ?it/s]"
            ],
            "application/vnd.jupyter.widget-view+json": {
              "version_major": 2,
              "version_minor": 0,
              "model_id": "b4b50c7fc80d420c9a4f7f8ccff68447"
            }
          },
          "metadata": {}
        },
        {
          "output_type": "display_data",
          "data": {
            "text/plain": [
              "  0%|          | 0/241 [00:00<?, ?it/s]"
            ],
            "application/vnd.jupyter.widget-view+json": {
              "version_major": 2,
              "version_minor": 0,
              "model_id": "1c2f051e353349009d5e99599c94adc4"
            }
          },
          "metadata": {}
        }
      ],
      "source": [
        "train_ratings, test_ratings = train_test_split(ratings)"
      ]
    },
    {
      "cell_type": "markdown",
      "id": "P3ZVqBMjBqfe",
      "metadata": {
        "id": "P3ZVqBMjBqfe"
      },
      "source": [
        "Почистим табличку с информацией о треках и закодируем id треков так, чтобы они соответствовали их порядковому номеру."
      ]
    },
    {
      "cell_type": "code",
      "execution_count": 8,
      "id": "-SCTsxeYwCO-",
      "metadata": {
        "id": "-SCTsxeYwCO-"
      },
      "outputs": [],
      "source": [
        "redundant_rows = np.where(~np.isin(tracks_info['id'], train_ratings['trackId'].unique()))[0]\n",
        "tracks_info.drop(redundant_rows, inplace=True)\n",
        "tracks_info = tracks_info.reset_index(drop=True)"
      ]
    },
    {
      "cell_type": "code",
      "execution_count": 9,
      "id": "cVfC-rfU3J49",
      "metadata": {
        "id": "cVfC-rfU3J49"
      },
      "outputs": [],
      "source": [
        "def ids_encoder(ratings):\n",
        "    users = sorted(ratings['userId'].unique())\n",
        "    items = sorted(ratings['trackId'].unique())\n",
        "\n",
        "    # create users and items encoders\n",
        "    uencoder = LabelEncoder()\n",
        "    iencoder = LabelEncoder()\n",
        "\n",
        "    # fit users and items ids to the corresponding encoder\n",
        "    uencoder.fit(users)\n",
        "    iencoder.fit(items)\n",
        "\n",
        "    return uencoder, iencoder"
      ]
    },
    {
      "cell_type": "code",
      "execution_count": 10,
      "id": "xw2VDBz9v6LT",
      "metadata": {
        "id": "xw2VDBz9v6LT"
      },
      "outputs": [],
      "source": [
        "uencoder, iencoder = ids_encoder(train_ratings)\n",
        "train_ratings['trackId'] = iencoder.transform(train_ratings['trackId'].tolist())\n",
        "test_ratings['trackId'] = iencoder.transform(test_ratings['trackId'].tolist())\n",
        "tracks_info['id'] = iencoder.transform(tracks_info['id'].tolist())"
      ]
    },
    {
      "cell_type": "code",
      "execution_count": 11,
      "id": "GfjwnUWTuhRD",
      "metadata": {
        "colab": {
          "base_uri": "https://localhost:8080/",
          "height": 206
        },
        "id": "GfjwnUWTuhRD",
        "outputId": "b85c8e2a-06fe-403c-b73c-7bc1f940ab81"
      },
      "outputs": [
        {
          "output_type": "execute_result",
          "data": {
            "text/plain": [
              "   userId  trackId\n",
              "0       0       14\n",
              "1       0       95\n",
              "2       0      219\n",
              "3       0      220\n",
              "4       0      404"
            ],
            "text/html": [
              "\n",
              "  <div id=\"df-85fc48fd-c833-4a9a-abb3-6d8ee7d3f301\" class=\"colab-df-container\">\n",
              "    <div>\n",
              "<style scoped>\n",
              "    .dataframe tbody tr th:only-of-type {\n",
              "        vertical-align: middle;\n",
              "    }\n",
              "\n",
              "    .dataframe tbody tr th {\n",
              "        vertical-align: top;\n",
              "    }\n",
              "\n",
              "    .dataframe thead th {\n",
              "        text-align: right;\n",
              "    }\n",
              "</style>\n",
              "<table border=\"1\" class=\"dataframe\">\n",
              "  <thead>\n",
              "    <tr style=\"text-align: right;\">\n",
              "      <th></th>\n",
              "      <th>userId</th>\n",
              "      <th>trackId</th>\n",
              "    </tr>\n",
              "  </thead>\n",
              "  <tbody>\n",
              "    <tr>\n",
              "      <th>0</th>\n",
              "      <td>0</td>\n",
              "      <td>14</td>\n",
              "    </tr>\n",
              "    <tr>\n",
              "      <th>1</th>\n",
              "      <td>0</td>\n",
              "      <td>95</td>\n",
              "    </tr>\n",
              "    <tr>\n",
              "      <th>2</th>\n",
              "      <td>0</td>\n",
              "      <td>219</td>\n",
              "    </tr>\n",
              "    <tr>\n",
              "      <th>3</th>\n",
              "      <td>0</td>\n",
              "      <td>220</td>\n",
              "    </tr>\n",
              "    <tr>\n",
              "      <th>4</th>\n",
              "      <td>0</td>\n",
              "      <td>404</td>\n",
              "    </tr>\n",
              "  </tbody>\n",
              "</table>\n",
              "</div>\n",
              "    <div class=\"colab-df-buttons\">\n",
              "\n",
              "  <div class=\"colab-df-container\">\n",
              "    <button class=\"colab-df-convert\" onclick=\"convertToInteractive('df-85fc48fd-c833-4a9a-abb3-6d8ee7d3f301')\"\n",
              "            title=\"Convert this dataframe to an interactive table.\"\n",
              "            style=\"display:none;\">\n",
              "\n",
              "  <svg xmlns=\"http://www.w3.org/2000/svg\" height=\"24px\" viewBox=\"0 -960 960 960\">\n",
              "    <path d=\"M120-120v-720h720v720H120Zm60-500h600v-160H180v160Zm220 220h160v-160H400v160Zm0 220h160v-160H400v160ZM180-400h160v-160H180v160Zm440 0h160v-160H620v160ZM180-180h160v-160H180v160Zm440 0h160v-160H620v160Z\"/>\n",
              "  </svg>\n",
              "    </button>\n",
              "\n",
              "  <style>\n",
              "    .colab-df-container {\n",
              "      display:flex;\n",
              "      gap: 12px;\n",
              "    }\n",
              "\n",
              "    .colab-df-convert {\n",
              "      background-color: #E8F0FE;\n",
              "      border: none;\n",
              "      border-radius: 50%;\n",
              "      cursor: pointer;\n",
              "      display: none;\n",
              "      fill: #1967D2;\n",
              "      height: 32px;\n",
              "      padding: 0 0 0 0;\n",
              "      width: 32px;\n",
              "    }\n",
              "\n",
              "    .colab-df-convert:hover {\n",
              "      background-color: #E2EBFA;\n",
              "      box-shadow: 0px 1px 2px rgba(60, 64, 67, 0.3), 0px 1px 3px 1px rgba(60, 64, 67, 0.15);\n",
              "      fill: #174EA6;\n",
              "    }\n",
              "\n",
              "    .colab-df-buttons div {\n",
              "      margin-bottom: 4px;\n",
              "    }\n",
              "\n",
              "    [theme=dark] .colab-df-convert {\n",
              "      background-color: #3B4455;\n",
              "      fill: #D2E3FC;\n",
              "    }\n",
              "\n",
              "    [theme=dark] .colab-df-convert:hover {\n",
              "      background-color: #434B5C;\n",
              "      box-shadow: 0px 1px 3px 1px rgba(0, 0, 0, 0.15);\n",
              "      filter: drop-shadow(0px 1px 2px rgba(0, 0, 0, 0.3));\n",
              "      fill: #FFFFFF;\n",
              "    }\n",
              "  </style>\n",
              "\n",
              "    <script>\n",
              "      const buttonEl =\n",
              "        document.querySelector('#df-85fc48fd-c833-4a9a-abb3-6d8ee7d3f301 button.colab-df-convert');\n",
              "      buttonEl.style.display =\n",
              "        google.colab.kernel.accessAllowed ? 'block' : 'none';\n",
              "\n",
              "      async function convertToInteractive(key) {\n",
              "        const element = document.querySelector('#df-85fc48fd-c833-4a9a-abb3-6d8ee7d3f301');\n",
              "        const dataTable =\n",
              "          await google.colab.kernel.invokeFunction('convertToInteractive',\n",
              "                                                    [key], {});\n",
              "        if (!dataTable) return;\n",
              "\n",
              "        const docLinkHtml = 'Like what you see? Visit the ' +\n",
              "          '<a target=\"_blank\" href=https://colab.research.google.com/notebooks/data_table.ipynb>data table notebook</a>'\n",
              "          + ' to learn more about interactive tables.';\n",
              "        element.innerHTML = '';\n",
              "        dataTable['output_type'] = 'display_data';\n",
              "        await google.colab.output.renderOutput(dataTable, element);\n",
              "        const docLink = document.createElement('div');\n",
              "        docLink.innerHTML = docLinkHtml;\n",
              "        element.appendChild(docLink);\n",
              "      }\n",
              "    </script>\n",
              "  </div>\n",
              "\n",
              "\n",
              "    <div id=\"df-57349e6d-4ad0-425d-b393-486be68f6fe7\">\n",
              "      <button class=\"colab-df-quickchart\" onclick=\"quickchart('df-57349e6d-4ad0-425d-b393-486be68f6fe7')\"\n",
              "                title=\"Suggest charts\"\n",
              "                style=\"display:none;\">\n",
              "\n",
              "<svg xmlns=\"http://www.w3.org/2000/svg\" height=\"24px\"viewBox=\"0 0 24 24\"\n",
              "     width=\"24px\">\n",
              "    <g>\n",
              "        <path d=\"M19 3H5c-1.1 0-2 .9-2 2v14c0 1.1.9 2 2 2h14c1.1 0 2-.9 2-2V5c0-1.1-.9-2-2-2zM9 17H7v-7h2v7zm4 0h-2V7h2v10zm4 0h-2v-4h2v4z\"/>\n",
              "    </g>\n",
              "</svg>\n",
              "      </button>\n",
              "\n",
              "<style>\n",
              "  .colab-df-quickchart {\n",
              "      --bg-color: #E8F0FE;\n",
              "      --fill-color: #1967D2;\n",
              "      --hover-bg-color: #E2EBFA;\n",
              "      --hover-fill-color: #174EA6;\n",
              "      --disabled-fill-color: #AAA;\n",
              "      --disabled-bg-color: #DDD;\n",
              "  }\n",
              "\n",
              "  [theme=dark] .colab-df-quickchart {\n",
              "      --bg-color: #3B4455;\n",
              "      --fill-color: #D2E3FC;\n",
              "      --hover-bg-color: #434B5C;\n",
              "      --hover-fill-color: #FFFFFF;\n",
              "      --disabled-bg-color: #3B4455;\n",
              "      --disabled-fill-color: #666;\n",
              "  }\n",
              "\n",
              "  .colab-df-quickchart {\n",
              "    background-color: var(--bg-color);\n",
              "    border: none;\n",
              "    border-radius: 50%;\n",
              "    cursor: pointer;\n",
              "    display: none;\n",
              "    fill: var(--fill-color);\n",
              "    height: 32px;\n",
              "    padding: 0;\n",
              "    width: 32px;\n",
              "  }\n",
              "\n",
              "  .colab-df-quickchart:hover {\n",
              "    background-color: var(--hover-bg-color);\n",
              "    box-shadow: 0 1px 2px rgba(60, 64, 67, 0.3), 0 1px 3px 1px rgba(60, 64, 67, 0.15);\n",
              "    fill: var(--button-hover-fill-color);\n",
              "  }\n",
              "\n",
              "  .colab-df-quickchart-complete:disabled,\n",
              "  .colab-df-quickchart-complete:disabled:hover {\n",
              "    background-color: var(--disabled-bg-color);\n",
              "    fill: var(--disabled-fill-color);\n",
              "    box-shadow: none;\n",
              "  }\n",
              "\n",
              "  .colab-df-spinner {\n",
              "    border: 2px solid var(--fill-color);\n",
              "    border-color: transparent;\n",
              "    border-bottom-color: var(--fill-color);\n",
              "    animation:\n",
              "      spin 1s steps(1) infinite;\n",
              "  }\n",
              "\n",
              "  @keyframes spin {\n",
              "    0% {\n",
              "      border-color: transparent;\n",
              "      border-bottom-color: var(--fill-color);\n",
              "      border-left-color: var(--fill-color);\n",
              "    }\n",
              "    20% {\n",
              "      border-color: transparent;\n",
              "      border-left-color: var(--fill-color);\n",
              "      border-top-color: var(--fill-color);\n",
              "    }\n",
              "    30% {\n",
              "      border-color: transparent;\n",
              "      border-left-color: var(--fill-color);\n",
              "      border-top-color: var(--fill-color);\n",
              "      border-right-color: var(--fill-color);\n",
              "    }\n",
              "    40% {\n",
              "      border-color: transparent;\n",
              "      border-right-color: var(--fill-color);\n",
              "      border-top-color: var(--fill-color);\n",
              "    }\n",
              "    60% {\n",
              "      border-color: transparent;\n",
              "      border-right-color: var(--fill-color);\n",
              "    }\n",
              "    80% {\n",
              "      border-color: transparent;\n",
              "      border-right-color: var(--fill-color);\n",
              "      border-bottom-color: var(--fill-color);\n",
              "    }\n",
              "    90% {\n",
              "      border-color: transparent;\n",
              "      border-bottom-color: var(--fill-color);\n",
              "    }\n",
              "  }\n",
              "</style>\n",
              "\n",
              "      <script>\n",
              "        async function quickchart(key) {\n",
              "          const quickchartButtonEl =\n",
              "            document.querySelector('#' + key + ' button');\n",
              "          quickchartButtonEl.disabled = true;  // To prevent multiple clicks.\n",
              "          quickchartButtonEl.classList.add('colab-df-spinner');\n",
              "          try {\n",
              "            const charts = await google.colab.kernel.invokeFunction(\n",
              "                'suggestCharts', [key], {});\n",
              "          } catch (error) {\n",
              "            console.error('Error during call to suggestCharts:', error);\n",
              "          }\n",
              "          quickchartButtonEl.classList.remove('colab-df-spinner');\n",
              "          quickchartButtonEl.classList.add('colab-df-quickchart-complete');\n",
              "        }\n",
              "        (() => {\n",
              "          let quickchartButtonEl =\n",
              "            document.querySelector('#df-57349e6d-4ad0-425d-b393-486be68f6fe7 button');\n",
              "          quickchartButtonEl.style.display =\n",
              "            google.colab.kernel.accessAllowed ? 'block' : 'none';\n",
              "        })();\n",
              "      </script>\n",
              "    </div>\n",
              "    </div>\n",
              "  </div>\n"
            ],
            "application/vnd.google.colaboratory.intrinsic+json": {
              "type": "dataframe",
              "variable_name": "train_ratings"
            }
          },
          "metadata": {},
          "execution_count": 11
        }
      ],
      "source": [
        "train_ratings.head()"
      ]
    },
    {
      "cell_type": "code",
      "execution_count": 12,
      "id": "rtV91NkmuizE",
      "metadata": {
        "colab": {
          "base_uri": "https://localhost:8080/",
          "height": 206
        },
        "id": "rtV91NkmuizE",
        "outputId": "ecc9a2da-b683-4fac-97f6-cb08ff3978d1"
      },
      "outputs": [
        {
          "output_type": "execute_result",
          "data": {
            "text/plain": [
              "   userId  trackId\n",
              "0       0    57582\n",
              "1       0    57802\n",
              "2       0    57957\n",
              "3       0    58174\n",
              "4       0    59168"
            ],
            "text/html": [
              "\n",
              "  <div id=\"df-febd8c60-a41d-4369-8698-aff8545c94d0\" class=\"colab-df-container\">\n",
              "    <div>\n",
              "<style scoped>\n",
              "    .dataframe tbody tr th:only-of-type {\n",
              "        vertical-align: middle;\n",
              "    }\n",
              "\n",
              "    .dataframe tbody tr th {\n",
              "        vertical-align: top;\n",
              "    }\n",
              "\n",
              "    .dataframe thead th {\n",
              "        text-align: right;\n",
              "    }\n",
              "</style>\n",
              "<table border=\"1\" class=\"dataframe\">\n",
              "  <thead>\n",
              "    <tr style=\"text-align: right;\">\n",
              "      <th></th>\n",
              "      <th>userId</th>\n",
              "      <th>trackId</th>\n",
              "    </tr>\n",
              "  </thead>\n",
              "  <tbody>\n",
              "    <tr>\n",
              "      <th>0</th>\n",
              "      <td>0</td>\n",
              "      <td>57582</td>\n",
              "    </tr>\n",
              "    <tr>\n",
              "      <th>1</th>\n",
              "      <td>0</td>\n",
              "      <td>57802</td>\n",
              "    </tr>\n",
              "    <tr>\n",
              "      <th>2</th>\n",
              "      <td>0</td>\n",
              "      <td>57957</td>\n",
              "    </tr>\n",
              "    <tr>\n",
              "      <th>3</th>\n",
              "      <td>0</td>\n",
              "      <td>58174</td>\n",
              "    </tr>\n",
              "    <tr>\n",
              "      <th>4</th>\n",
              "      <td>0</td>\n",
              "      <td>59168</td>\n",
              "    </tr>\n",
              "  </tbody>\n",
              "</table>\n",
              "</div>\n",
              "    <div class=\"colab-df-buttons\">\n",
              "\n",
              "  <div class=\"colab-df-container\">\n",
              "    <button class=\"colab-df-convert\" onclick=\"convertToInteractive('df-febd8c60-a41d-4369-8698-aff8545c94d0')\"\n",
              "            title=\"Convert this dataframe to an interactive table.\"\n",
              "            style=\"display:none;\">\n",
              "\n",
              "  <svg xmlns=\"http://www.w3.org/2000/svg\" height=\"24px\" viewBox=\"0 -960 960 960\">\n",
              "    <path d=\"M120-120v-720h720v720H120Zm60-500h600v-160H180v160Zm220 220h160v-160H400v160Zm0 220h160v-160H400v160ZM180-400h160v-160H180v160Zm440 0h160v-160H620v160ZM180-180h160v-160H180v160Zm440 0h160v-160H620v160Z\"/>\n",
              "  </svg>\n",
              "    </button>\n",
              "\n",
              "  <style>\n",
              "    .colab-df-container {\n",
              "      display:flex;\n",
              "      gap: 12px;\n",
              "    }\n",
              "\n",
              "    .colab-df-convert {\n",
              "      background-color: #E8F0FE;\n",
              "      border: none;\n",
              "      border-radius: 50%;\n",
              "      cursor: pointer;\n",
              "      display: none;\n",
              "      fill: #1967D2;\n",
              "      height: 32px;\n",
              "      padding: 0 0 0 0;\n",
              "      width: 32px;\n",
              "    }\n",
              "\n",
              "    .colab-df-convert:hover {\n",
              "      background-color: #E2EBFA;\n",
              "      box-shadow: 0px 1px 2px rgba(60, 64, 67, 0.3), 0px 1px 3px 1px rgba(60, 64, 67, 0.15);\n",
              "      fill: #174EA6;\n",
              "    }\n",
              "\n",
              "    .colab-df-buttons div {\n",
              "      margin-bottom: 4px;\n",
              "    }\n",
              "\n",
              "    [theme=dark] .colab-df-convert {\n",
              "      background-color: #3B4455;\n",
              "      fill: #D2E3FC;\n",
              "    }\n",
              "\n",
              "    [theme=dark] .colab-df-convert:hover {\n",
              "      background-color: #434B5C;\n",
              "      box-shadow: 0px 1px 3px 1px rgba(0, 0, 0, 0.15);\n",
              "      filter: drop-shadow(0px 1px 2px rgba(0, 0, 0, 0.3));\n",
              "      fill: #FFFFFF;\n",
              "    }\n",
              "  </style>\n",
              "\n",
              "    <script>\n",
              "      const buttonEl =\n",
              "        document.querySelector('#df-febd8c60-a41d-4369-8698-aff8545c94d0 button.colab-df-convert');\n",
              "      buttonEl.style.display =\n",
              "        google.colab.kernel.accessAllowed ? 'block' : 'none';\n",
              "\n",
              "      async function convertToInteractive(key) {\n",
              "        const element = document.querySelector('#df-febd8c60-a41d-4369-8698-aff8545c94d0');\n",
              "        const dataTable =\n",
              "          await google.colab.kernel.invokeFunction('convertToInteractive',\n",
              "                                                    [key], {});\n",
              "        if (!dataTable) return;\n",
              "\n",
              "        const docLinkHtml = 'Like what you see? Visit the ' +\n",
              "          '<a target=\"_blank\" href=https://colab.research.google.com/notebooks/data_table.ipynb>data table notebook</a>'\n",
              "          + ' to learn more about interactive tables.';\n",
              "        element.innerHTML = '';\n",
              "        dataTable['output_type'] = 'display_data';\n",
              "        await google.colab.output.renderOutput(dataTable, element);\n",
              "        const docLink = document.createElement('div');\n",
              "        docLink.innerHTML = docLinkHtml;\n",
              "        element.appendChild(docLink);\n",
              "      }\n",
              "    </script>\n",
              "  </div>\n",
              "\n",
              "\n",
              "    <div id=\"df-545940a0-fb3e-4d43-847c-ddf23eecc2c1\">\n",
              "      <button class=\"colab-df-quickchart\" onclick=\"quickchart('df-545940a0-fb3e-4d43-847c-ddf23eecc2c1')\"\n",
              "                title=\"Suggest charts\"\n",
              "                style=\"display:none;\">\n",
              "\n",
              "<svg xmlns=\"http://www.w3.org/2000/svg\" height=\"24px\"viewBox=\"0 0 24 24\"\n",
              "     width=\"24px\">\n",
              "    <g>\n",
              "        <path d=\"M19 3H5c-1.1 0-2 .9-2 2v14c0 1.1.9 2 2 2h14c1.1 0 2-.9 2-2V5c0-1.1-.9-2-2-2zM9 17H7v-7h2v7zm4 0h-2V7h2v10zm4 0h-2v-4h2v4z\"/>\n",
              "    </g>\n",
              "</svg>\n",
              "      </button>\n",
              "\n",
              "<style>\n",
              "  .colab-df-quickchart {\n",
              "      --bg-color: #E8F0FE;\n",
              "      --fill-color: #1967D2;\n",
              "      --hover-bg-color: #E2EBFA;\n",
              "      --hover-fill-color: #174EA6;\n",
              "      --disabled-fill-color: #AAA;\n",
              "      --disabled-bg-color: #DDD;\n",
              "  }\n",
              "\n",
              "  [theme=dark] .colab-df-quickchart {\n",
              "      --bg-color: #3B4455;\n",
              "      --fill-color: #D2E3FC;\n",
              "      --hover-bg-color: #434B5C;\n",
              "      --hover-fill-color: #FFFFFF;\n",
              "      --disabled-bg-color: #3B4455;\n",
              "      --disabled-fill-color: #666;\n",
              "  }\n",
              "\n",
              "  .colab-df-quickchart {\n",
              "    background-color: var(--bg-color);\n",
              "    border: none;\n",
              "    border-radius: 50%;\n",
              "    cursor: pointer;\n",
              "    display: none;\n",
              "    fill: var(--fill-color);\n",
              "    height: 32px;\n",
              "    padding: 0;\n",
              "    width: 32px;\n",
              "  }\n",
              "\n",
              "  .colab-df-quickchart:hover {\n",
              "    background-color: var(--hover-bg-color);\n",
              "    box-shadow: 0 1px 2px rgba(60, 64, 67, 0.3), 0 1px 3px 1px rgba(60, 64, 67, 0.15);\n",
              "    fill: var(--button-hover-fill-color);\n",
              "  }\n",
              "\n",
              "  .colab-df-quickchart-complete:disabled,\n",
              "  .colab-df-quickchart-complete:disabled:hover {\n",
              "    background-color: var(--disabled-bg-color);\n",
              "    fill: var(--disabled-fill-color);\n",
              "    box-shadow: none;\n",
              "  }\n",
              "\n",
              "  .colab-df-spinner {\n",
              "    border: 2px solid var(--fill-color);\n",
              "    border-color: transparent;\n",
              "    border-bottom-color: var(--fill-color);\n",
              "    animation:\n",
              "      spin 1s steps(1) infinite;\n",
              "  }\n",
              "\n",
              "  @keyframes spin {\n",
              "    0% {\n",
              "      border-color: transparent;\n",
              "      border-bottom-color: var(--fill-color);\n",
              "      border-left-color: var(--fill-color);\n",
              "    }\n",
              "    20% {\n",
              "      border-color: transparent;\n",
              "      border-left-color: var(--fill-color);\n",
              "      border-top-color: var(--fill-color);\n",
              "    }\n",
              "    30% {\n",
              "      border-color: transparent;\n",
              "      border-left-color: var(--fill-color);\n",
              "      border-top-color: var(--fill-color);\n",
              "      border-right-color: var(--fill-color);\n",
              "    }\n",
              "    40% {\n",
              "      border-color: transparent;\n",
              "      border-right-color: var(--fill-color);\n",
              "      border-top-color: var(--fill-color);\n",
              "    }\n",
              "    60% {\n",
              "      border-color: transparent;\n",
              "      border-right-color: var(--fill-color);\n",
              "    }\n",
              "    80% {\n",
              "      border-color: transparent;\n",
              "      border-right-color: var(--fill-color);\n",
              "      border-bottom-color: var(--fill-color);\n",
              "    }\n",
              "    90% {\n",
              "      border-color: transparent;\n",
              "      border-bottom-color: var(--fill-color);\n",
              "    }\n",
              "  }\n",
              "</style>\n",
              "\n",
              "      <script>\n",
              "        async function quickchart(key) {\n",
              "          const quickchartButtonEl =\n",
              "            document.querySelector('#' + key + ' button');\n",
              "          quickchartButtonEl.disabled = true;  // To prevent multiple clicks.\n",
              "          quickchartButtonEl.classList.add('colab-df-spinner');\n",
              "          try {\n",
              "            const charts = await google.colab.kernel.invokeFunction(\n",
              "                'suggestCharts', [key], {});\n",
              "          } catch (error) {\n",
              "            console.error('Error during call to suggestCharts:', error);\n",
              "          }\n",
              "          quickchartButtonEl.classList.remove('colab-df-spinner');\n",
              "          quickchartButtonEl.classList.add('colab-df-quickchart-complete');\n",
              "        }\n",
              "        (() => {\n",
              "          let quickchartButtonEl =\n",
              "            document.querySelector('#df-545940a0-fb3e-4d43-847c-ddf23eecc2c1 button');\n",
              "          quickchartButtonEl.style.display =\n",
              "            google.colab.kernel.accessAllowed ? 'block' : 'none';\n",
              "        })();\n",
              "      </script>\n",
              "    </div>\n",
              "    </div>\n",
              "  </div>\n"
            ],
            "application/vnd.google.colaboratory.intrinsic+json": {
              "type": "dataframe",
              "variable_name": "test_ratings",
              "summary": "{\n  \"name\": \"test_ratings\",\n  \"rows\": 6133,\n  \"fields\": [\n    {\n      \"column\": \"userId\",\n      \"properties\": {\n        \"dtype\": \"number\",\n        \"std\": 69,\n        \"min\": 0,\n        \"max\": 240,\n        \"num_unique_values\": 235,\n        \"samples\": [\n          70,\n          213,\n          185\n        ],\n        \"semantic_type\": \"\",\n        \"description\": \"\"\n      }\n    },\n    {\n      \"column\": \"trackId\",\n      \"properties\": {\n        \"dtype\": \"number\",\n        \"std\": 11103,\n        \"min\": 9922,\n        \"max\": 67312,\n        \"num_unique_values\": 3796,\n        \"samples\": [\n          64916,\n          64647,\n          26130\n        ],\n        \"semantic_type\": \"\",\n        \"description\": \"\"\n      }\n    }\n  ]\n}"
            }
          },
          "metadata": {},
          "execution_count": 12
        }
      ],
      "source": [
        "test_ratings.head()"
      ]
    },
    {
      "cell_type": "markdown",
      "id": "COtKDquLRrVV",
      "metadata": {
        "id": "COtKDquLRrVV"
      },
      "source": [
        "Соберем все релевантные треки для каждого пользователя в список."
      ]
    },
    {
      "cell_type": "code",
      "execution_count": 13,
      "id": "UOCGl5rpPrDn",
      "metadata": {
        "id": "UOCGl5rpPrDn"
      },
      "outputs": [],
      "source": [
        "test_relevant = []\n",
        "test_users = []\n",
        "for user_id, user_data in test_ratings.groupby('userId'):\n",
        "    test_relevant += [user_data['trackId'].tolist()]\n",
        "    test_users.append(user_id)"
      ]
    },
    {
      "cell_type": "markdown",
      "id": "3UyBjs1SULH9",
      "metadata": {
        "id": "3UyBjs1SULH9"
      },
      "source": [
        "**Задание 2 (0.5 балла).** Реализуйте метод `get_test_recommendations` в классе `BaseModel`. Он принимает на вход параметр `k` и возвращает массив из `k` наиболее подходящих треков для каждого пользователя. Не забывайте удалять уже прослушанные треки из рекомендуемых."
      ]
    },
    {
      "cell_type": "code",
      "execution_count": 15,
      "id": "sXnUGtM3XOp7",
      "metadata": {
        "id": "sXnUGtM3XOp7"
      },
      "outputs": [],
      "source": [
        "class BaseModel:\n",
        "    def __init__(self, ratings: pd.DataFrame):\n",
        "        self.ratings = ratings\n",
        "        self.n_users = len(np.unique(self.ratings['userId']))\n",
        "        self.n_items = len(np.unique(self.ratings['trackId']))\n",
        "\n",
        "        self.R = np.zeros((self.n_users, self.n_items))\n",
        "        self.R[self.ratings['userId'], self.ratings['trackId']] = 1.\n",
        "\n",
        "    def recommend(self, uid: int):\n",
        "        \"\"\"\n",
        "        param uid: int - user's id\n",
        "        return: [n_items] - vector of recommended items sorted by their scores in descending order\n",
        "        \"\"\"\n",
        "        raise NotImplementedError\n",
        "\n",
        "    def remove_train_items(self, preds: List[List[int]], k: int):\n",
        "        \"\"\"\n",
        "        param preds: [n_users, n_items] - recommended items for each user\n",
        "        param k: int\n",
        "        return: np.array [n_users, k] - recommended items without training examples\n",
        "        \"\"\"\n",
        "        new_preds = np.zeros((len(preds), k), dtype=int)\n",
        "        for user_id, user_data in self.ratings.groupby('userId'):\n",
        "            user_preds = preds[user_id]\n",
        "            new_preds[user_id] = user_preds[~np.in1d(user_preds, user_data['trackId'])][:k]\n",
        "\n",
        "        return new_preds\n",
        "\n",
        "    def get_test_recommendations(self, k: int):\n",
        "        test_preds = []\n",
        "        for user_id in range(self.n_users):\n",
        "            preds = self.recommend(user_id)\n",
        "            test_preds.append(preds)\n",
        "\n",
        "        test_preds = self.remove_train_items(test_preds, k)\n",
        "\n",
        "        return test_preds[test_users]\n",
        "\n",
        ""
      ]
    },
    {
      "cell_type": "markdown",
      "id": "jMdKX1DZ-o4V",
      "metadata": {
        "id": "jMdKX1DZ-o4V"
      },
      "source": [
        "### Часть 1. Коллаборативная фильтрация (User2User)"
      ]
    },
    {
      "cell_type": "markdown",
      "id": "t_ZLzg_0XxVf",
      "metadata": {
        "id": "t_ZLzg_0XxVf"
      },
      "source": [
        "Идея: чтобы выбрать треки, которые понравятся пользователю, можно набрать несколько похожих на него пользователей (соседей) и посмотреть, какие треки они слушают. После этого остается агрегировать треки этих пользователей и выбрать самые популярные. Соответственно, задача состоит из двух частей: выбора функции похожести двух пользователей и способа агрегации.\n",
        "\n",
        "В качестве функции похожести мы будем использовать меру Жаккара:\n",
        "\n",
        "$$ s(u, v) = \\frac{|I_u \\cap I_v|}{|I_u \\cup I_v|} $$\n",
        "\n",
        "\n",
        "Во всех формулах\n",
        "* $I_u$ - множество треков, прослушанных пользователем $u$.\n",
        "* $r_{ui}$ - прослушал ли пользователь $u$ трек $i$ (0 или 1).\n",
        "\n",
        "Множество соседей определим как $$N(u) = \\{ v \\in U \\setminus \\{u\\} \\mid s(u, v) > \\alpha\\},$$ где $\\alpha \\, - $ гиперпараметр.\n",
        "\n",
        "\n",
        "\n",
        "Для агрегации мы будем пользоваться следующей формулой.\n",
        "$$\n",
        "\\hat{r}_{ui} = \\frac{\\sum_{v \\in N(u)} s(u, v) r_{vi}}{\\sum_{v \\in N(u)} |s(u, v)|}\n",
        "$$"
      ]
    },
    {
      "cell_type": "markdown",
      "id": "YJyD1LVTKK9A",
      "metadata": {
        "id": "YJyD1LVTKK9A"
      },
      "source": [
        "**Задание 3.2 (0.5 балла).** Реализуйте функцию подсчета меры Жаккара.\n",
        "\n",
        "Функция принимает матрицу оценок и вектор оценок пользователя $u$ и возвращает вектор со значениями похожести пользователя $u$ на всех пользователей. Старайтесь писать оптимизированный код, за неэффективную реализацию оценка может быть снижена."
      ]
    },
    {
      "cell_type": "code",
      "execution_count": 16,
      "id": "rRvSRm_aWZMR",
      "metadata": {
        "id": "rRvSRm_aWZMR"
      },
      "outputs": [],
      "source": [
        "\n",
        "def jaccard(ratings: np.array, user_vector: np.array) -> np.array:\n",
        "    numerator = ratings@user_vector.T\n",
        "    denominator = np.sum(ratings+user_vector!=0,1)\n",
        "\n",
        "    sim_scores = np.divide(numerator, denominator)\n",
        "    sim_scores[sim_scores == 1] = -1\n",
        "    return sim_scores\n"
      ]
    },
    {
      "cell_type": "markdown",
      "id": "WMLtM7ffNWdx",
      "metadata": {
        "id": "WMLtM7ffNWdx"
      },
      "source": [
        "**Задание 4 (1 балл).** Реализуйте методы `similarity` и `recommend` класса `User2User`. `recommend` возвращает индексы треков, отсортированные в порядке убывания предсказанных оценок. Значение парамметра `alpha` можно менять по своему усмотрению так, чтобы оно было разумным."
      ]
    },
    {
      "cell_type": "code",
      "execution_count": 35,
      "id": "5ZIz0G1RJbXl",
      "metadata": {
        "id": "5ZIz0G1RJbXl"
      },
      "outputs": [],
      "source": [
        "class User2User(BaseModel):\n",
        "    def __init__(self, ratings, similarity_func):\n",
        "        super().__init__(ratings)\n",
        "\n",
        "        assert similarity_func in [jaccard]\n",
        "\n",
        "        self.similarity_func = similarity_func\n",
        "        self.alpha = 0.02\n",
        "\n",
        "    def similarity(self, user_vector: np.array):\n",
        "        \"\"\"\n",
        "        user_vector: [n_items]\n",
        "        \"\"\"\n",
        "        sim_scores = np.asarray(self.similarity_func(self.R,user_vector)).squeeze()\n",
        "        mask = sim_scores > self.alpha\n",
        "        sim_scores = sim_scores[mask]\n",
        "\n",
        "        numerator = sim_scores @ self.R[mask]\n",
        "        denominator = np.sum(sim_scores)\n",
        "\n",
        "        return numerator/denominator\n",
        "\n",
        "\n",
        "\n",
        "    def recommend(self, uid: int):\n",
        "        user_vector = self.R[uid]\n",
        "        similarities = self.similarity(user_vector)\n",
        "        return np.argsort(similarities)[::-1]"
      ]
    },
    {
      "cell_type": "markdown",
      "id": "kqEwJiFOSs2r",
      "metadata": {
        "id": "kqEwJiFOSs2r"
      },
      "source": [
        "**Задание 5 (0.5 балл).** Постройте график зависимости значений $MAP@k$ от разных $k$ при рекомендации на основе меры Жаккара, сравните его с рекомендициями самых популярных треков и случайных. Какой из трех способов рекомендаций оказался лучшим?"
      ]
    },
    {
      "cell_type": "code",
      "source": [
        "track_popularity = train_ratings.groupby('trackId').size().reset_index(name='count')\n",
        "popular_tracks = track_popularity.sort_values('count', ascending=False)['trackId'].tolist()\n"
      ],
      "metadata": {
        "id": "Cblxp3ifgYG3"
      },
      "id": "Cblxp3ifgYG3",
      "execution_count": 36,
      "outputs": []
    },
    {
      "cell_type": "code",
      "execution_count": 37,
      "id": "tyswL-dlNpy7",
      "metadata": {
        "id": "tyswL-dlNpy7",
        "colab": {
          "base_uri": "https://localhost:8080/"
        },
        "outputId": "aa05d563-7f83-40d6-c6a4-3dfa72dbdac5"
      },
      "outputs": [
        {
          "output_type": "stream",
          "name": "stderr",
          "text": [
            "\r  0%|          | 0/14 [00:00<?, ?it/s]<ipython-input-35-411944955>:21: RuntimeWarning: invalid value encountered in divide\n",
            "  return numerator/denominator\n",
            "<ipython-input-15-3316012668>:26: DeprecationWarning: `in1d` is deprecated. Use `np.isin` instead.\n",
            "  new_preds[user_id] = user_preds[~np.in1d(user_preds, user_data['trackId'])][:k]\n",
            "  7%|▋         | 1/14 [00:25<05:36, 25.89s/it]"
          ]
        },
        {
          "output_type": "stream",
          "name": "stdout",
          "text": [
            "Осталось: ~336.6 сек\n"
          ]
        },
        {
          "output_type": "stream",
          "name": "stderr",
          "text": [
            " 14%|█▍        | 2/14 [00:51<05:08, 25.73s/it]"
          ]
        },
        {
          "output_type": "stream",
          "name": "stdout",
          "text": [
            "Осталось: ~309.0 сек\n"
          ]
        },
        {
          "output_type": "stream",
          "name": "stderr",
          "text": [
            " 21%|██▏       | 3/14 [01:17<04:42, 25.70s/it]"
          ]
        },
        {
          "output_type": "stream",
          "name": "stdout",
          "text": [
            "Осталось: ~282.9 сек\n"
          ]
        },
        {
          "output_type": "stream",
          "name": "stderr",
          "text": [
            " 29%|██▊       | 4/14 [01:42<04:16, 25.61s/it]"
          ]
        },
        {
          "output_type": "stream",
          "name": "stdout",
          "text": [
            "Осталось: ~256.6 сек\n"
          ]
        },
        {
          "output_type": "stream",
          "name": "stderr",
          "text": [
            " 36%|███▌      | 5/14 [02:08<03:49, 25.53s/it]"
          ]
        },
        {
          "output_type": "stream",
          "name": "stdout",
          "text": [
            "Осталось: ~230.5 сек\n"
          ]
        },
        {
          "output_type": "stream",
          "name": "stderr",
          "text": [
            " 43%|████▎     | 6/14 [02:33<03:24, 25.57s/it]"
          ]
        },
        {
          "output_type": "stream",
          "name": "stdout",
          "text": [
            "Осталось: ~204.9 сек\n"
          ]
        },
        {
          "output_type": "stream",
          "name": "stderr",
          "text": [
            " 50%|█████     | 7/14 [02:59<02:59, 25.57s/it]"
          ]
        },
        {
          "output_type": "stream",
          "name": "stdout",
          "text": [
            "Осталось: ~179.3 сек\n"
          ]
        },
        {
          "output_type": "stream",
          "name": "stderr",
          "text": [
            " 57%|█████▋    | 8/14 [03:24<02:31, 25.32s/it]"
          ]
        },
        {
          "output_type": "stream",
          "name": "stdout",
          "text": [
            "Осталось: ~153.0 сек\n"
          ]
        },
        {
          "output_type": "stream",
          "name": "stderr",
          "text": [
            " 64%|██████▍   | 9/14 [03:48<02:05, 25.04s/it]"
          ]
        },
        {
          "output_type": "stream",
          "name": "stdout",
          "text": [
            "Осталось: ~126.9 сек\n"
          ]
        },
        {
          "output_type": "stream",
          "name": "stderr",
          "text": [
            " 71%|███████▏  | 10/14 [04:13<01:40, 25.06s/it]"
          ]
        },
        {
          "output_type": "stream",
          "name": "stdout",
          "text": [
            "Осталось: ~101.4 сек\n"
          ]
        },
        {
          "output_type": "stream",
          "name": "stderr",
          "text": [
            " 79%|███████▊  | 11/14 [04:38<01:15, 25.17s/it]"
          ]
        },
        {
          "output_type": "stream",
          "name": "stdout",
          "text": [
            "Осталось: ~76.1 сек\n"
          ]
        },
        {
          "output_type": "stream",
          "name": "stderr",
          "text": [
            " 86%|████████▌ | 12/14 [05:04<00:50, 25.32s/it]"
          ]
        },
        {
          "output_type": "stream",
          "name": "stdout",
          "text": [
            "Осталось: ~50.8 сек\n"
          ]
        },
        {
          "output_type": "stream",
          "name": "stderr",
          "text": [
            " 93%|█████████▎| 13/14 [05:30<00:25, 25.43s/it]"
          ]
        },
        {
          "output_type": "stream",
          "name": "stdout",
          "text": [
            "Осталось: ~25.4 сек\n"
          ]
        },
        {
          "output_type": "stream",
          "name": "stderr",
          "text": [
            "100%|██████████| 14/14 [05:56<00:00, 25.43s/it]"
          ]
        },
        {
          "output_type": "stream",
          "name": "stdout",
          "text": [
            "Осталось: ~0.0 сек\n"
          ]
        },
        {
          "output_type": "stream",
          "name": "stderr",
          "text": [
            "\n"
          ]
        }
      ],
      "source": [
        "from random import sample\n",
        "from tqdm import tqdm\n",
        "import time\n",
        "\n",
        "k_val = list(range(1,15))\n",
        "\n",
        "\n",
        "\n",
        "mapk_jaccard = []\n",
        "mapk_random = []\n",
        "mapk_popular = []\n",
        "\n",
        "\n",
        "\n",
        "model_jaccard = User2User(train_ratings, jaccard)\n",
        "\n",
        "\n",
        "\n",
        "n_user = model_jaccard.n_users\n",
        "all_tracks = list(range(model_jaccard.n_items))\n",
        "start_time = time.time()\n",
        "\n",
        "for k in tqdm(k_val):\n",
        "\n",
        "    recomends_jaccard = model_jaccard.get_test_recommendations(k)\n",
        "\n",
        "    recomends_random = []\n",
        "\n",
        "    for _ in range(n_user):\n",
        "        recomends_random.append(sample(all_tracks, k))\n",
        "\n",
        "    recomends_popular = [popular_tracks[:k] for _ in range(n_user)]\n",
        "\n",
        "\n",
        "    map_j = mapk(test_relevant, recomends_jaccard, k)\n",
        "    map_r = mapk(test_relevant, recomends_random, k)\n",
        "    map_p = mapk(test_relevant, recomends_popular, k)\n",
        "\n",
        "\n",
        "    mapk_jaccard.append(map_j)\n",
        "    mapk_random.append(map_r)\n",
        "    mapk_popular.append(map_p)\n",
        "\n",
        "    elapsed = time.time() - start_time\n",
        "    avg_time = elapsed / (k_val.index(k) + 1)\n",
        "    remaining = avg_time * (len(k_val) - k_val.index(k) - 1)\n",
        "    tqdm.write(f\"Осталось: ~{remaining:.1f} сек\")\n"
      ]
    },
    {
      "cell_type": "code",
      "source": [
        "plt.figure(figsize=(10, 6))\n",
        "\n",
        "plt.plot(k_val, mapk_jaccard, marker='s', label='User2User Jaccard')\n",
        "plt.plot(k_val, mapk_random, marker='o', label='User2User Random')\n",
        "plt.plot(k_val, mapk_popular, marker='^', label='Most Popular')\n",
        "\n",
        "plt.xlabel('k')\n",
        "plt.ylabel('MAP@k')\n",
        "plt.title('Сравнение качества рекомендаций (MAP@k)')\n",
        "plt.grid(True)\n",
        "plt.legend()\n",
        "plt.show()"
      ],
      "metadata": {
        "colab": {
          "base_uri": "https://localhost:8080/",
          "height": 584
        },
        "id": "L4d_00lWdsVj",
        "outputId": "6d44931a-38df-4ebb-efc3-a85de60b668a"
      },
      "id": "L4d_00lWdsVj",
      "execution_count": 38,
      "outputs": [
        {
          "output_type": "display_data",
          "data": {
            "text/plain": [
              "<Figure size 1000x600 with 1 Axes>"
            ],
            "image/png": "[encoded data removed]"
          },
          "metadata": {}
        }
      ]
    },
    {
      "cell_type": "markdown",
      "source": [
        "Как мы можем заметить, лучше всех проявила себя такая функция схожести, как Жаккара, поэтому далее будем использовать ее."
      ],
      "metadata": {
        "id": "OTQ5JzZKj8cG"
      },
      "id": "OTQ5JzZKj8cG"
    },
    {
      "cell_type": "markdown",
      "id": "0Fy7v-b-WDQE",
      "metadata": {
        "id": "0Fy7v-b-WDQE"
      },
      "source": [
        "**Бонус (1 балла).** Как вы могли заметить, матрица оценок получается очень разреженной, но мы работаем с ней как с обычной, это не дело. Перепишите код так, чтобы все методы могли работать с разреженными матрицами и сравните скорость работы такого подхода с оригинальным."
      ]
    },
    {
      "cell_type": "code",
      "execution_count": 39,
      "id": "4jQiwrTbW_DL",
      "metadata": {
        "id": "4jQiwrTbW_DL",
        "colab": {
          "base_uri": "https://localhost:8080/"
        },
        "outputId": "e17cec93-0304-4ce1-9caa-9102007afd75"
      },
      "outputs": [
        {
          "output_type": "stream",
          "name": "stderr",
          "text": [
            "<ipython-input-35-411944955>:21: RuntimeWarning: invalid value encountered in divide\n",
            "  return numerator/denominator\n",
            "<ipython-input-15-3316012668>:26: DeprecationWarning: `in1d` is deprecated. Use `np.isin` instead.\n",
            "  new_preds[user_id] = user_preds[~np.in1d(user_preds, user_data['trackId'])][:k]\n"
          ]
        },
        {
          "output_type": "stream",
          "name": "stdout",
          "text": [
            "Base time: 27.767235279083252\n"
          ]
        }
      ],
      "source": [
        "\n",
        "start = time.time()\n",
        "model_d = User2User(ratings, similarity_func=jaccard)\n",
        "model_d.get_test_recommendations(k=14)\n",
        "print(\"Base time:\", time.time() - start)"
      ]
    },
    {
      "cell_type": "code",
      "source": [
        "from scipy.sparse import csr_matrix"
      ],
      "metadata": {
        "id": "SqDym_Zzil-u"
      },
      "id": "SqDym_Zzil-u",
      "execution_count": 40,
      "outputs": []
    },
    {
      "cell_type": "code",
      "source": [
        "\n",
        "class User2User_improved(BaseModel):\n",
        "    def __init__(self, ratings, similarity_func):\n",
        "        super().__init__(ratings)\n",
        "\n",
        "        assert similarity_func in [jaccard]\n",
        "\n",
        "        self.similarity_func = similarity_func\n",
        "        self.alpha = 0.02\n",
        "        self.R = csr_matrix(self.R) # чтобы полностью с разреженной не работать\n",
        "\n",
        "    def similarity(self, user_vector: np.array):\n",
        "        \"\"\"\n",
        "        user_vector: [n_items]\n",
        "        \"\"\"\n",
        "        user_vector = user_vector.toarray()\n",
        "        sim_scores = np.asarray(self.similarity_func(self.R,user_vector)).squeeze()\n",
        "        mask = sim_scores > self.alpha\n",
        "        sim_scores = sim_scores[mask]\n",
        "\n",
        "        numerator = sim_scores @ self.R[mask]\n",
        "        denominator = np.sum(sim_scores)\n",
        "\n",
        "        return numerator/denominator\n",
        "\n",
        "\n",
        "\n",
        "    def recommend(self, uid: int):\n",
        "        user_vector = self.R[uid]\n",
        "        similarities = self.similarity(user_vector)\n",
        "        return np.argsort(similarities)[::-1]\n"
      ],
      "metadata": {
        "id": "VrTHsdSmipPL"
      },
      "id": "VrTHsdSmipPL",
      "execution_count": 44,
      "outputs": []
    },
    {
      "cell_type": "code",
      "source": [
        "start = time.time()\n",
        "model = User2User_improved(ratings, similarity_func=jaccard)\n",
        "model.get_test_recommendations(k=14)\n",
        "print(\"Base time:\", time.time() - start)"
      ],
      "metadata": {
        "colab": {
          "base_uri": "https://localhost:8080/"
        },
        "id": "v3RBL7rQkaPk",
        "outputId": "0c088e88-dff3-4ce7-dcca-cfa1d74b7920"
      },
      "id": "v3RBL7rQkaPk",
      "execution_count": 45,
      "outputs": [
        {
          "output_type": "stream",
          "name": "stderr",
          "text": [
            "<ipython-input-44-1838412362>:23: RuntimeWarning: invalid value encountered in divide\n",
            "  return numerator/denominator\n",
            "<ipython-input-15-3316012668>:26: DeprecationWarning: `in1d` is deprecated. Use `np.isin` instead.\n",
            "  new_preds[user_id] = user_preds[~np.in1d(user_preds, user_data['trackId'])][:k]\n"
          ]
        },
        {
          "output_type": "stream",
          "name": "stdout",
          "text": [
            "Base time: 17.763691663742065\n"
          ]
        }
      ]
    },
    {
      "cell_type": "markdown",
      "source": [
        "Результаты наглядно показывают, что улучшенный метод сильно позволил сэкономить время, так мы работаем не полностью с разреженной матрицей, а только с ненулевыми элементами.\n",
        "\n"
      ],
      "metadata": {
        "id": "LID6QrcLmOXN"
      },
      "id": "LID6QrcLmOXN"
    },
    {
      "cell_type": "markdown",
      "id": "DmuMhWS4CEFe",
      "metadata": {
        "id": "DmuMhWS4CEFe"
      },
      "source": [
        "Мы можем посмотреть глазами, насколько хорошо модель рекомендует треки. Для этого сравним уже прослушанные треки с рекомендованными и релевантными для случайного пользователя. Хорошо ли у вас получилось?"
      ]
    },
    {
      "cell_type": "code",
      "execution_count": 120,
      "id": "QAHDWgHfkCQh",
      "metadata": {
        "id": "QAHDWgHfkCQh"
      },
      "outputs": [],
      "source": [
        "user_id = np.random.randint(0, model.n_users)"
      ]
    },
    {
      "cell_type": "code",
      "execution_count": 121,
      "id": "_d3tafMuko5O",
      "metadata": {
        "colab": {
          "base_uri": "https://localhost:8080/",
          "height": 538
        },
        "id": "_d3tafMuko5O",
        "outputId": "f8a48778-9498-4ccd-cf42-ce7bf904e25a"
      },
      "outputs": [
        {
          "output_type": "stream",
          "name": "stdout",
          "text": [
            "Already listened tracks:\n"
          ]
        },
        {
          "output_type": "execute_result",
          "data": {
            "text/plain": [
              "                          name  \\\n",
              "234             Wind Of Change   \n",
              "396   The Phantom Of The Opera   \n",
              "411                  Don't Cry   \n",
              "422                       Stan   \n",
              "474                Tom's Diner   \n",
              "729                  Mama Said   \n",
              "730            Until It Sleeps   \n",
              "735           Here Without You   \n",
              "760             Wonderful Life   \n",
              "846           Send Me An Angel   \n",
              "857          The Unforgiven II   \n",
              "932                     Mutter   \n",
              "933                      Sonne   \n",
              "1012                Wishmaster   \n",
              "1073   Smells Like Teen Spirit   \n",
              "\n",
              "                                                artists  \n",
              "234                                       ['Scorpions']  \n",
              "396                ['Nightwish', 'Andrew Lloyd Webber']  \n",
              "411                                   [\"Guns N' Roses\"]  \n",
              "422                                  ['Eminem', 'Dido']  \n",
              "474   ['DNA', 'Suzanne Vega', 'Nick Batt', 'Neal Sla...  \n",
              "729                                       ['Metallica']  \n",
              "730                                       ['Metallica']  \n",
              "735                                    ['3 Doors Down']  \n",
              "760                                           ['Black']  \n",
              "846                                       ['Scorpions']  \n",
              "857                                       ['Metallica']  \n",
              "932                                       ['Rammstein']  \n",
              "933                                       ['Rammstein']  \n",
              "1012                                      ['Nightwish']  \n",
              "1073                                        ['Nirvana']  "
            ],
            "text/html": [
              "\n",
              "  <div id=\"df-c8d9ecef-7895-4c65-befe-231602c8e222\" class=\"colab-df-container\">\n",
              "    <div>\n",
              "<style scoped>\n",
              "    .dataframe tbody tr th:only-of-type {\n",
              "        vertical-align: middle;\n",
              "    }\n",
              "\n",
              "    .dataframe tbody tr th {\n",
              "        vertical-align: top;\n",
              "    }\n",
              "\n",
              "    .dataframe thead th {\n",
              "        text-align: right;\n",
              "    }\n",
              "</style>\n",
              "<table border=\"1\" class=\"dataframe\">\n",
              "  <thead>\n",
              "    <tr style=\"text-align: right;\">\n",
              "      <th></th>\n",
              "      <th>name</th>\n",
              "      <th>artists</th>\n",
              "    </tr>\n",
              "  </thead>\n",
              "  <tbody>\n",
              "    <tr>\n",
              "      <th>234</th>\n",
              "      <td>Wind Of Change</td>\n",
              "      <td>['Scorpions']</td>\n",
              "    </tr>\n",
              "    <tr>\n",
              "      <th>396</th>\n",
              "      <td>The Phantom Of The Opera</td>\n",
              "      <td>['Nightwish', 'Andrew Lloyd Webber']</td>\n",
              "    </tr>\n",
              "    <tr>\n",
              "      <th>411</th>\n",
              "      <td>Don't Cry</td>\n",
              "      <td>[\"Guns N' Roses\"]</td>\n",
              "    </tr>\n",
              "    <tr>\n",
              "      <th>422</th>\n",
              "      <td>Stan</td>\n",
              "      <td>['Eminem', 'Dido']</td>\n",
              "    </tr>\n",
              "    <tr>\n",
              "      <th>474</th>\n",
              "      <td>Tom's Diner</td>\n",
              "      <td>['DNA', 'Suzanne Vega', 'Nick Batt', 'Neal Sla...</td>\n",
              "    </tr>\n",
              "    <tr>\n",
              "      <th>729</th>\n",
              "      <td>Mama Said</td>\n",
              "      <td>['Metallica']</td>\n",
              "    </tr>\n",
              "    <tr>\n",
              "      <th>730</th>\n",
              "      <td>Until It Sleeps</td>\n",
              "      <td>['Metallica']</td>\n",
              "    </tr>\n",
              "    <tr>\n",
              "      <th>735</th>\n",
              "      <td>Here Without You</td>\n",
              "      <td>['3 Doors Down']</td>\n",
              "    </tr>\n",
              "    <tr>\n",
              "      <th>760</th>\n",
              "      <td>Wonderful Life</td>\n",
              "      <td>['Black']</td>\n",
              "    </tr>\n",
              "    <tr>\n",
              "      <th>846</th>\n",
              "      <td>Send Me An Angel</td>\n",
              "      <td>['Scorpions']</td>\n",
              "    </tr>\n",
              "    <tr>\n",
              "      <th>857</th>\n",
              "      <td>The Unforgiven II</td>\n",
              "      <td>['Metallica']</td>\n",
              "    </tr>\n",
              "    <tr>\n",
              "      <th>932</th>\n",
              "      <td>Mutter</td>\n",
              "      <td>['Rammstein']</td>\n",
              "    </tr>\n",
              "    <tr>\n",
              "      <th>933</th>\n",
              "      <td>Sonne</td>\n",
              "      <td>['Rammstein']</td>\n",
              "    </tr>\n",
              "    <tr>\n",
              "      <th>1012</th>\n",
              "      <td>Wishmaster</td>\n",
              "      <td>['Nightwish']</td>\n",
              "    </tr>\n",
              "    <tr>\n",
              "      <th>1073</th>\n",
              "      <td>Smells Like Teen Spirit</td>\n",
              "      <td>['Nirvana']</td>\n",
              "    </tr>\n",
              "  </tbody>\n",
              "</table>\n",
              "</div>\n",
              "    <div class=\"colab-df-buttons\">\n",
              "\n",
              "  <div class=\"colab-df-container\">\n",
              "    <button class=\"colab-df-convert\" onclick=\"convertToInteractive('df-c8d9ecef-7895-4c65-befe-231602c8e222')\"\n",
              "            title=\"Convert this dataframe to an interactive table.\"\n",
              "            style=\"display:none;\">\n",
              "\n",
              "  <svg xmlns=\"http://www.w3.org/2000/svg\" height=\"24px\" viewBox=\"0 -960 960 960\">\n",
              "    <path d=\"M120-120v-720h720v720H120Zm60-500h600v-160H180v160Zm220 220h160v-160H400v160Zm0 220h160v-160H400v160ZM180-400h160v-160H180v160Zm440 0h160v-160H620v160ZM180-180h160v-160H180v160Zm440 0h160v-160H620v160Z\"/>\n",
              "  </svg>\n",
              "    </button>\n",
              "\n",
              "  <style>\n",
              "    .colab-df-container {\n",
              "      display:flex;\n",
              "      gap: 12px;\n",
              "    }\n",
              "\n",
              "    .colab-df-convert {\n",
              "      background-color: #E8F0FE;\n",
              "      border: none;\n",
              "      border-radius: 50%;\n",
              "      cursor: pointer;\n",
              "      display: none;\n",
              "      fill: #1967D2;\n",
              "      height: 32px;\n",
              "      padding: 0 0 0 0;\n",
              "      width: 32px;\n",
              "    }\n",
              "\n",
              "    .colab-df-convert:hover {\n",
              "      background-color: #E2EBFA;\n",
              "      box-shadow: 0px 1px 2px rgba(60, 64, 67, 0.3), 0px 1px 3px 1px rgba(60, 64, 67, 0.15);\n",
              "      fill: #174EA6;\n",
              "    }\n",
              "\n",
              "    .colab-df-buttons div {\n",
              "      margin-bottom: 4px;\n",
              "    }\n",
              "\n",
              "    [theme=dark] .colab-df-convert {\n",
              "      background-color: #3B4455;\n",
              "      fill: #D2E3FC;\n",
              "    }\n",
              "\n",
              "    [theme=dark] .colab-df-convert:hover {\n",
              "      background-color: #434B5C;\n",
              "      box-shadow: 0px 1px 3px 1px rgba(0, 0, 0, 0.15);\n",
              "      filter: drop-shadow(0px 1px 2px rgba(0, 0, 0, 0.3));\n",
              "      fill: #FFFFFF;\n",
              "    }\n",
              "  </style>\n",
              "\n",
              "    <script>\n",
              "      const buttonEl =\n",
              "        document.querySelector('#df-c8d9ecef-7895-4c65-befe-231602c8e222 button.colab-df-convert');\n",
              "      buttonEl.style.display =\n",
              "        google.colab.kernel.accessAllowed ? 'block' : 'none';\n",
              "\n",
              "      async function convertToInteractive(key) {\n",
              "        const element = document.querySelector('#df-c8d9ecef-7895-4c65-befe-231602c8e222');\n",
              "        const dataTable =\n",
              "          await google.colab.kernel.invokeFunction('convertToInteractive',\n",
              "                                                    [key], {});\n",
              "        if (!dataTable) return;\n",
              "\n",
              "        const docLinkHtml = 'Like what you see? Visit the ' +\n",
              "          '<a target=\"_blank\" href=https://colab.research.google.com/notebooks/data_table.ipynb>data table notebook</a>'\n",
              "          + ' to learn more about interactive tables.';\n",
              "        element.innerHTML = '';\n",
              "        dataTable['output_type'] = 'display_data';\n",
              "        await google.colab.output.renderOutput(dataTable, element);\n",
              "        const docLink = document.createElement('div');\n",
              "        docLink.innerHTML = docLinkHtml;\n",
              "        element.appendChild(docLink);\n",
              "      }\n",
              "    </script>\n",
              "  </div>\n",
              "\n",
              "\n",
              "    <div id=\"df-bcb27d78-be46-4bc9-a7d0-8277990eb1cc\">\n",
              "      <button class=\"colab-df-quickchart\" onclick=\"quickchart('df-bcb27d78-be46-4bc9-a7d0-8277990eb1cc')\"\n",
              "                title=\"Suggest charts\"\n",
              "                style=\"display:none;\">\n",
              "\n",
              "<svg xmlns=\"http://www.w3.org/2000/svg\" height=\"24px\"viewBox=\"0 0 24 24\"\n",
              "     width=\"24px\">\n",
              "    <g>\n",
              "        <path d=\"M19 3H5c-1.1 0-2 .9-2 2v14c0 1.1.9 2 2 2h14c1.1 0 2-.9 2-2V5c0-1.1-.9-2-2-2zM9 17H7v-7h2v7zm4 0h-2V7h2v10zm4 0h-2v-4h2v4z\"/>\n",
              "    </g>\n",
              "</svg>\n",
              "      </button>\n",
              "\n",
              "<style>\n",
              "  .colab-df-quickchart {\n",
              "      --bg-color: #E8F0FE;\n",
              "      --fill-color: #1967D2;\n",
              "      --hover-bg-color: #E2EBFA;\n",
              "      --hover-fill-color: #174EA6;\n",
              "      --disabled-fill-color: #AAA;\n",
              "      --disabled-bg-color: #DDD;\n",
              "  }\n",
              "\n",
              "  [theme=dark] .colab-df-quickchart {\n",
              "      --bg-color: #3B4455;\n",
              "      --fill-color: #D2E3FC;\n",
              "      --hover-bg-color: #434B5C;\n",
              "      --hover-fill-color: #FFFFFF;\n",
              "      --disabled-bg-color: #3B4455;\n",
              "      --disabled-fill-color: #666;\n",
              "  }\n",
              "\n",
              "  .colab-df-quickchart {\n",
              "    background-color: var(--bg-color);\n",
              "    border: none;\n",
              "    border-radius: 50%;\n",
              "    cursor: pointer;\n",
              "    display: none;\n",
              "    fill: var(--fill-color);\n",
              "    height: 32px;\n",
              "    padding: 0;\n",
              "    width: 32px;\n",
              "  }\n",
              "\n",
              "  .colab-df-quickchart:hover {\n",
              "    background-color: var(--hover-bg-color);\n",
              "    box-shadow: 0 1px 2px rgba(60, 64, 67, 0.3), 0 1px 3px 1px rgba(60, 64, 67, 0.15);\n",
              "    fill: var(--button-hover-fill-color);\n",
              "  }\n",
              "\n",
              "  .colab-df-quickchart-complete:disabled,\n",
              "  .colab-df-quickchart-complete:disabled:hover {\n",
              "    background-color: var(--disabled-bg-color);\n",
              "    fill: var(--disabled-fill-color);\n",
              "    box-shadow: none;\n",
              "  }\n",
              "\n",
              "  .colab-df-spinner {\n",
              "    border: 2px solid var(--fill-color);\n",
              "    border-color: transparent;\n",
              "    border-bottom-color: var(--fill-color);\n",
              "    animation:\n",
              "      spin 1s steps(1) infinite;\n",
              "  }\n",
              "\n",
              "  @keyframes spin {\n",
              "    0% {\n",
              "      border-color: transparent;\n",
              "      border-bottom-color: var(--fill-color);\n",
              "      border-left-color: var(--fill-color);\n",
              "    }\n",
              "    20% {\n",
              "      border-color: transparent;\n",
              "      border-left-color: var(--fill-color);\n",
              "      border-top-color: var(--fill-color);\n",
              "    }\n",
              "    30% {\n",
              "      border-color: transparent;\n",
              "      border-left-color: var(--fill-color);\n",
              "      border-top-color: var(--fill-color);\n",
              "      border-right-color: var(--fill-color);\n",
              "    }\n",
              "    40% {\n",
              "      border-color: transparent;\n",
              "      border-right-color: var(--fill-color);\n",
              "      border-top-color: var(--fill-color);\n",
              "    }\n",
              "    60% {\n",
              "      border-color: transparent;\n",
              "      border-right-color: var(--fill-color);\n",
              "    }\n",
              "    80% {\n",
              "      border-color: transparent;\n",
              "      border-right-color: var(--fill-color);\n",
              "      border-bottom-color: var(--fill-color);\n",
              "    }\n",
              "    90% {\n",
              "      border-color: transparent;\n",
              "      border-bottom-color: var(--fill-color);\n",
              "    }\n",
              "  }\n",
              "</style>\n",
              "\n",
              "      <script>\n",
              "        async function quickchart(key) {\n",
              "          const quickchartButtonEl =\n",
              "            document.querySelector('#' + key + ' button');\n",
              "          quickchartButtonEl.disabled = true;  // To prevent multiple clicks.\n",
              "          quickchartButtonEl.classList.add('colab-df-spinner');\n",
              "          try {\n",
              "            const charts = await google.colab.kernel.invokeFunction(\n",
              "                'suggestCharts', [key], {});\n",
              "          } catch (error) {\n",
              "            console.error('Error during call to suggestCharts:', error);\n",
              "          }\n",
              "          quickchartButtonEl.classList.remove('colab-df-spinner');\n",
              "          quickchartButtonEl.classList.add('colab-df-quickchart-complete');\n",
              "        }\n",
              "        (() => {\n",
              "          let quickchartButtonEl =\n",
              "            document.querySelector('#df-bcb27d78-be46-4bc9-a7d0-8277990eb1cc button');\n",
              "          quickchartButtonEl.style.display =\n",
              "            google.colab.kernel.accessAllowed ? 'block' : 'none';\n",
              "        })();\n",
              "      </script>\n",
              "    </div>\n",
              "    </div>\n",
              "  </div>\n"
            ],
            "application/vnd.google.colaboratory.intrinsic+json": {
              "type": "dataframe",
              "summary": "{\n  \"name\": \"tracks_info\",\n  \"rows\": 15,\n  \"fields\": [\n    {\n      \"column\": \"name\",\n      \"properties\": {\n        \"dtype\": \"string\",\n        \"num_unique_values\": 15,\n        \"samples\": [\n          \"Send Me An Angel\",\n          \"Mutter\",\n          \"Wind Of Change\"\n        ],\n        \"semantic_type\": \"\",\n        \"description\": \"\"\n      }\n    },\n    {\n      \"column\": \"artists\",\n      \"properties\": {\n        \"dtype\": \"string\",\n        \"num_unique_values\": 11,\n        \"samples\": [\n          \"['Metallica']\",\n          \"['Scorpions']\",\n          \"['Nightwish']\"\n        ],\n        \"semantic_type\": \"\",\n        \"description\": \"\"\n      }\n    }\n  ]\n}"
            }
          },
          "metadata": {},
          "execution_count": 121
        }
      ],
      "source": [
        "listened_tracks = train_ratings[train_ratings.userId == user_id].trackId[:15]\n",
        "\n",
        "print('Already listened tracks:')\n",
        "\n",
        "tracks_info.loc[listened_tracks][['name', 'artists']]"
      ]
    },
    {
      "cell_type": "code",
      "execution_count": 122,
      "id": "t0jACzw6ko5P",
      "metadata": {
        "colab": {
          "base_uri": "https://localhost:8080/",
          "height": 611
        },
        "id": "t0jACzw6ko5P",
        "outputId": "f138e821-92f9-4528-8a5a-b6d9db73c3e9"
      },
      "outputs": [
        {
          "output_type": "stream",
          "name": "stderr",
          "text": [
            "<ipython-input-44-1838412362>:23: RuntimeWarning: invalid value encountered in divide\n",
            "  return numerator/denominator\n",
            "<ipython-input-15-3316012668>:26: DeprecationWarning: `in1d` is deprecated. Use `np.isin` instead.\n",
            "  new_preds[user_id] = user_preds[~np.in1d(user_preds, user_data['trackId'])][:k]\n"
          ]
        },
        {
          "output_type": "stream",
          "name": "stdout",
          "text": [
            "Predicted tracks:\n"
          ]
        },
        {
          "output_type": "execute_result",
          "data": {
            "text/plain": [
              "                                                    name               artists\n",
              "805                                               Zombie   ['The Cranberries']\n",
              "1019                                        It's My Life          ['Bon Jovi']\n",
              "1056                                         Don't Speak          ['No Doubt']\n",
              "50187                                             Norupo           ['Heilung']\n",
              "11502                             Baby, Its Cold Outside  ['Rosemary Clooney']\n",
              "7533                                     Highway to Hell             ['AC/DC']\n",
              "5653                                      Мой рок-н-ролл              ['Би-2']\n",
              "8263                                   Shape Of My Heart             ['Sting']\n",
              "40583                                           Only You            ['Savage']\n",
              "9694                                    We Will Rock You             ['Queen']\n",
              "164                                    My Favourite Game     ['The Cardigans']\n",
              "7780                                              ИСКАЛА           ['Земфира']\n",
              "5521                           Полковнику никто не пишет              ['Би-2']\n",
              "10287  В думах о девушке из города центрального подчи...      ['Мумий Тролль']\n",
              "15269                                          Древесина            ['Палево']"
            ],
            "text/html": [
              "\n",
              "  <div id=\"df-6af3d529-ae32-4fea-b046-687e66b79de0\" class=\"colab-df-container\">\n",
              "    <div>\n",
              "<style scoped>\n",
              "    .dataframe tbody tr th:only-of-type {\n",
              "        vertical-align: middle;\n",
              "    }\n",
              "\n",
              "    .dataframe tbody tr th {\n",
              "        vertical-align: top;\n",
              "    }\n",
              "\n",
              "    .dataframe thead th {\n",
              "        text-align: right;\n",
              "    }\n",
              "</style>\n",
              "<table border=\"1\" class=\"dataframe\">\n",
              "  <thead>\n",
              "    <tr style=\"text-align: right;\">\n",
              "      <th></th>\n",
              "      <th>name</th>\n",
              "      <th>artists</th>\n",
              "    </tr>\n",
              "  </thead>\n",
              "  <tbody>\n",
              "    <tr>\n",
              "      <th>805</th>\n",
              "      <td>Zombie</td>\n",
              "      <td>['The Cranberries']</td>\n",
              "    </tr>\n",
              "    <tr>\n",
              "      <th>1019</th>\n",
              "      <td>It's My Life</td>\n",
              "      <td>['Bon Jovi']</td>\n",
              "    </tr>\n",
              "    <tr>\n",
              "      <th>1056</th>\n",
              "      <td>Don't Speak</td>\n",
              "      <td>['No Doubt']</td>\n",
              "    </tr>\n",
              "    <tr>\n",
              "      <th>50187</th>\n",
              "      <td>Norupo</td>\n",
              "      <td>['Heilung']</td>\n",
              "    </tr>\n",
              "    <tr>\n",
              "      <th>11502</th>\n",
              "      <td>Baby, Its Cold Outside</td>\n",
              "      <td>['Rosemary Clooney']</td>\n",
              "    </tr>\n",
              "    <tr>\n",
              "      <th>7533</th>\n",
              "      <td>Highway to Hell</td>\n",
              "      <td>['AC/DC']</td>\n",
              "    </tr>\n",
              "    <tr>\n",
              "      <th>5653</th>\n",
              "      <td>Мой рок-н-ролл</td>\n",
              "      <td>['Би-2']</td>\n",
              "    </tr>\n",
              "    <tr>\n",
              "      <th>8263</th>\n",
              "      <td>Shape Of My Heart</td>\n",
              "      <td>['Sting']</td>\n",
              "    </tr>\n",
              "    <tr>\n",
              "      <th>40583</th>\n",
              "      <td>Only You</td>\n",
              "      <td>['Savage']</td>\n",
              "    </tr>\n",
              "    <tr>\n",
              "      <th>9694</th>\n",
              "      <td>We Will Rock You</td>\n",
              "      <td>['Queen']</td>\n",
              "    </tr>\n",
              "    <tr>\n",
              "      <th>164</th>\n",
              "      <td>My Favourite Game</td>\n",
              "      <td>['The Cardigans']</td>\n",
              "    </tr>\n",
              "    <tr>\n",
              "      <th>7780</th>\n",
              "      <td>ИСКАЛА</td>\n",
              "      <td>['Земфира']</td>\n",
              "    </tr>\n",
              "    <tr>\n",
              "      <th>5521</th>\n",
              "      <td>Полковнику никто не пишет</td>\n",
              "      <td>['Би-2']</td>\n",
              "    </tr>\n",
              "    <tr>\n",
              "      <th>10287</th>\n",
              "      <td>В думах о девушке из города центрального подчи...</td>\n",
              "      <td>['Мумий Тролль']</td>\n",
              "    </tr>\n",
              "    <tr>\n",
              "      <th>15269</th>\n",
              "      <td>Древесина</td>\n",
              "      <td>['Палево']</td>\n",
              "    </tr>\n",
              "  </tbody>\n",
              "</table>\n",
              "</div>\n",
              "    <div class=\"colab-df-buttons\">\n",
              "\n",
              "  <div class=\"colab-df-container\">\n",
              "    <button class=\"colab-df-convert\" onclick=\"convertToInteractive('df-6af3d529-ae32-4fea-b046-687e66b79de0')\"\n",
              "            title=\"Convert this dataframe to an interactive table.\"\n",
              "            style=\"display:none;\">\n",
              "\n",
              "  <svg xmlns=\"http://www.w3.org/2000/svg\" height=\"24px\" viewBox=\"0 -960 960 960\">\n",
              "    <path d=\"M120-120v-720h720v720H120Zm60-500h600v-160H180v160Zm220 220h160v-160H400v160Zm0 220h160v-160H400v160ZM180-400h160v-160H180v160Zm440 0h160v-160H620v160ZM180-180h160v-160H180v160Zm440 0h160v-160H620v160Z\"/>\n",
              "  </svg>\n",
              "    </button>\n",
              "\n",
              "  <style>\n",
              "    .colab-df-container {\n",
              "      display:flex;\n",
              "      gap: 12px;\n",
              "    }\n",
              "\n",
              "    .colab-df-convert {\n",
              "      background-color: #E8F0FE;\n",
              "      border: none;\n",
              "      border-radius: 50%;\n",
              "      cursor: pointer;\n",
              "      display: none;\n",
              "      fill: #1967D2;\n",
              "      height: 32px;\n",
              "      padding: 0 0 0 0;\n",
              "      width: 32px;\n",
              "    }\n",
              "\n",
              "    .colab-df-convert:hover {\n",
              "      background-color: #E2EBFA;\n",
              "      box-shadow: 0px 1px 2px rgba(60, 64, 67, 0.3), 0px 1px 3px 1px rgba(60, 64, 67, 0.15);\n",
              "      fill: #174EA6;\n",
              "    }\n",
              "\n",
              "    .colab-df-buttons div {\n",
              "      margin-bottom: 4px;\n",
              "    }\n",
              "\n",
              "    [theme=dark] .colab-df-convert {\n",
              "      background-color: #3B4455;\n",
              "      fill: #D2E3FC;\n",
              "    }\n",
              "\n",
              "    [theme=dark] .colab-df-convert:hover {\n",
              "      background-color: #434B5C;\n",
              "      box-shadow: 0px 1px 3px 1px rgba(0, 0, 0, 0.15);\n",
              "      filter: drop-shadow(0px 1px 2px rgba(0, 0, 0, 0.3));\n",
              "      fill: #FFFFFF;\n",
              "    }\n",
              "  </style>\n",
              "\n",
              "    <script>\n",
              "      const buttonEl =\n",
              "        document.querySelector('#df-6af3d529-ae32-4fea-b046-687e66b79de0 button.colab-df-convert');\n",
              "      buttonEl.style.display =\n",
              "        google.colab.kernel.accessAllowed ? 'block' : 'none';\n",
              "\n",
              "      async function convertToInteractive(key) {\n",
              "        const element = document.querySelector('#df-6af3d529-ae32-4fea-b046-687e66b79de0');\n",
              "        const dataTable =\n",
              "          await google.colab.kernel.invokeFunction('convertToInteractive',\n",
              "                                                    [key], {});\n",
              "        if (!dataTable) return;\n",
              "\n",
              "        const docLinkHtml = 'Like what you see? Visit the ' +\n",
              "          '<a target=\"_blank\" href=https://colab.research.google.com/notebooks/data_table.ipynb>data table notebook</a>'\n",
              "          + ' to learn more about interactive tables.';\n",
              "        element.innerHTML = '';\n",
              "        dataTable['output_type'] = 'display_data';\n",
              "        await google.colab.output.renderOutput(dataTable, element);\n",
              "        const docLink = document.createElement('div');\n",
              "        docLink.innerHTML = docLinkHtml;\n",
              "        element.appendChild(docLink);\n",
              "      }\n",
              "    </script>\n",
              "  </div>\n",
              "\n",
              "\n",
              "    <div id=\"df-9e26b430-8081-4b86-b65e-187ec5a373b0\">\n",
              "      <button class=\"colab-df-quickchart\" onclick=\"quickchart('df-9e26b430-8081-4b86-b65e-187ec5a373b0')\"\n",
              "                title=\"Suggest charts\"\n",
              "                style=\"display:none;\">\n",
              "\n",
              "<svg xmlns=\"http://www.w3.org/2000/svg\" height=\"24px\"viewBox=\"0 0 24 24\"\n",
              "     width=\"24px\">\n",
              "    <g>\n",
              "        <path d=\"M19 3H5c-1.1 0-2 .9-2 2v14c0 1.1.9 2 2 2h14c1.1 0 2-.9 2-2V5c0-1.1-.9-2-2-2zM9 17H7v-7h2v7zm4 0h-2V7h2v10zm4 0h-2v-4h2v4z\"/>\n",
              "    </g>\n",
              "</svg>\n",
              "      </button>\n",
              "\n",
              "<style>\n",
              "  .colab-df-quickchart {\n",
              "      --bg-color: #E8F0FE;\n",
              "      --fill-color: #1967D2;\n",
              "      --hover-bg-color: #E2EBFA;\n",
              "      --hover-fill-color: #174EA6;\n",
              "      --disabled-fill-color: #AAA;\n",
              "      --disabled-bg-color: #DDD;\n",
              "  }\n",
              "\n",
              "  [theme=dark] .colab-df-quickchart {\n",
              "      --bg-color: #3B4455;\n",
              "      --fill-color: #D2E3FC;\n",
              "      --hover-bg-color: #434B5C;\n",
              "      --hover-fill-color: #FFFFFF;\n",
              "      --disabled-bg-color: #3B4455;\n",
              "      --disabled-fill-color: #666;\n",
              "  }\n",
              "\n",
              "  .colab-df-quickchart {\n",
              "    background-color: var(--bg-color);\n",
              "    border: none;\n",
              "    border-radius: 50%;\n",
              "    cursor: pointer;\n",
              "    display: none;\n",
              "    fill: var(--fill-color);\n",
              "    height: 32px;\n",
              "    padding: 0;\n",
              "    width: 32px;\n",
              "  }\n",
              "\n",
              "  .colab-df-quickchart:hover {\n",
              "    background-color: var(--hover-bg-color);\n",
              "    box-shadow: 0 1px 2px rgba(60, 64, 67, 0.3), 0 1px 3px 1px rgba(60, 64, 67, 0.15);\n",
              "    fill: var(--button-hover-fill-color);\n",
              "  }\n",
              "\n",
              "  .colab-df-quickchart-complete:disabled,\n",
              "  .colab-df-quickchart-complete:disabled:hover {\n",
              "    background-color: var(--disabled-bg-color);\n",
              "    fill: var(--disabled-fill-color);\n",
              "    box-shadow: none;\n",
              "  }\n",
              "\n",
              "  .colab-df-spinner {\n",
              "    border: 2px solid var(--fill-color);\n",
              "    border-color: transparent;\n",
              "    border-bottom-color: var(--fill-color);\n",
              "    animation:\n",
              "      spin 1s steps(1) infinite;\n",
              "  }\n",
              "\n",
              "  @keyframes spin {\n",
              "    0% {\n",
              "      border-color: transparent;\n",
              "      border-bottom-color: var(--fill-color);\n",
              "      border-left-color: var(--fill-color);\n",
              "    }\n",
              "    20% {\n",
              "      border-color: transparent;\n",
              "      border-left-color: var(--fill-color);\n",
              "      border-top-color: var(--fill-color);\n",
              "    }\n",
              "    30% {\n",
              "      border-color: transparent;\n",
              "      border-left-color: var(--fill-color);\n",
              "      border-top-color: var(--fill-color);\n",
              "      border-right-color: var(--fill-color);\n",
              "    }\n",
              "    40% {\n",
              "      border-color: transparent;\n",
              "      border-right-color: var(--fill-color);\n",
              "      border-top-color: var(--fill-color);\n",
              "    }\n",
              "    60% {\n",
              "      border-color: transparent;\n",
              "      border-right-color: var(--fill-color);\n",
              "    }\n",
              "    80% {\n",
              "      border-color: transparent;\n",
              "      border-right-color: var(--fill-color);\n",
              "      border-bottom-color: var(--fill-color);\n",
              "    }\n",
              "    90% {\n",
              "      border-color: transparent;\n",
              "      border-bottom-color: var(--fill-color);\n",
              "    }\n",
              "  }\n",
              "</style>\n",
              "\n",
              "      <script>\n",
              "        async function quickchart(key) {\n",
              "          const quickchartButtonEl =\n",
              "            document.querySelector('#' + key + ' button');\n",
              "          quickchartButtonEl.disabled = true;  // To prevent multiple clicks.\n",
              "          quickchartButtonEl.classList.add('colab-df-spinner');\n",
              "          try {\n",
              "            const charts = await google.colab.kernel.invokeFunction(\n",
              "                'suggestCharts', [key], {});\n",
              "          } catch (error) {\n",
              "            console.error('Error during call to suggestCharts:', error);\n",
              "          }\n",
              "          quickchartButtonEl.classList.remove('colab-df-spinner');\n",
              "          quickchartButtonEl.classList.add('colab-df-quickchart-complete');\n",
              "        }\n",
              "        (() => {\n",
              "          let quickchartButtonEl =\n",
              "            document.querySelector('#df-9e26b430-8081-4b86-b65e-187ec5a373b0 button');\n",
              "          quickchartButtonEl.style.display =\n",
              "            google.colab.kernel.accessAllowed ? 'block' : 'none';\n",
              "        })();\n",
              "      </script>\n",
              "    </div>\n",
              "    </div>\n",
              "  </div>\n"
            ],
            "application/vnd.google.colaboratory.intrinsic+json": {
              "type": "dataframe",
              "summary": "{\n  \"name\": \"tracks_info\",\n  \"rows\": 15,\n  \"fields\": [\n    {\n      \"column\": \"name\",\n      \"properties\": {\n        \"dtype\": \"string\",\n        \"num_unique_values\": 15,\n        \"samples\": [\n          \"We Will Rock You\",\n          \"\\u0418\\u0421\\u041a\\u0410\\u041b\\u0410\",\n          \"Zombie\"\n        ],\n        \"semantic_type\": \"\",\n        \"description\": \"\"\n      }\n    },\n    {\n      \"column\": \"artists\",\n      \"properties\": {\n        \"dtype\": \"string\",\n        \"num_unique_values\": 14,\n        \"samples\": [\n          \"['Queen']\",\n          \"['\\u0417\\u0435\\u043c\\u0444\\u0438\\u0440\\u0430']\",\n          \"['The Cranberries']\"\n        ],\n        \"semantic_type\": \"\",\n        \"description\": \"\"\n      }\n    }\n  ]\n}"
            }
          },
          "metadata": {},
          "execution_count": 122
        }
      ],
      "source": [
        "preds = model.get_test_recommendations(15)\n",
        "\n",
        "print('Predicted tracks:')\n",
        "\n",
        "tracks_info.loc[preds[user_id]][['name', 'artists']]"
      ]
    },
    {
      "cell_type": "code",
      "execution_count": 123,
      "id": "8_UZCIxrko5Q",
      "metadata": {
        "colab": {
          "base_uri": "https://localhost:8080/",
          "height": 538
        },
        "id": "8_UZCIxrko5Q",
        "outputId": "e636ed59-0827-4212-a9ee-cec62f643222"
      },
      "outputs": [
        {
          "output_type": "stream",
          "name": "stdout",
          "text": [
            "Test-time tracks:\n"
          ]
        },
        {
          "output_type": "execute_result",
          "data": {
            "text/plain": [
              "                                  name                     artists\n",
              "27588                  Believe in Love               ['Scorpions']\n",
              "27807                  Сказочная тайга            ['Агата Кристи']\n",
              "28829                       Марионетки            ['Король и Шут']\n",
              "29391                     Take My Love                  ['Plazma']\n",
              "29404                           Lonely                  ['Plazma']\n",
              "30458                    Молодые ветра                      ['7Б']\n",
              "30836                           Higher       ['Smash Into Pieces']\n",
              "31209  Scatman (Ski-Ba-Bop-Ba-Dop-Bop)            ['Scatman John']\n",
              "31274                        Labyrinth                  ['Oomph!']\n",
              "32078                    Fade To Black               ['Metallica']\n",
              "32323                    Вечно молодой  ['Смысловые Галлюцинации']\n",
              "32772                    Stayin' Alive                ['Bee Gees']\n",
              "32861                           Animal       ['Smash Into Pieces']\n",
              "32862                             Stay       ['Smash Into Pieces']\n",
              "32942                          Rape Me                 ['Nirvana']"
            ],
            "text/html": [
              "\n",
              "  <div id=\"df-16743cce-d8ff-4b26-8078-7f661043b69c\" class=\"colab-df-container\">\n",
              "    <div>\n",
              "<style scoped>\n",
              "    .dataframe tbody tr th:only-of-type {\n",
              "        vertical-align: middle;\n",
              "    }\n",
              "\n",
              "    .dataframe tbody tr th {\n",
              "        vertical-align: top;\n",
              "    }\n",
              "\n",
              "    .dataframe thead th {\n",
              "        text-align: right;\n",
              "    }\n",
              "</style>\n",
              "<table border=\"1\" class=\"dataframe\">\n",
              "  <thead>\n",
              "    <tr style=\"text-align: right;\">\n",
              "      <th></th>\n",
              "      <th>name</th>\n",
              "      <th>artists</th>\n",
              "    </tr>\n",
              "  </thead>\n",
              "  <tbody>\n",
              "    <tr>\n",
              "      <th>27588</th>\n",
              "      <td>Believe in Love</td>\n",
              "      <td>['Scorpions']</td>\n",
              "    </tr>\n",
              "    <tr>\n",
              "      <th>27807</th>\n",
              "      <td>Сказочная тайга</td>\n",
              "      <td>['Агата Кристи']</td>\n",
              "    </tr>\n",
              "    <tr>\n",
              "      <th>28829</th>\n",
              "      <td>Марионетки</td>\n",
              "      <td>['Король и Шут']</td>\n",
              "    </tr>\n",
              "    <tr>\n",
              "      <th>29391</th>\n",
              "      <td>Take My Love</td>\n",
              "      <td>['Plazma']</td>\n",
              "    </tr>\n",
              "    <tr>\n",
              "      <th>29404</th>\n",
              "      <td>Lonely</td>\n",
              "      <td>['Plazma']</td>\n",
              "    </tr>\n",
              "    <tr>\n",
              "      <th>30458</th>\n",
              "      <td>Молодые ветра</td>\n",
              "      <td>['7Б']</td>\n",
              "    </tr>\n",
              "    <tr>\n",
              "      <th>30836</th>\n",
              "      <td>Higher</td>\n",
              "      <td>['Smash Into Pieces']</td>\n",
              "    </tr>\n",
              "    <tr>\n",
              "      <th>31209</th>\n",
              "      <td>Scatman (Ski-Ba-Bop-Ba-Dop-Bop)</td>\n",
              "      <td>['Scatman John']</td>\n",
              "    </tr>\n",
              "    <tr>\n",
              "      <th>31274</th>\n",
              "      <td>Labyrinth</td>\n",
              "      <td>['Oomph!']</td>\n",
              "    </tr>\n",
              "    <tr>\n",
              "      <th>32078</th>\n",
              "      <td>Fade To Black</td>\n",
              "      <td>['Metallica']</td>\n",
              "    </tr>\n",
              "    <tr>\n",
              "      <th>32323</th>\n",
              "      <td>Вечно молодой</td>\n",
              "      <td>['Смысловые Галлюцинации']</td>\n",
              "    </tr>\n",
              "    <tr>\n",
              "      <th>32772</th>\n",
              "      <td>Stayin' Alive</td>\n",
              "      <td>['Bee Gees']</td>\n",
              "    </tr>\n",
              "    <tr>\n",
              "      <th>32861</th>\n",
              "      <td>Animal</td>\n",
              "      <td>['Smash Into Pieces']</td>\n",
              "    </tr>\n",
              "    <tr>\n",
              "      <th>32862</th>\n",
              "      <td>Stay</td>\n",
              "      <td>['Smash Into Pieces']</td>\n",
              "    </tr>\n",
              "    <tr>\n",
              "      <th>32942</th>\n",
              "      <td>Rape Me</td>\n",
              "      <td>['Nirvana']</td>\n",
              "    </tr>\n",
              "  </tbody>\n",
              "</table>\n",
              "</div>\n",
              "    <div class=\"colab-df-buttons\">\n",
              "\n",
              "  <div class=\"colab-df-container\">\n",
              "    <button class=\"colab-df-convert\" onclick=\"convertToInteractive('df-16743cce-d8ff-4b26-8078-7f661043b69c')\"\n",
              "            title=\"Convert this dataframe to an interactive table.\"\n",
              "            style=\"display:none;\">\n",
              "\n",
              "  <svg xmlns=\"http://www.w3.org/2000/svg\" height=\"24px\" viewBox=\"0 -960 960 960\">\n",
              "    <path d=\"M120-120v-720h720v720H120Zm60-500h600v-160H180v160Zm220 220h160v-160H400v160Zm0 220h160v-160H400v160ZM180-400h160v-160H180v160Zm440 0h160v-160H620v160ZM180-180h160v-160H180v160Zm440 0h160v-160H620v160Z\"/>\n",
              "  </svg>\n",
              "    </button>\n",
              "\n",
              "  <style>\n",
              "    .colab-df-container {\n",
              "      display:flex;\n",
              "      gap: 12px;\n",
              "    }\n",
              "\n",
              "    .colab-df-convert {\n",
              "      background-color: #E8F0FE;\n",
              "      border: none;\n",
              "      border-radius: 50%;\n",
              "      cursor: pointer;\n",
              "      display: none;\n",
              "      fill: #1967D2;\n",
              "      height: 32px;\n",
              "      padding: 0 0 0 0;\n",
              "      width: 32px;\n",
              "    }\n",
              "\n",
              "    .colab-df-convert:hover {\n",
              "      background-color: #E2EBFA;\n",
              "      box-shadow: 0px 1px 2px rgba(60, 64, 67, 0.3), 0px 1px 3px 1px rgba(60, 64, 67, 0.15);\n",
              "      fill: #174EA6;\n",
              "    }\n",
              "\n",
              "    .colab-df-buttons div {\n",
              "      margin-bottom: 4px;\n",
              "    }\n",
              "\n",
              "    [theme=dark] .colab-df-convert {\n",
              "      background-color: #3B4455;\n",
              "      fill: #D2E3FC;\n",
              "    }\n",
              "\n",
              "    [theme=dark] .colab-df-convert:hover {\n",
              "      background-color: #434B5C;\n",
              "      box-shadow: 0px 1px 3px 1px rgba(0, 0, 0, 0.15);\n",
              "      filter: drop-shadow(0px 1px 2px rgba(0, 0, 0, 0.3));\n",
              "      fill: #FFFFFF;\n",
              "    }\n",
              "  </style>\n",
              "\n",
              "    <script>\n",
              "      const buttonEl =\n",
              "        document.querySelector('#df-16743cce-d8ff-4b26-8078-7f661043b69c button.colab-df-convert');\n",
              "      buttonEl.style.display =\n",
              "        google.colab.kernel.accessAllowed ? 'block' : 'none';\n",
              "\n",
              "      async function convertToInteractive(key) {\n",
              "        const element = document.querySelector('#df-16743cce-d8ff-4b26-8078-7f661043b69c');\n",
              "        const dataTable =\n",
              "          await google.colab.kernel.invokeFunction('convertToInteractive',\n",
              "                                                    [key], {});\n",
              "        if (!dataTable) return;\n",
              "\n",
              "        const docLinkHtml = 'Like what you see? Visit the ' +\n",
              "          '<a target=\"_blank\" href=https://colab.research.google.com/notebooks/data_table.ipynb>data table notebook</a>'\n",
              "          + ' to learn more about interactive tables.';\n",
              "        element.innerHTML = '';\n",
              "        dataTable['output_type'] = 'display_data';\n",
              "        await google.colab.output.renderOutput(dataTable, element);\n",
              "        const docLink = document.createElement('div');\n",
              "        docLink.innerHTML = docLinkHtml;\n",
              "        element.appendChild(docLink);\n",
              "      }\n",
              "    </script>\n",
              "  </div>\n",
              "\n",
              "\n",
              "    <div id=\"df-c6b6ff5a-a9bc-45a5-9334-96845a9c6689\">\n",
              "      <button class=\"colab-df-quickchart\" onclick=\"quickchart('df-c6b6ff5a-a9bc-45a5-9334-96845a9c6689')\"\n",
              "                title=\"Suggest charts\"\n",
              "                style=\"display:none;\">\n",
              "\n",
              "<svg xmlns=\"http://www.w3.org/2000/svg\" height=\"24px\"viewBox=\"0 0 24 24\"\n",
              "     width=\"24px\">\n",
              "    <g>\n",
              "        <path d=\"M19 3H5c-1.1 0-2 .9-2 2v14c0 1.1.9 2 2 2h14c1.1 0 2-.9 2-2V5c0-1.1-.9-2-2-2zM9 17H7v-7h2v7zm4 0h-2V7h2v10zm4 0h-2v-4h2v4z\"/>\n",
              "    </g>\n",
              "</svg>\n",
              "      </button>\n",
              "\n",
              "<style>\n",
              "  .colab-df-quickchart {\n",
              "      --bg-color: #E8F0FE;\n",
              "      --fill-color: #1967D2;\n",
              "      --hover-bg-color: #E2EBFA;\n",
              "      --hover-fill-color: #174EA6;\n",
              "      --disabled-fill-color: #AAA;\n",
              "      --disabled-bg-color: #DDD;\n",
              "  }\n",
              "\n",
              "  [theme=dark] .colab-df-quickchart {\n",
              "      --bg-color: #3B4455;\n",
              "      --fill-color: #D2E3FC;\n",
              "      --hover-bg-color: #434B5C;\n",
              "      --hover-fill-color: #FFFFFF;\n",
              "      --disabled-bg-color: #3B4455;\n",
              "      --disabled-fill-color: #666;\n",
              "  }\n",
              "\n",
              "  .colab-df-quickchart {\n",
              "    background-color: var(--bg-color);\n",
              "    border: none;\n",
              "    border-radius: 50%;\n",
              "    cursor: pointer;\n",
              "    display: none;\n",
              "    fill: var(--fill-color);\n",
              "    height: 32px;\n",
              "    padding: 0;\n",
              "    width: 32px;\n",
              "  }\n",
              "\n",
              "  .colab-df-quickchart:hover {\n",
              "    background-color: var(--hover-bg-color);\n",
              "    box-shadow: 0 1px 2px rgba(60, 64, 67, 0.3), 0 1px 3px 1px rgba(60, 64, 67, 0.15);\n",
              "    fill: var(--button-hover-fill-color);\n",
              "  }\n",
              "\n",
              "  .colab-df-quickchart-complete:disabled,\n",
              "  .colab-df-quickchart-complete:disabled:hover {\n",
              "    background-color: var(--disabled-bg-color);\n",
              "    fill: var(--disabled-fill-color);\n",
              "    box-shadow: none;\n",
              "  }\n",
              "\n",
              "  .colab-df-spinner {\n",
              "    border: 2px solid var(--fill-color);\n",
              "    border-color: transparent;\n",
              "    border-bottom-color: var(--fill-color);\n",
              "    animation:\n",
              "      spin 1s steps(1) infinite;\n",
              "  }\n",
              "\n",
              "  @keyframes spin {\n",
              "    0% {\n",
              "      border-color: transparent;\n",
              "      border-bottom-color: var(--fill-color);\n",
              "      border-left-color: var(--fill-color);\n",
              "    }\n",
              "    20% {\n",
              "      border-color: transparent;\n",
              "      border-left-color: var(--fill-color);\n",
              "      border-top-color: var(--fill-color);\n",
              "    }\n",
              "    30% {\n",
              "      border-color: transparent;\n",
              "      border-left-color: var(--fill-color);\n",
              "      border-top-color: var(--fill-color);\n",
              "      border-right-color: var(--fill-color);\n",
              "    }\n",
              "    40% {\n",
              "      border-color: transparent;\n",
              "      border-right-color: var(--fill-color);\n",
              "      border-top-color: var(--fill-color);\n",
              "    }\n",
              "    60% {\n",
              "      border-color: transparent;\n",
              "      border-right-color: var(--fill-color);\n",
              "    }\n",
              "    80% {\n",
              "      border-color: transparent;\n",
              "      border-right-color: var(--fill-color);\n",
              "      border-bottom-color: var(--fill-color);\n",
              "    }\n",
              "    90% {\n",
              "      border-color: transparent;\n",
              "      border-bottom-color: var(--fill-color);\n",
              "    }\n",
              "  }\n",
              "</style>\n",
              "\n",
              "      <script>\n",
              "        async function quickchart(key) {\n",
              "          const quickchartButtonEl =\n",
              "            document.querySelector('#' + key + ' button');\n",
              "          quickchartButtonEl.disabled = true;  // To prevent multiple clicks.\n",
              "          quickchartButtonEl.classList.add('colab-df-spinner');\n",
              "          try {\n",
              "            const charts = await google.colab.kernel.invokeFunction(\n",
              "                'suggestCharts', [key], {});\n",
              "          } catch (error) {\n",
              "            console.error('Error during call to suggestCharts:', error);\n",
              "          }\n",
              "          quickchartButtonEl.classList.remove('colab-df-spinner');\n",
              "          quickchartButtonEl.classList.add('colab-df-quickchart-complete');\n",
              "        }\n",
              "        (() => {\n",
              "          let quickchartButtonEl =\n",
              "            document.querySelector('#df-c6b6ff5a-a9bc-45a5-9334-96845a9c6689 button');\n",
              "          quickchartButtonEl.style.display =\n",
              "            google.colab.kernel.accessAllowed ? 'block' : 'none';\n",
              "        })();\n",
              "      </script>\n",
              "    </div>\n",
              "    </div>\n",
              "  </div>\n"
            ],
            "application/vnd.google.colaboratory.intrinsic+json": {
              "type": "dataframe",
              "summary": "{\n  \"name\": \"tracks_info\",\n  \"rows\": 15,\n  \"fields\": [\n    {\n      \"column\": \"name\",\n      \"properties\": {\n        \"dtype\": \"string\",\n        \"num_unique_values\": 15,\n        \"samples\": [\n          \"Fade To Black\",\n          \"Stayin' Alive\",\n          \"Believe in Love\"\n        ],\n        \"semantic_type\": \"\",\n        \"description\": \"\"\n      }\n    },\n    {\n      \"column\": \"artists\",\n      \"properties\": {\n        \"dtype\": \"string\",\n        \"num_unique_values\": 12,\n        \"samples\": [\n          \"['Bee Gees']\",\n          \"['\\u0421\\u043c\\u044b\\u0441\\u043b\\u043e\\u0432\\u044b\\u0435 \\u0413\\u0430\\u043b\\u043b\\u044e\\u0446\\u0438\\u043d\\u0430\\u0446\\u0438\\u0438']\",\n          \"['Scorpions']\"\n        ],\n        \"semantic_type\": \"\",\n        \"description\": \"\"\n      }\n    }\n  ]\n}"
            }
          },
          "metadata": {},
          "execution_count": 123
        }
      ],
      "source": [
        "test_tracks = test_ratings[test_ratings.userId == user_id].trackId[:15]\n",
        "\n",
        "print('Test-time tracks:')\n",
        "\n",
        "tracks_info.loc[test_tracks][['name', 'artists']]"
      ]
    },
    {
      "cell_type": "markdown",
      "source": [
        "Ну кстати, даже не плохо получилось, вкусы явно схожие."
      ],
      "metadata": {
        "id": "jBve3jhmp5ii"
      },
      "id": "jBve3jhmp5ii"
    },
    {
      "cell_type": "markdown",
      "id": "3laWojtltEz1",
      "metadata": {
        "id": "3laWojtltEz1"
      },
      "source": [
        "### Часть 2. Модель со скрытыми переменными: ALS"
      ]
    },
    {
      "cell_type": "markdown",
      "id": "W63eIwPEYuYG",
      "metadata": {
        "id": "W63eIwPEYuYG"
      },
      "source": [
        "В этой части мы пощупаем метод рекомендаций со скрытыми переменными.\n",
        "Идея: будем предсказывать оценки по формуле\n",
        "$$\n",
        "\\hat{r}_{ui} = \\langle p_u, q_u \\rangle,\n",
        "$$\n",
        "$p_u \\in \\mathbb{R}^d$ и $q_i \\in \\mathbb{R}^d$ - латентные векторы пользователя $u$ и объекта $i$ соответственно.\n",
        "\n",
        "Оптимизировать мы будем MSE между истинной оценкой пользователя и предсказанной с регуляризацией\n",
        "$$\n",
        "L = \\sum_{(u, i) \\in R} (\\hat{r}_{ui} - r_{ui})^2 + \\lambda \\left(\\sum_{u \\in U} \\|p_u\\|^2 + \\sum_{i \\in I} \\|q_i\\|^2\\right)\n",
        "$$\n",
        "\n",
        "__P. S.__ Заметьте, что описанная модель предназначена для работы только с __явной__ информацией. В нашем случае от модели будет требоваться всегда возвращать 1, так как мы считаем ошибку только по парам, о которых получили фидбек. Поэтому логично подумать, что постановка задачи не имеет смысла. Однако, на практике оказывается, что из-за случайности в инициализации матриц $P$ и $Q$, обученные векторы для всех треков и пользователей в конце обучения получаются разными. Поэтому модель все же не лишена смысла.\n",
        "\n",
        "__P. P. S.__ Для более разумной работы с неявной информацией был предложен метод iALS, его описание можно найти в лекции. Ниже будет бонус на его реализацию."
      ]
    },
    {
      "cell_type": "markdown",
      "id": "jrZjfGb0iLk6",
      "metadata": {
        "id": "jrZjfGb0iLk6"
      },
      "source": [
        "**Задание 6 (0.5 балла).** На лекции рассматривались два подхода к оптимизации параметров. Можно это делать обычным стохастческим градинтным спуском, а можно по очереди обновлять матрицы $P, Q$, и тогда получится метод Alternating Least Squares (ALS). Выведите формулы обновления параметров для обоих методов."
      ]
    },
    {
      "cell_type": "markdown",
      "id": "knT2htHnkTPT",
      "metadata": {
        "id": "knT2htHnkTPT"
      },
      "source": [
        "**SGD:**\n",
        "\n",
        "Обновление $p_{uk}$: $$p_{uk} = p_{uk} + \\eta q_{ik}(r_{ui} - \\langle p_u, q_i \\rangle)-\\eta\\lambda p_{uk}$$\n",
        "Обнолвение $q_{ik}$: $$p_{uk} = q_{ik} + \\eta p_{uk}(r_{ui} - \\langle p_u, q_i \\rangle)-\\eta\\lambda q_{ik}$$\n",
        "\n",
        "\n",
        "**ALS:**  \n",
        "\n",
        "Обновление $p_{u}$: $$p_{u} = (\\sum_{i: ∃r_{ui}} (\\langle q_i, q_i \\rangle + λ))^{-1}\\sum_{i: ∃r_{ui}} (r_{ui}q_i)$$\n",
        "\n",
        "Обнолвение $q_{i}$: $$q_{i} = (\\sum_{u: ∃r_{ui}} (\\langle p_u, p_u \\rangle + λ))^{-1}\\sum_{u: ∃r_{ui}} (r_{ui}p_u)$$"
      ]
    },
    {
      "cell_type": "markdown",
      "id": "T5PXIItDkiDc",
      "metadata": {
        "id": "T5PXIItDkiDc"
      },
      "source": [
        "**Задание 7 (1.5 балла).** Реализуйте методы оптимизации параметров для обоих алгоритмов."
      ]
    },
    {
      "cell_type": "code",
      "execution_count": 145,
      "id": "vTui-yTptFIo",
      "metadata": {
        "id": "vTui-yTptFIo"
      },
      "outputs": [],
      "source": [
        "import time\n",
        "class HiddenVars(BaseModel):\n",
        "    def __init__(self, ratings, dim=128, mode='sgd'):\n",
        "        super().__init__(ratings)\n",
        "        self.dim = dim\n",
        "\n",
        "        assert mode in ['sgd', 'als']\n",
        "        self.mode = mode\n",
        "\n",
        "        self.P = np.random.normal(size=(self.n_users, dim))\n",
        "        self.Q = np.random.normal(size=(self.n_items, dim))\n",
        "\n",
        "        self.lr = 0.0003\n",
        "        self.lamb = 0.01\n",
        "\n",
        "        self.R = csr_matrix(self.R) # чтобы не работать полностью с разреженными матрицами как до этого делали\n",
        "\n",
        "    def fit(self, num_iters=5):\n",
        "        start_time = time.time()\n",
        "\n",
        "        for epoch in tqdm(range(num_iters)):\n",
        "            epoch_start = time.time()\n",
        "\n",
        "            if self.mode == 'sgd':\n",
        "\n",
        "                users, items  = self.R.nonzero()\n",
        "                for u, i in zip(users, items):\n",
        "                    r_ui = self.R[u, i]\n",
        "\n",
        "                    pred = self.P[u] @ self.Q[i]\n",
        "                    error = r_ui - pred\n",
        "\n",
        "                    self.P[u] += self.lr * (error * self.Q[i] - self.lamb * self.P[u])\n",
        "                    self.Q[i] += self.lr * (error * self.P[u] - self.lamb * self.Q[i])\n",
        "\n",
        "\n",
        "\n",
        "            elif self.mode == 'als':\n",
        "\n",
        "                R = self.R.tocsr()\n",
        "\n",
        "                 # для юзеров сделаем\n",
        "                for u in range(self.n_users):\n",
        "                    item_ids = R[u].indices\n",
        "                    Q_i = self.Q[item_ids]\n",
        "                    r_u = R[u, item_ids].toarray().flatten()\n",
        "\n",
        "                    m1 = Q_i.T @ Q_i + self.lamb * np.eye(self.dim)\n",
        "                    m2 = Q_i.T @ r_u\n",
        "                    self.P[u] = np.linalg.solve(m1, m2)\n",
        "\n",
        "                R_T = self.R.T.tocsr()\n",
        "                # для айтемов\n",
        "                for i in range(self.n_items):\n",
        "                    user_ids = R_T[i].indices\n",
        "                    P_u = self.P[user_ids]\n",
        "                    r_i = R_T[i, user_ids].toarray().flatten()\n",
        "\n",
        "                    m1 = P_u.T @ P_u + self.lamb * np.eye(self.dim)\n",
        "                    m2 = P_u.T @ r_i\n",
        "                    self.Q[i] = np.linalg.solve(m1, m2)\n",
        "        total_time = time.time() - start_time\n",
        "        print(f\"\\nTotal training time: {total_time:.2f} seconds\")\n",
        "\n",
        "    def recommend(self, uid):\n",
        "        pred_rating = self.P[uid] @ self.Q.T\n",
        "\n",
        "        return np.argsort(pred_rating)[::-1]"
      ]
    },
    {
      "cell_type": "markdown",
      "id": "N0P3-ZcYuY3t",
      "metadata": {
        "id": "N0P3-ZcYuY3t"
      },
      "source": [
        "**Задание 8 (1 балл).** Для обоих алгоритмов подберите оптимальные значения размерности скрытого пространства $d$ и размера предсказания $k$. Как изменяется качество предсказаний с числом итераций обучения? Постройте соответствующие графики, сравните со случайным подхом и User2User, сделайте выводы. Какой алгоритм вам кажется более подходящим для данной задачи и почему?\n",
        "\n",
        "__P. S.__ Хотя бы один из методов обучения должен приводить к лучшим результатам в сравнении с User2User подходом.\n",
        "\n",
        "__P. P. S.__ Методу SGD свойственно переобучаться, поэтому при подборе параметров полезно смотреть на значения ошибки и оптимизируемой метрики на тренировочном датасете. Вы также можете менять начальную инициализацию и прочие параметры, за исключением архитектуры, на ваш вкус."
      ]
    },
    {
      "cell_type": "markdown",
      "source": [
        "Сначала оптимальную размерность для эмбединга подберем"
      ],
      "metadata": {
        "id": "c6-tHbkm0W78"
      },
      "id": "c6-tHbkm0W78"
    },
    {
      "cell_type": "code",
      "execution_count": 146,
      "id": "0D62IgV2OjDF",
      "metadata": {
        "id": "0D62IgV2OjDF",
        "colab": {
          "base_uri": "https://localhost:8080/"
        },
        "outputId": "b2520123-f659-40da-cf84-d6036e366834"
      },
      "outputs": [
        {
          "output_type": "stream",
          "name": "stderr",
          "text": [
            "100%|██████████| 1/1 [00:06<00:00,  6.09s/it]\n"
          ]
        },
        {
          "output_type": "stream",
          "name": "stdout",
          "text": [
            "\n",
            "Total training time: 6.09 seconds\n"
          ]
        },
        {
          "output_type": "stream",
          "name": "stderr",
          "text": [
            "100%|██████████| 1/1 [00:16<00:00, 16.86s/it]\n"
          ]
        },
        {
          "output_type": "stream",
          "name": "stdout",
          "text": [
            "\n",
            "Total training time: 16.86 seconds\n"
          ]
        },
        {
          "output_type": "stream",
          "name": "stderr",
          "text": [
            "<ipython-input-15-3316012668>:26: DeprecationWarning: `in1d` is deprecated. Use `np.isin` instead.\n",
            "  new_preds[user_id] = user_preds[~np.in1d(user_preds, user_data['trackId'])][:k]\n",
            "100%|██████████| 1/1 [00:05<00:00,  5.68s/it]\n"
          ]
        },
        {
          "output_type": "stream",
          "name": "stdout",
          "text": [
            "\n",
            "Total training time: 5.68 seconds\n"
          ]
        },
        {
          "output_type": "stream",
          "name": "stderr",
          "text": [
            "100%|██████████| 1/1 [00:17<00:00, 17.65s/it]\n"
          ]
        },
        {
          "output_type": "stream",
          "name": "stdout",
          "text": [
            "\n",
            "Total training time: 17.66 seconds\n"
          ]
        },
        {
          "output_type": "stream",
          "name": "stderr",
          "text": [
            "100%|██████████| 1/1 [00:04<00:00,  4.59s/it]\n"
          ]
        },
        {
          "output_type": "stream",
          "name": "stdout",
          "text": [
            "\n",
            "Total training time: 4.59 seconds\n"
          ]
        },
        {
          "output_type": "stream",
          "name": "stderr",
          "text": [
            "100%|██████████| 1/1 [00:22<00:00, 22.69s/it]\n"
          ]
        },
        {
          "output_type": "stream",
          "name": "stdout",
          "text": [
            "\n",
            "Total training time: 22.69 seconds\n"
          ]
        },
        {
          "output_type": "stream",
          "name": "stderr",
          "text": [
            "100%|██████████| 1/1 [00:05<00:00,  5.71s/it]\n"
          ]
        },
        {
          "output_type": "stream",
          "name": "stdout",
          "text": [
            "\n",
            "Total training time: 5.71 seconds\n"
          ]
        },
        {
          "output_type": "stream",
          "name": "stderr",
          "text": [
            "100%|██████████| 1/1 [00:40<00:00, 40.32s/it]\n"
          ]
        },
        {
          "output_type": "stream",
          "name": "stdout",
          "text": [
            "\n",
            "Total training time: 40.32 seconds\n"
          ]
        }
      ],
      "source": [
        "\n",
        "dim_values = [16,32,64,128]\n",
        "\n",
        "k = 5\n",
        "\n",
        "mapk_sgd = []\n",
        "mapk_als = []\n",
        "\n",
        "for dim in dim_values:\n",
        "    model_sgd = HiddenVars(train_ratings, dim, 'sgd')\n",
        "    model_als = HiddenVars(train_ratings, dim, 'als')\n",
        "\n",
        "    model_sgd.fit(num_iters=1)\n",
        "    model_als.fit(num_iters=1)\n",
        "\n",
        "    recomend_sgd = model_sgd.get_test_recommendations(k)\n",
        "    recomend_als = model_als.get_test_recommendations(k)\n",
        "\n",
        "    map_sgd = mapk(test_relevant, recomend_sgd, k)\n",
        "    map_als = mapk(test_relevant, recomend_als, k)\n",
        "\n",
        "    mapk_sgd.append(map_sgd)\n",
        "    mapk_als.append(map_als)"
      ]
    },
    {
      "cell_type": "code",
      "source": [
        "plt.figure(figsize=(10, 6))\n",
        "plt.plot(dim_values, mapk_sgd, marker='o', label='HiddenVars SGD')\n",
        "plt.plot(dim_values, mapk_als, marker='s', label='HiddenVars ALS')\n",
        "\n",
        "plt.xlabel('dimension')\n",
        "plt.ylabel('MAP@k')\n",
        "plt.title('Сравнение качества рекомендаций MAP@k')\n",
        "plt.legend()\n",
        "plt.show()"
      ],
      "metadata": {
        "colab": {
          "base_uri": "https://localhost:8080/",
          "height": 504
        },
        "id": "8gyeQ6-w0bEv",
        "outputId": "69dff77c-296d-4446-88fa-c8951445095a"
      },
      "id": "8gyeQ6-w0bEv",
      "execution_count": 147,
      "outputs": [
        {
          "output_type": "display_data",
          "data": {
            "text/plain": [
              "<Figure size 1000x600 with 1 Axes>"
            ],
            "image/png": "[encoded data removed]"
          },
          "metadata": {}
        }
      ]
    },
    {
      "cell_type": "markdown",
      "source": [
        "Теперь для числа k попробуем"
      ],
      "metadata": {
        "id": "VBorf70h1T6l"
      },
      "id": "VBorf70h1T6l"
    },
    {
      "cell_type": "code",
      "source": [
        "dim = 64\n",
        "\n",
        "k_values = list(range(1,14))\n",
        "\n",
        "\n",
        "mapk_sgd = []\n",
        "mapk_als = []\n",
        "\n",
        "for k in k_values:\n",
        "    model_sgd = HiddenVars(train_ratings, dim, 'sgd')\n",
        "    model_als = HiddenVars(train_ratings, dim, 'als')\n",
        "\n",
        "    model_sgd.fit(num_iters=1)\n",
        "    model_als.fit(num_iters=1)\n",
        "\n",
        "    recomend_sgd = model_sgd.get_test_recommendations(k)\n",
        "    recomend_als = model_als.get_test_recommendations(k)\n",
        "\n",
        "    map_sgd = mapk(test_relevant, recomend_sgd, k)\n",
        "    map_als = mapk(test_relevant, recomend_als, k)\n",
        "\n",
        "    mapk_sgd.append(map_sgd)\n",
        "    mapk_als.append(map_als)\n"
      ],
      "metadata": {
        "colab": {
          "base_uri": "https://localhost:8080/"
        },
        "id": "fl6Fz3Tb1SLH",
        "outputId": "84db051f-4179-4bed-856b-d487617f3524"
      },
      "id": "fl6Fz3Tb1SLH",
      "execution_count": 148,
      "outputs": [
        {
          "output_type": "stream",
          "name": "stderr",
          "text": [
            "100%|██████████| 1/1 [00:05<00:00,  5.26s/it]\n"
          ]
        },
        {
          "output_type": "stream",
          "name": "stdout",
          "text": [
            "\n",
            "Total training time: 5.27 seconds\n"
          ]
        },
        {
          "output_type": "stream",
          "name": "stderr",
          "text": [
            "100%|██████████| 1/1 [00:22<00:00, 22.16s/it]\n"
          ]
        },
        {
          "output_type": "stream",
          "name": "stdout",
          "text": [
            "\n",
            "Total training time: 22.17 seconds\n"
          ]
        },
        {
          "output_type": "stream",
          "name": "stderr",
          "text": [
            "<ipython-input-15-3316012668>:26: DeprecationWarning: `in1d` is deprecated. Use `np.isin` instead.\n",
            "  new_preds[user_id] = user_preds[~np.in1d(user_preds, user_data['trackId'])][:k]\n",
            "100%|██████████| 1/1 [00:04<00:00,  4.65s/it]\n"
          ]
        },
        {
          "output_type": "stream",
          "name": "stdout",
          "text": [
            "\n",
            "Total training time: 4.65 seconds\n"
          ]
        },
        {
          "output_type": "stream",
          "name": "stderr",
          "text": [
            "100%|██████████| 1/1 [00:23<00:00, 23.23s/it]\n"
          ]
        },
        {
          "output_type": "stream",
          "name": "stdout",
          "text": [
            "\n",
            "Total training time: 23.23 seconds\n"
          ]
        },
        {
          "output_type": "stream",
          "name": "stderr",
          "text": [
            "100%|██████████| 1/1 [00:05<00:00,  5.44s/it]\n"
          ]
        },
        {
          "output_type": "stream",
          "name": "stdout",
          "text": [
            "\n",
            "Total training time: 5.44 seconds\n"
          ]
        },
        {
          "output_type": "stream",
          "name": "stderr",
          "text": [
            "100%|██████████| 1/1 [00:22<00:00, 23.00s/it]\n"
          ]
        },
        {
          "output_type": "stream",
          "name": "stdout",
          "text": [
            "\n",
            "Total training time: 23.00 seconds\n"
          ]
        },
        {
          "output_type": "stream",
          "name": "stderr",
          "text": [
            "100%|██████████| 1/1 [00:05<00:00,  5.89s/it]\n"
          ]
        },
        {
          "output_type": "stream",
          "name": "stdout",
          "text": [
            "\n",
            "Total training time: 5.89 seconds\n"
          ]
        },
        {
          "output_type": "stream",
          "name": "stderr",
          "text": [
            "100%|██████████| 1/1 [00:23<00:00, 23.13s/it]\n"
          ]
        },
        {
          "output_type": "stream",
          "name": "stdout",
          "text": [
            "\n",
            "Total training time: 23.13 seconds\n"
          ]
        },
        {
          "output_type": "stream",
          "name": "stderr",
          "text": [
            "100%|██████████| 1/1 [00:04<00:00,  4.72s/it]\n"
          ]
        },
        {
          "output_type": "stream",
          "name": "stdout",
          "text": [
            "\n",
            "Total training time: 4.72 seconds\n"
          ]
        },
        {
          "output_type": "stream",
          "name": "stderr",
          "text": [
            "100%|██████████| 1/1 [00:22<00:00, 22.88s/it]\n"
          ]
        },
        {
          "output_type": "stream",
          "name": "stdout",
          "text": [
            "\n",
            "Total training time: 22.88 seconds\n"
          ]
        },
        {
          "output_type": "stream",
          "name": "stderr",
          "text": [
            "100%|██████████| 1/1 [00:04<00:00,  4.97s/it]\n"
          ]
        },
        {
          "output_type": "stream",
          "name": "stdout",
          "text": [
            "\n",
            "Total training time: 4.98 seconds\n"
          ]
        },
        {
          "output_type": "stream",
          "name": "stderr",
          "text": [
            "100%|██████████| 1/1 [00:22<00:00, 22.56s/it]\n"
          ]
        },
        {
          "output_type": "stream",
          "name": "stdout",
          "text": [
            "\n",
            "Total training time: 22.57 seconds\n"
          ]
        },
        {
          "output_type": "stream",
          "name": "stderr",
          "text": [
            "100%|██████████| 1/1 [00:05<00:00,  5.36s/it]\n"
          ]
        },
        {
          "output_type": "stream",
          "name": "stdout",
          "text": [
            "\n",
            "Total training time: 5.37 seconds\n"
          ]
        },
        {
          "output_type": "stream",
          "name": "stderr",
          "text": [
            "100%|██████████| 1/1 [00:21<00:00, 21.77s/it]\n"
          ]
        },
        {
          "output_type": "stream",
          "name": "stdout",
          "text": [
            "\n",
            "Total training time: 21.77 seconds\n"
          ]
        },
        {
          "output_type": "stream",
          "name": "stderr",
          "text": [
            "100%|██████████| 1/1 [00:04<00:00,  4.52s/it]\n"
          ]
        },
        {
          "output_type": "stream",
          "name": "stdout",
          "text": [
            "\n",
            "Total training time: 4.52 seconds\n"
          ]
        },
        {
          "output_type": "stream",
          "name": "stderr",
          "text": [
            "100%|██████████| 1/1 [00:22<00:00, 22.46s/it]\n"
          ]
        },
        {
          "output_type": "stream",
          "name": "stdout",
          "text": [
            "\n",
            "Total training time: 22.46 seconds\n"
          ]
        },
        {
          "output_type": "stream",
          "name": "stderr",
          "text": [
            "100%|██████████| 1/1 [00:05<00:00,  5.70s/it]\n"
          ]
        },
        {
          "output_type": "stream",
          "name": "stdout",
          "text": [
            "\n",
            "Total training time: 5.70 seconds\n"
          ]
        },
        {
          "output_type": "stream",
          "name": "stderr",
          "text": [
            "100%|██████████| 1/1 [00:22<00:00, 22.74s/it]\n"
          ]
        },
        {
          "output_type": "stream",
          "name": "stdout",
          "text": [
            "\n",
            "Total training time: 22.74 seconds\n"
          ]
        },
        {
          "output_type": "stream",
          "name": "stderr",
          "text": [
            "100%|██████████| 1/1 [00:04<00:00,  4.90s/it]\n"
          ]
        },
        {
          "output_type": "stream",
          "name": "stdout",
          "text": [
            "\n",
            "Total training time: 4.90 seconds\n"
          ]
        },
        {
          "output_type": "stream",
          "name": "stderr",
          "text": [
            "100%|██████████| 1/1 [00:23<00:00, 23.55s/it]\n"
          ]
        },
        {
          "output_type": "stream",
          "name": "stdout",
          "text": [
            "\n",
            "Total training time: 23.55 seconds\n"
          ]
        },
        {
          "output_type": "stream",
          "name": "stderr",
          "text": [
            "100%|██████████| 1/1 [00:04<00:00,  4.46s/it]\n"
          ]
        },
        {
          "output_type": "stream",
          "name": "stdout",
          "text": [
            "\n",
            "Total training time: 4.47 seconds\n"
          ]
        },
        {
          "output_type": "stream",
          "name": "stderr",
          "text": [
            "100%|██████████| 1/1 [00:22<00:00, 22.50s/it]\n"
          ]
        },
        {
          "output_type": "stream",
          "name": "stdout",
          "text": [
            "\n",
            "Total training time: 22.51 seconds\n"
          ]
        },
        {
          "output_type": "stream",
          "name": "stderr",
          "text": [
            "100%|██████████| 1/1 [00:05<00:00,  5.80s/it]\n"
          ]
        },
        {
          "output_type": "stream",
          "name": "stdout",
          "text": [
            "\n",
            "Total training time: 5.80 seconds\n"
          ]
        },
        {
          "output_type": "stream",
          "name": "stderr",
          "text": [
            "100%|██████████| 1/1 [00:22<00:00, 22.20s/it]\n"
          ]
        },
        {
          "output_type": "stream",
          "name": "stdout",
          "text": [
            "\n",
            "Total training time: 22.20 seconds\n"
          ]
        },
        {
          "output_type": "stream",
          "name": "stderr",
          "text": [
            "100%|██████████| 1/1 [00:04<00:00,  4.70s/it]\n"
          ]
        },
        {
          "output_type": "stream",
          "name": "stdout",
          "text": [
            "\n",
            "Total training time: 4.70 seconds\n"
          ]
        },
        {
          "output_type": "stream",
          "name": "stderr",
          "text": [
            "100%|██████████| 1/1 [00:22<00:00, 22.14s/it]\n"
          ]
        },
        {
          "output_type": "stream",
          "name": "stdout",
          "text": [
            "\n",
            "Total training time: 22.14 seconds\n"
          ]
        }
      ]
    },
    {
      "cell_type": "code",
      "source": [
        "plt.figure(figsize=(10, 6))\n",
        "plt.plot(k_values, mapk_sgd, marker='o', label='HiddenVars SGD')\n",
        "plt.plot(k_values, mapk_als, marker='s', label='HiddenVars ALS')\n",
        "\n",
        "plt.xlabel('k')\n",
        "plt.ylabel('MAP@k')\n",
        "plt.title('Сравнение качества рекомендаций MAP@k')\n",
        "plt.legend()\n",
        "plt.show()"
      ],
      "metadata": {
        "colab": {
          "base_uri": "https://localhost:8080/",
          "height": 504
        },
        "id": "SQUulCzS3mab",
        "outputId": "48500fca-0880-4a1e-898f-bd4bc961a3e7"
      },
      "id": "SQUulCzS3mab",
      "execution_count": 149,
      "outputs": [
        {
          "output_type": "display_data",
          "data": {
            "text/plain": [
              "<Figure size 1000x600 with 1 Axes>"
            ],
            "image/png": "[encoded data removed]"
          },
          "metadata": {}
        }
      ]
    },
    {
      "cell_type": "code",
      "source": [
        "num_iters_values = [1,2,3]\n",
        "dim = 64\n",
        "k = 5\n",
        "\n",
        "\n",
        "mapk_sgd = []\n",
        "mapk_als = []\n",
        "\n",
        "\n",
        "for num_iters in num_iters_values:\n",
        "    model_sgd = HiddenVars(train_ratings, dim, 'sgd')\n",
        "    model_als = HiddenVars(train_ratings, dim, 'als')\n",
        "\n",
        "    model_sgd.fit(num_iters=num_iters)\n",
        "    model_als.fit(num_iters=num_iters)\n",
        "\n",
        "    recomend_sgd = model_sgd.get_test_recommendations(k)\n",
        "    recomend_als = model_als.get_test_recommendations(k)\n",
        "\n",
        "    map_sgd = mapk(test_relevant, recomend_sgd, k)\n",
        "    map_als = mapk(test_relevant, recomend_als, k)\n",
        "\n",
        "    mapk_sgd.append(map_sgd)\n",
        "    mapk_als.append(map_als)\n",
        "\n"
      ],
      "metadata": {
        "colab": {
          "base_uri": "https://localhost:8080/"
        },
        "id": "c4UFvMTy7t2I",
        "outputId": "7827ca59-d77d-4c70-f228-fc812b47085e"
      },
      "id": "c4UFvMTy7t2I",
      "execution_count": 150,
      "outputs": [
        {
          "output_type": "stream",
          "name": "stderr",
          "text": [
            "100%|██████████| 1/1 [00:04<00:00,  4.70s/it]\n"
          ]
        },
        {
          "output_type": "stream",
          "name": "stdout",
          "text": [
            "\n",
            "Total training time: 4.71 seconds\n"
          ]
        },
        {
          "output_type": "stream",
          "name": "stderr",
          "text": [
            "100%|██████████| 1/1 [00:22<00:00, 22.38s/it]\n"
          ]
        },
        {
          "output_type": "stream",
          "name": "stdout",
          "text": [
            "\n",
            "Total training time: 22.38 seconds\n"
          ]
        },
        {
          "output_type": "stream",
          "name": "stderr",
          "text": [
            "<ipython-input-15-3316012668>:26: DeprecationWarning: `in1d` is deprecated. Use `np.isin` instead.\n",
            "  new_preds[user_id] = user_preds[~np.in1d(user_preds, user_data['trackId'])][:k]\n",
            "100%|██████████| 2/2 [00:10<00:00,  5.14s/it]\n"
          ]
        },
        {
          "output_type": "stream",
          "name": "stdout",
          "text": [
            "\n",
            "Total training time: 10.29 seconds\n"
          ]
        },
        {
          "output_type": "stream",
          "name": "stderr",
          "text": [
            "100%|██████████| 2/2 [00:44<00:00, 22.41s/it]\n"
          ]
        },
        {
          "output_type": "stream",
          "name": "stdout",
          "text": [
            "\n",
            "Total training time: 44.82 seconds\n"
          ]
        },
        {
          "output_type": "stream",
          "name": "stderr",
          "text": [
            "100%|██████████| 3/3 [00:14<00:00,  4.96s/it]\n"
          ]
        },
        {
          "output_type": "stream",
          "name": "stdout",
          "text": [
            "\n",
            "Total training time: 14.89 seconds\n"
          ]
        },
        {
          "output_type": "stream",
          "name": "stderr",
          "text": [
            "100%|██████████| 3/3 [01:07<00:00, 22.37s/it]\n"
          ]
        },
        {
          "output_type": "stream",
          "name": "stdout",
          "text": [
            "\n",
            "Total training time: 67.12 seconds\n"
          ]
        }
      ]
    },
    {
      "cell_type": "code",
      "source": [
        "plt.figure(figsize=(10, 6))\n",
        "plt.plot(num_iters_values, mapk_sgd, marker='o', label='HiddenVars SGD')\n",
        "plt.plot(num_iters_values, mapk_als, marker='s', label='HiddenVars ALS')\n",
        "\n",
        "plt.xlabel('n_iters')\n",
        "plt.ylabel('MAP@k')\n",
        "plt.title('Сравнение качества рекомендаций MAP@k')\n",
        "plt.legend()\n",
        "plt.show()"
      ],
      "metadata": {
        "colab": {
          "base_uri": "https://localhost:8080/",
          "height": 509
        },
        "id": "qBOYpCVe7xZz",
        "outputId": "6eb1b053-8af9-4296-946d-4d041f678886"
      },
      "id": "qBOYpCVe7xZz",
      "execution_count": 151,
      "outputs": [
        {
          "output_type": "display_data",
          "data": {
            "text/plain": [
              "<Figure size 1000x600 with 1 Axes>"
            ],
            "image/png": "[encoded data removed]"
          },
          "metadata": {}
        }
      ]
    },
    {
      "cell_type": "markdown",
      "source": [
        "Ну, как мы можем заметить, сгд вообще в 0 улетело с такими параметрами, а вот als прям нормально так вырос по сранвнеию с user2user и остальными моделями."
      ],
      "metadata": {
        "id": "oTkKkAXhCtMb"
      },
      "id": "oTkKkAXhCtMb"
    },
    {
      "cell_type": "markdown",
      "id": "Gx4EMj0HwVlR",
      "metadata": {
        "id": "Gx4EMj0HwVlR"
      },
      "source": [
        "Если у вас получилось достаточно хорошее качество, то при оптимизации параметров марицы $Q$ похожим трекам стали соответствовать похожие векторы. Поэтому мы можем для любого трека найти наиболее близкие к нему в латентном пространстве и проверить степерь обученности модели вручную."
      ]
    },
    {
      "cell_type": "code",
      "source": [
        "model = HiddenVars(train_ratings, 64, 'als')\n",
        "model.fit(num_iters=2)"
      ],
      "metadata": {
        "colab": {
          "base_uri": "https://localhost:8080/"
        },
        "id": "yOAXE7fuDanr",
        "outputId": "8e78e4eb-8030-464b-b33f-53987858fd34"
      },
      "id": "yOAXE7fuDanr",
      "execution_count": 152,
      "outputs": [
        {
          "output_type": "stream",
          "name": "stderr",
          "text": [
            "100%|██████████| 2/2 [00:43<00:00, 21.94s/it]"
          ]
        },
        {
          "output_type": "stream",
          "name": "stdout",
          "text": [
            "\n",
            "Total training time: 43.88 seconds\n"
          ]
        },
        {
          "output_type": "stream",
          "name": "stderr",
          "text": [
            "\n"
          ]
        }
      ]
    },
    {
      "cell_type": "code",
      "execution_count": 155,
      "id": "VFYy92Ls-53S",
      "metadata": {
        "id": "VFYy92Ls-53S"
      },
      "outputs": [],
      "source": [
        "example_trackId = tracks_info[tracks_info.name == 'Выхода нет'].iloc[0].id\n",
        "\n",
        "preds = model.Q @ model.Q[example_trackId]\n",
        "preds = preds / np.sqrt((model.Q**2).sum(axis=1) + 1e-8)\n",
        "\n",
        "track_idxs = preds.argsort()[::-1][:20]"
      ]
    },
    {
      "cell_type": "code",
      "execution_count": 156,
      "id": "DzewG5rw5SQo",
      "metadata": {
        "colab": {
          "base_uri": "https://localhost:8080/",
          "height": 676
        },
        "id": "DzewG5rw5SQo",
        "outputId": "41be7f59-b23b-4952-c4ff-b6a51246fe2a"
      },
      "outputs": [
        {
          "output_type": "execute_result",
          "data": {
            "text/plain": [
              "                                     name                   artists  \\\n",
              "5512                           Выхода нет                 ['Сплин']   \n",
              "2058                      Последний герой                  ['КИНО']   \n",
              "5570                           Моё сердце                 ['Сплин']   \n",
              "5153                         Stormbringer           ['Deep Purple']   \n",
              "9689                         Bicycle Race                 ['Queen']   \n",
              "16637                              Zodiac                ['Zodiac']   \n",
              "16224                    Пока горит свеча        ['Машина времени']   \n",
              "26199               Скованные одной цепью    ['Nautilus Pompilius']   \n",
              "17331  Последнее письмо (Гудбай, Америка)    ['Nautilus Pompilius']   \n",
              "3499                        One More Time             ['Daft Punk']   \n",
              "26075                             Лошадка           ['Найк Борзов']   \n",
              "3347                   Soldier Of Fortune           ['Deep Purple']   \n",
              "14871            Никто не услышит (Ой-йо)                  ['ЧайФ']   \n",
              "16192       Однажды мир прогнётся под нас        ['Машина времени']   \n",
              "15123                             Susanna             ['Celentano']   \n",
              "9681                       Under Pressure  ['Queen', 'David Bowie']   \n",
              "9702                         Killer Queen                 ['Queen']   \n",
              "13264                   Безобразная Эльза            ['Крематорий']   \n",
              "13263                      Мусорный ветер            ['Крематорий']   \n",
              "2179                      Восьмиклассница                  ['КИНО']   \n",
              "\n",
              "       similarity  \n",
              "5512     1.000000  \n",
              "2058     0.689259  \n",
              "5570     0.675360  \n",
              "5153     0.648425  \n",
              "9689     0.648425  \n",
              "16637    0.648425  \n",
              "16224    0.634265  \n",
              "26199    0.606076  \n",
              "17331    0.593424  \n",
              "3499     0.568560  \n",
              "26075    0.565554  \n",
              "3347     0.563552  \n",
              "14871    0.561246  \n",
              "16192    0.556815  \n",
              "15123    0.555039  \n",
              "9681     0.552820  \n",
              "9702     0.550799  \n",
              "13264    0.549597  \n",
              "13263    0.549597  \n",
              "2179     0.548611  "
            ],
            "text/html": [
              "\n",
              "  <div id=\"df-7dddb160-5c00-427e-b620-a79e82fb165e\" class=\"colab-df-container\">\n",
              "    <div>\n",
              "<style scoped>\n",
              "    .dataframe tbody tr th:only-of-type {\n",
              "        vertical-align: middle;\n",
              "    }\n",
              "\n",
              "    .dataframe tbody tr th {\n",
              "        vertical-align: top;\n",
              "    }\n",
              "\n",
              "    .dataframe thead th {\n",
              "        text-align: right;\n",
              "    }\n",
              "</style>\n",
              "<table border=\"1\" class=\"dataframe\">\n",
              "  <thead>\n",
              "    <tr style=\"text-align: right;\">\n",
              "      <th></th>\n",
              "      <th>name</th>\n",
              "      <th>artists</th>\n",
              "      <th>similarity</th>\n",
              "    </tr>\n",
              "  </thead>\n",
              "  <tbody>\n",
              "    <tr>\n",
              "      <th>5512</th>\n",
              "      <td>Выхода нет</td>\n",
              "      <td>['Сплин']</td>\n",
              "      <td>1.000000</td>\n",
              "    </tr>\n",
              "    <tr>\n",
              "      <th>2058</th>\n",
              "      <td>Последний герой</td>\n",
              "      <td>['КИНО']</td>\n",
              "      <td>0.689259</td>\n",
              "    </tr>\n",
              "    <tr>\n",
              "      <th>5570</th>\n",
              "      <td>Моё сердце</td>\n",
              "      <td>['Сплин']</td>\n",
              "      <td>0.675360</td>\n",
              "    </tr>\n",
              "    <tr>\n",
              "      <th>5153</th>\n",
              "      <td>Stormbringer</td>\n",
              "      <td>['Deep Purple']</td>\n",
              "      <td>0.648425</td>\n",
              "    </tr>\n",
              "    <tr>\n",
              "      <th>9689</th>\n",
              "      <td>Bicycle Race</td>\n",
              "      <td>['Queen']</td>\n",
              "      <td>0.648425</td>\n",
              "    </tr>\n",
              "    <tr>\n",
              "      <th>16637</th>\n",
              "      <td>Zodiac</td>\n",
              "      <td>['Zodiac']</td>\n",
              "      <td>0.648425</td>\n",
              "    </tr>\n",
              "    <tr>\n",
              "      <th>16224</th>\n",
              "      <td>Пока горит свеча</td>\n",
              "      <td>['Машина времени']</td>\n",
              "      <td>0.634265</td>\n",
              "    </tr>\n",
              "    <tr>\n",
              "      <th>26199</th>\n",
              "      <td>Скованные одной цепью</td>\n",
              "      <td>['Nautilus Pompilius']</td>\n",
              "      <td>0.606076</td>\n",
              "    </tr>\n",
              "    <tr>\n",
              "      <th>17331</th>\n",
              "      <td>Последнее письмо (Гудбай, Америка)</td>\n",
              "      <td>['Nautilus Pompilius']</td>\n",
              "      <td>0.593424</td>\n",
              "    </tr>\n",
              "    <tr>\n",
              "      <th>3499</th>\n",
              "      <td>One More Time</td>\n",
              "      <td>['Daft Punk']</td>\n",
              "      <td>0.568560</td>\n",
              "    </tr>\n",
              "    <tr>\n",
              "      <th>26075</th>\n",
              "      <td>Лошадка</td>\n",
              "      <td>['Найк Борзов']</td>\n",
              "      <td>0.565554</td>\n",
              "    </tr>\n",
              "    <tr>\n",
              "      <th>3347</th>\n",
              "      <td>Soldier Of Fortune</td>\n",
              "      <td>['Deep Purple']</td>\n",
              "      <td>0.563552</td>\n",
              "    </tr>\n",
              "    <tr>\n",
              "      <th>14871</th>\n",
              "      <td>Никто не услышит (Ой-йо)</td>\n",
              "      <td>['ЧайФ']</td>\n",
              "      <td>0.561246</td>\n",
              "    </tr>\n",
              "    <tr>\n",
              "      <th>16192</th>\n",
              "      <td>Однажды мир прогнётся под нас</td>\n",
              "      <td>['Машина времени']</td>\n",
              "      <td>0.556815</td>\n",
              "    </tr>\n",
              "    <tr>\n",
              "      <th>15123</th>\n",
              "      <td>Susanna</td>\n",
              "      <td>['Celentano']</td>\n",
              "      <td>0.555039</td>\n",
              "    </tr>\n",
              "    <tr>\n",
              "      <th>9681</th>\n",
              "      <td>Under Pressure</td>\n",
              "      <td>['Queen', 'David Bowie']</td>\n",
              "      <td>0.552820</td>\n",
              "    </tr>\n",
              "    <tr>\n",
              "      <th>9702</th>\n",
              "      <td>Killer Queen</td>\n",
              "      <td>['Queen']</td>\n",
              "      <td>0.550799</td>\n",
              "    </tr>\n",
              "    <tr>\n",
              "      <th>13264</th>\n",
              "      <td>Безобразная Эльза</td>\n",
              "      <td>['Крематорий']</td>\n",
              "      <td>0.549597</td>\n",
              "    </tr>\n",
              "    <tr>\n",
              "      <th>13263</th>\n",
              "      <td>Мусорный ветер</td>\n",
              "      <td>['Крематорий']</td>\n",
              "      <td>0.549597</td>\n",
              "    </tr>\n",
              "    <tr>\n",
              "      <th>2179</th>\n",
              "      <td>Восьмиклассница</td>\n",
              "      <td>['КИНО']</td>\n",
              "      <td>0.548611</td>\n",
              "    </tr>\n",
              "  </tbody>\n",
              "</table>\n",
              "</div>\n",
              "    <div class=\"colab-df-buttons\">\n",
              "\n",
              "  <div class=\"colab-df-container\">\n",
              "    <button class=\"colab-df-convert\" onclick=\"convertToInteractive('df-7dddb160-5c00-427e-b620-a79e82fb165e')\"\n",
              "            title=\"Convert this dataframe to an interactive table.\"\n",
              "            style=\"display:none;\">\n",
              "\n",
              "  <svg xmlns=\"http://www.w3.org/2000/svg\" height=\"24px\" viewBox=\"0 -960 960 960\">\n",
              "    <path d=\"M120-120v-720h720v720H120Zm60-500h600v-160H180v160Zm220 220h160v-160H400v160Zm0 220h160v-160H400v160ZM180-400h160v-160H180v160Zm440 0h160v-160H620v160ZM180-180h160v-160H180v160Zm440 0h160v-160H620v160Z\"/>\n",
              "  </svg>\n",
              "    </button>\n",
              "\n",
              "  <style>\n",
              "    .colab-df-container {\n",
              "      display:flex;\n",
              "      gap: 12px;\n",
              "    }\n",
              "\n",
              "    .colab-df-convert {\n",
              "      background-color: #E8F0FE;\n",
              "      border: none;\n",
              "      border-radius: 50%;\n",
              "      cursor: pointer;\n",
              "      display: none;\n",
              "      fill: #1967D2;\n",
              "      height: 32px;\n",
              "      padding: 0 0 0 0;\n",
              "      width: 32px;\n",
              "    }\n",
              "\n",
              "    .colab-df-convert:hover {\n",
              "      background-color: #E2EBFA;\n",
              "      box-shadow: 0px 1px 2px rgba(60, 64, 67, 0.3), 0px 1px 3px 1px rgba(60, 64, 67, 0.15);\n",
              "      fill: #174EA6;\n",
              "    }\n",
              "\n",
              "    .colab-df-buttons div {\n",
              "      margin-bottom: 4px;\n",
              "    }\n",
              "\n",
              "    [theme=dark] .colab-df-convert {\n",
              "      background-color: #3B4455;\n",
              "      fill: #D2E3FC;\n",
              "    }\n",
              "\n",
              "    [theme=dark] .colab-df-convert:hover {\n",
              "      background-color: #434B5C;\n",
              "      box-shadow: 0px 1px 3px 1px rgba(0, 0, 0, 0.15);\n",
              "      filter: drop-shadow(0px 1px 2px rgba(0, 0, 0, 0.3));\n",
              "      fill: #FFFFFF;\n",
              "    }\n",
              "  </style>\n",
              "\n",
              "    <script>\n",
              "      const buttonEl =\n",
              "        document.querySelector('#df-7dddb160-5c00-427e-b620-a79e82fb165e button.colab-df-convert');\n",
              "      buttonEl.style.display =\n",
              "        google.colab.kernel.accessAllowed ? 'block' : 'none';\n",
              "\n",
              "      async function convertToInteractive(key) {\n",
              "        const element = document.querySelector('#df-7dddb160-5c00-427e-b620-a79e82fb165e');\n",
              "        const dataTable =\n",
              "          await google.colab.kernel.invokeFunction('convertToInteractive',\n",
              "                                                    [key], {});\n",
              "        if (!dataTable) return;\n",
              "\n",
              "        const docLinkHtml = 'Like what you see? Visit the ' +\n",
              "          '<a target=\"_blank\" href=https://colab.research.google.com/notebooks/data_table.ipynb>data table notebook</a>'\n",
              "          + ' to learn more about interactive tables.';\n",
              "        element.innerHTML = '';\n",
              "        dataTable['output_type'] = 'display_data';\n",
              "        await google.colab.output.renderOutput(dataTable, element);\n",
              "        const docLink = document.createElement('div');\n",
              "        docLink.innerHTML = docLinkHtml;\n",
              "        element.appendChild(docLink);\n",
              "      }\n",
              "    </script>\n",
              "  </div>\n",
              "\n",
              "\n",
              "    <div id=\"df-ac0a8173-12f5-4bbd-9b4b-ba39234c859f\">\n",
              "      <button class=\"colab-df-quickchart\" onclick=\"quickchart('df-ac0a8173-12f5-4bbd-9b4b-ba39234c859f')\"\n",
              "                title=\"Suggest charts\"\n",
              "                style=\"display:none;\">\n",
              "\n",
              "<svg xmlns=\"http://www.w3.org/2000/svg\" height=\"24px\"viewBox=\"0 0 24 24\"\n",
              "     width=\"24px\">\n",
              "    <g>\n",
              "        <path d=\"M19 3H5c-1.1 0-2 .9-2 2v14c0 1.1.9 2 2 2h14c1.1 0 2-.9 2-2V5c0-1.1-.9-2-2-2zM9 17H7v-7h2v7zm4 0h-2V7h2v10zm4 0h-2v-4h2v4z\"/>\n",
              "    </g>\n",
              "</svg>\n",
              "      </button>\n",
              "\n",
              "<style>\n",
              "  .colab-df-quickchart {\n",
              "      --bg-color: #E8F0FE;\n",
              "      --fill-color: #1967D2;\n",
              "      --hover-bg-color: #E2EBFA;\n",
              "      --hover-fill-color: #174EA6;\n",
              "      --disabled-fill-color: #AAA;\n",
              "      --disabled-bg-color: #DDD;\n",
              "  }\n",
              "\n",
              "  [theme=dark] .colab-df-quickchart {\n",
              "      --bg-color: #3B4455;\n",
              "      --fill-color: #D2E3FC;\n",
              "      --hover-bg-color: #434B5C;\n",
              "      --hover-fill-color: #FFFFFF;\n",
              "      --disabled-bg-color: #3B4455;\n",
              "      --disabled-fill-color: #666;\n",
              "  }\n",
              "\n",
              "  .colab-df-quickchart {\n",
              "    background-color: var(--bg-color);\n",
              "    border: none;\n",
              "    border-radius: 50%;\n",
              "    cursor: pointer;\n",
              "    display: none;\n",
              "    fill: var(--fill-color);\n",
              "    height: 32px;\n",
              "    padding: 0;\n",
              "    width: 32px;\n",
              "  }\n",
              "\n",
              "  .colab-df-quickchart:hover {\n",
              "    background-color: var(--hover-bg-color);\n",
              "    box-shadow: 0 1px 2px rgba(60, 64, 67, 0.3), 0 1px 3px 1px rgba(60, 64, 67, 0.15);\n",
              "    fill: var(--button-hover-fill-color);\n",
              "  }\n",
              "\n",
              "  .colab-df-quickchart-complete:disabled,\n",
              "  .colab-df-quickchart-complete:disabled:hover {\n",
              "    background-color: var(--disabled-bg-color);\n",
              "    fill: var(--disabled-fill-color);\n",
              "    box-shadow: none;\n",
              "  }\n",
              "\n",
              "  .colab-df-spinner {\n",
              "    border: 2px solid var(--fill-color);\n",
              "    border-color: transparent;\n",
              "    border-bottom-color: var(--fill-color);\n",
              "    animation:\n",
              "      spin 1s steps(1) infinite;\n",
              "  }\n",
              "\n",
              "  @keyframes spin {\n",
              "    0% {\n",
              "      border-color: transparent;\n",
              "      border-bottom-color: var(--fill-color);\n",
              "      border-left-color: var(--fill-color);\n",
              "    }\n",
              "    20% {\n",
              "      border-color: transparent;\n",
              "      border-left-color: var(--fill-color);\n",
              "      border-top-color: var(--fill-color);\n",
              "    }\n",
              "    30% {\n",
              "      border-color: transparent;\n",
              "      border-left-color: var(--fill-color);\n",
              "      border-top-color: var(--fill-color);\n",
              "      border-right-color: var(--fill-color);\n",
              "    }\n",
              "    40% {\n",
              "      border-color: transparent;\n",
              "      border-right-color: var(--fill-color);\n",
              "      border-top-color: var(--fill-color);\n",
              "    }\n",
              "    60% {\n",
              "      border-color: transparent;\n",
              "      border-right-color: var(--fill-color);\n",
              "    }\n",
              "    80% {\n",
              "      border-color: transparent;\n",
              "      border-right-color: var(--fill-color);\n",
              "      border-bottom-color: var(--fill-color);\n",
              "    }\n",
              "    90% {\n",
              "      border-color: transparent;\n",
              "      border-bottom-color: var(--fill-color);\n",
              "    }\n",
              "  }\n",
              "</style>\n",
              "\n",
              "      <script>\n",
              "        async function quickchart(key) {\n",
              "          const quickchartButtonEl =\n",
              "            document.querySelector('#' + key + ' button');\n",
              "          quickchartButtonEl.disabled = true;  // To prevent multiple clicks.\n",
              "          quickchartButtonEl.classList.add('colab-df-spinner');\n",
              "          try {\n",
              "            const charts = await google.colab.kernel.invokeFunction(\n",
              "                'suggestCharts', [key], {});\n",
              "          } catch (error) {\n",
              "            console.error('Error during call to suggestCharts:', error);\n",
              "          }\n",
              "          quickchartButtonEl.classList.remove('colab-df-spinner');\n",
              "          quickchartButtonEl.classList.add('colab-df-quickchart-complete');\n",
              "        }\n",
              "        (() => {\n",
              "          let quickchartButtonEl =\n",
              "            document.querySelector('#df-ac0a8173-12f5-4bbd-9b4b-ba39234c859f button');\n",
              "          quickchartButtonEl.style.display =\n",
              "            google.colab.kernel.accessAllowed ? 'block' : 'none';\n",
              "        })();\n",
              "      </script>\n",
              "    </div>\n",
              "    </div>\n",
              "  </div>\n"
            ],
            "application/vnd.google.colaboratory.intrinsic+json": {
              "type": "dataframe",
              "variable_name": "similar_tracks",
              "summary": "{\n  \"name\": \"similar_tracks\",\n  \"rows\": 20,\n  \"fields\": [\n    {\n      \"column\": \"name\",\n      \"properties\": {\n        \"dtype\": \"string\",\n        \"num_unique_values\": 20,\n        \"samples\": [\n          \"\\u0412\\u044b\\u0445\\u043e\\u0434\\u0430 \\u043d\\u0435\\u0442\",\n          \"\\u0411\\u0435\\u0437\\u043e\\u0431\\u0440\\u0430\\u0437\\u043d\\u0430\\u044f \\u042d\\u043b\\u044c\\u0437\\u0430\",\n          \"Under Pressure\"\n        ],\n        \"semantic_type\": \"\",\n        \"description\": \"\"\n      }\n    },\n    {\n      \"column\": \"artists\",\n      \"properties\": {\n        \"dtype\": \"string\",\n        \"num_unique_values\": 13,\n        \"samples\": [\n          \"['Queen', 'David Bowie']\",\n          \"['\\u0427\\u0430\\u0439\\u0424']\",\n          \"['\\u0421\\u043f\\u043b\\u0438\\u043d']\"\n        ],\n        \"semantic_type\": \"\",\n        \"description\": \"\"\n      }\n    },\n    {\n      \"column\": \"similarity\",\n      \"properties\": {\n        \"dtype\": \"number\",\n        \"std\": 0.10251105733052174,\n        \"min\": 0.5486108161200224,\n        \"max\": 0.99999999994683,\n        \"num_unique_values\": 17,\n        \"samples\": [\n          0.99999999994683,\n          0.6892590160991553,\n          0.606076480801234\n        ],\n        \"semantic_type\": \"\",\n        \"description\": \"\"\n      }\n    }\n  ]\n}"
            }
          },
          "metadata": {},
          "execution_count": 156
        }
      ],
      "source": [
        "similar_tracks = tracks_info.loc[track_idxs][['name', 'artists']]\n",
        "similar_tracks['similarity'] = preds[track_idxs] / np.linalg.norm(model.Q[example_trackId])\n",
        "similar_tracks"
      ]
    },
    {
      "cell_type": "markdown",
      "source": [
        "Можем заметить, что достаточно хорошо получилось"
      ],
      "metadata": {
        "id": "zaBv8TRgPBDy"
      },
      "id": "zaBv8TRgPBDy"
    },
    {
      "cell_type": "markdown",
      "id": "22357036",
      "metadata": {
        "id": "22357036"
      },
      "source": [
        "**Бонус (1.5 балла).**\n",
        "\n",
        "Постройте модель iALS и сравните ее качество с обучением ALS и SGD."
      ]
    },
    {
      "cell_type": "code",
      "execution_count": 172,
      "id": "9f2489a6",
      "metadata": {
        "id": "9f2489a6"
      },
      "outputs": [],
      "source": [
        "\n",
        "import numpy as np\n",
        "from scipy.sparse import csr_matrix\n",
        "from tqdm import tqdm\n",
        "\n",
        "class HiddenVars(BaseModel):\n",
        "    def __init__(self, ratings, dim=128, mode='sgd', alpha=40, epsilon=0.1):\n",
        "        super().__init__(ratings)\n",
        "        self.dim = dim\n",
        "        assert mode in ['sgd', 'als', 'ials']\n",
        "        self.mode = mode\n",
        "        self.alpha = alpha\n",
        "        self.epsilon = epsilon\n",
        "\n",
        "        self.P = np.random.normal(size=(self.n_users, dim))\n",
        "        self.Q = np.random.normal(size=(self.n_items, dim))\n",
        "\n",
        "        self.lr = 0.0003\n",
        "        self.lamb = 0.01\n",
        "\n",
        "        self.R = csr_matrix(self.R)  # преобразуем в разреженную матрицу\n",
        "\n",
        "    def fit(self, num_iters=5):\n",
        "        start_time = time.time()\n",
        "\n",
        "        for epoch in tqdm(range(num_iters)):\n",
        "            epoch_start = time.time()\n",
        "\n",
        "            if self.mode == 'sgd':\n",
        "                users, items = self.R.nonzero()\n",
        "                for u, i in zip(users, items):\n",
        "                    r_ui = self.R[u, i]\n",
        "                    pred = self.P[u] @ self.Q[i]\n",
        "                    error = r_ui - pred\n",
        "                    self.P[u] += self.lr * (error * self.Q[i] - self.lamb * self.P[u])\n",
        "                    self.Q[i] += self.lr * (error * self.P[u] - self.lamb * self.Q[i])\n",
        "\n",
        "            elif self.mode == 'als':\n",
        "                R = self.R.tocsr()\n",
        "                for u in range(self.n_users):\n",
        "                    item_ids = R[u].indices\n",
        "                    Q_i = self.Q[item_ids]\n",
        "                    r_u = R[u, item_ids].toarray().flatten()\n",
        "                    m1 = Q_i.T @ Q_i + self.lamb * np.eye(self.dim)\n",
        "                    m2 = Q_i.T @ r_u\n",
        "                    self.P[u] = np.linalg.solve(m1, m2)\n",
        "\n",
        "                R_T = self.R.T.tocsr()\n",
        "                for i in range(self.n_items):\n",
        "                    user_ids = R_T[i].indices\n",
        "                    P_u = self.P[user_ids]\n",
        "                    r_i = R_T[i, user_ids].toarray().flatten()\n",
        "                    m1 = P_u.T @ P_u + self.lamb * np.eye(self.dim)\n",
        "                    m2 = P_u.T @ r_i\n",
        "                    self.Q[i] = np.linalg.solve(m1, m2)\n",
        "\n",
        "            elif self.mode == 'ials':\n",
        "\n",
        "                C = (self.R > 0).astype(np.float32) * self.alpha\n",
        "\n",
        "\n",
        "                for u in range(self.n_users):\n",
        "                    item_ids = C[u].indices\n",
        "                    c_u = C[u, item_ids].toarray().flatten()\n",
        "                    Q_i = self.Q[item_ids]\n",
        "                    m1 = Q_i.T @ (Q_i * c_u[:, None]) + self.epsilon * np.eye(self.dim)\n",
        "                    m2 = Q_i.T @ c_u\n",
        "                    self.P[u] = np.linalg.solve(m1, m2)\n",
        "\n",
        "\n",
        "                C_T = C.T.tocsr()\n",
        "                for i in range(self.n_items):\n",
        "                    user_ids = C_T[i].indices\n",
        "                    c_i = C_T[i, user_ids].toarray().flatten()\n",
        "                    P_u = self.P[user_ids]\n",
        "                    m1 = P_u.T @ (P_u * c_i[:, None]) + self.epsilon * np.eye(self.dim)\n",
        "                    m2 = P_u.T @ c_i\n",
        "                    self.Q[i] = np.linalg.solve(m1, m2)\n",
        "\n",
        "        total_time = time.time() - start_time\n",
        "        print(f\"\\nTotal training time: {total_time:.2f} seconds\")\n",
        "\n",
        "    def recommend(self, uid, k=10):\n",
        "        pred_rating = self.P[uid] @ self.Q.T\n",
        "        return np.argsort(pred_rating)[::-1][:k]"
      ]
    },
    {
      "cell_type": "code",
      "source": [
        "model = HiddenVars(train_ratings, 64, 'ials')\n",
        "model.fit(num_iters=2)\n"
      ],
      "metadata": {
        "colab": {
          "base_uri": "https://localhost:8080/"
        },
        "id": "UJFeZZeYTx7r",
        "outputId": "c7a86156-a9f8-47e9-d22b-a078bd8b979d"
      },
      "id": "UJFeZZeYTx7r",
      "execution_count": 162,
      "outputs": [
        {
          "output_type": "stream",
          "name": "stderr",
          "text": [
            "100%|██████████| 2/2 [00:48<00:00, 24.09s/it]"
          ]
        },
        {
          "output_type": "stream",
          "name": "stdout",
          "text": [
            "\n",
            "Total training time: 48.18 seconds\n"
          ]
        },
        {
          "output_type": "stream",
          "name": "stderr",
          "text": [
            "\n"
          ]
        }
      ]
    },
    {
      "cell_type": "code",
      "source": [
        "example_trackId = tracks_info[tracks_info.name == 'Выхода нет'].iloc[0].id\n",
        "\n",
        "preds = model.Q @ model.Q[example_trackId]\n",
        "preds = preds / np.sqrt((model.Q**2).sum(axis=1) + 1e-8)\n",
        "\n",
        "track_idxs = preds.argsort()[::-1][:20]"
      ],
      "metadata": {
        "id": "5_dzTGpeT3F-"
      },
      "id": "5_dzTGpeT3F-",
      "execution_count": 163,
      "outputs": []
    },
    {
      "cell_type": "code",
      "source": [
        "similar_tracks = tracks_info.loc[track_idxs][['name', 'artists']]\n",
        "similar_tracks['similarity'] = preds[track_idxs] / np.linalg.norm(model.Q[example_trackId])\n",
        "similar_tracks"
      ],
      "metadata": {
        "colab": {
          "base_uri": "https://localhost:8080/",
          "height": 676
        },
        "id": "cREoiE99T7MD",
        "outputId": "d2450f88-7684-4bff-bbbd-fe72db6cc4da"
      },
      "id": "cREoiE99T7MD",
      "execution_count": 164,
      "outputs": [
        {
          "output_type": "execute_result",
          "data": {
            "text/plain": [
              "                                     name              artists  similarity\n",
              "5512                           Выхода нет            ['Сплин']    1.000000\n",
              "6171                          Billie Jean  ['Michael Jackson']    0.677121\n",
              "16637                              Zodiac           ['Zodiac']    0.674126\n",
              "5153                         Stormbringer      ['Deep Purple']    0.674126\n",
              "9689                         Bicycle Race            ['Queen']    0.674126\n",
              "27828                       Молодые ветра               ['7Б']    0.658694\n",
              "2058                      Последний герой             ['КИНО']    0.651867\n",
              "16635                             Pacific           ['Zodiac']    0.647413\n",
              "5005                         Highway Star      ['Deep Purple']    0.647413\n",
              "44373                       Do Your Worst       ['Rival Sons']    0.647413\n",
              "10714               Буги-вуги каждый день          ['Зоопарк']    0.647413\n",
              "11476                       I Want It All            ['Queen']    0.647413\n",
              "5570                           Моё сердце            ['Сплин']    0.645045\n",
              "23151                     Hot for Teacher        ['Van Halen']    0.642895\n",
              "16441  Weight of Sound (feat. TJ O'Neill)     ['Stick Figure']    0.620767\n",
              "46971            Simple Case of the Blues     ['Rosie Flores']    0.620767\n",
              "6058                     Together Forever      ['Rick Astley']    0.618472\n",
              "4344                        One More Time        ['Daft Punk']    0.614054\n",
              "2179                      Восьмиклассница             ['КИНО']    0.612255\n",
              "19118                            Не спеши             ['ЧайФ']    0.611776"
            ],
            "text/html": [
              "\n",
              "  <div id=\"df-6e090bf0-cd25-4403-a100-8946ba5bbbf6\" class=\"colab-df-container\">\n",
              "    <div>\n",
              "<style scoped>\n",
              "    .dataframe tbody tr th:only-of-type {\n",
              "        vertical-align: middle;\n",
              "    }\n",
              "\n",
              "    .dataframe tbody tr th {\n",
              "        vertical-align: top;\n",
              "    }\n",
              "\n",
              "    .dataframe thead th {\n",
              "        text-align: right;\n",
              "    }\n",
              "</style>\n",
              "<table border=\"1\" class=\"dataframe\">\n",
              "  <thead>\n",
              "    <tr style=\"text-align: right;\">\n",
              "      <th></th>\n",
              "      <th>name</th>\n",
              "      <th>artists</th>\n",
              "      <th>similarity</th>\n",
              "    </tr>\n",
              "  </thead>\n",
              "  <tbody>\n",
              "    <tr>\n",
              "      <th>5512</th>\n",
              "      <td>Выхода нет</td>\n",
              "      <td>['Сплин']</td>\n",
              "      <td>1.000000</td>\n",
              "    </tr>\n",
              "    <tr>\n",
              "      <th>6171</th>\n",
              "      <td>Billie Jean</td>\n",
              "      <td>['Michael Jackson']</td>\n",
              "      <td>0.677121</td>\n",
              "    </tr>\n",
              "    <tr>\n",
              "      <th>16637</th>\n",
              "      <td>Zodiac</td>\n",
              "      <td>['Zodiac']</td>\n",
              "      <td>0.674126</td>\n",
              "    </tr>\n",
              "    <tr>\n",
              "      <th>5153</th>\n",
              "      <td>Stormbringer</td>\n",
              "      <td>['Deep Purple']</td>\n",
              "      <td>0.674126</td>\n",
              "    </tr>\n",
              "    <tr>\n",
              "      <th>9689</th>\n",
              "      <td>Bicycle Race</td>\n",
              "      <td>['Queen']</td>\n",
              "      <td>0.674126</td>\n",
              "    </tr>\n",
              "    <tr>\n",
              "      <th>27828</th>\n",
              "      <td>Молодые ветра</td>\n",
              "      <td>['7Б']</td>\n",
              "      <td>0.658694</td>\n",
              "    </tr>\n",
              "    <tr>\n",
              "      <th>2058</th>\n",
              "      <td>Последний герой</td>\n",
              "      <td>['КИНО']</td>\n",
              "      <td>0.651867</td>\n",
              "    </tr>\n",
              "    <tr>\n",
              "      <th>16635</th>\n",
              "      <td>Pacific</td>\n",
              "      <td>['Zodiac']</td>\n",
              "      <td>0.647413</td>\n",
              "    </tr>\n",
              "    <tr>\n",
              "      <th>5005</th>\n",
              "      <td>Highway Star</td>\n",
              "      <td>['Deep Purple']</td>\n",
              "      <td>0.647413</td>\n",
              "    </tr>\n",
              "    <tr>\n",
              "      <th>44373</th>\n",
              "      <td>Do Your Worst</td>\n",
              "      <td>['Rival Sons']</td>\n",
              "      <td>0.647413</td>\n",
              "    </tr>\n",
              "    <tr>\n",
              "      <th>10714</th>\n",
              "      <td>Буги-вуги каждый день</td>\n",
              "      <td>['Зоопарк']</td>\n",
              "      <td>0.647413</td>\n",
              "    </tr>\n",
              "    <tr>\n",
              "      <th>11476</th>\n",
              "      <td>I Want It All</td>\n",
              "      <td>['Queen']</td>\n",
              "      <td>0.647413</td>\n",
              "    </tr>\n",
              "    <tr>\n",
              "      <th>5570</th>\n",
              "      <td>Моё сердце</td>\n",
              "      <td>['Сплин']</td>\n",
              "      <td>0.645045</td>\n",
              "    </tr>\n",
              "    <tr>\n",
              "      <th>23151</th>\n",
              "      <td>Hot for Teacher</td>\n",
              "      <td>['Van Halen']</td>\n",
              "      <td>0.642895</td>\n",
              "    </tr>\n",
              "    <tr>\n",
              "      <th>16441</th>\n",
              "      <td>Weight of Sound (feat. TJ O'Neill)</td>\n",
              "      <td>['Stick Figure']</td>\n",
              "      <td>0.620767</td>\n",
              "    </tr>\n",
              "    <tr>\n",
              "      <th>46971</th>\n",
              "      <td>Simple Case of the Blues</td>\n",
              "      <td>['Rosie Flores']</td>\n",
              "      <td>0.620767</td>\n",
              "    </tr>\n",
              "    <tr>\n",
              "      <th>6058</th>\n",
              "      <td>Together Forever</td>\n",
              "      <td>['Rick Astley']</td>\n",
              "      <td>0.618472</td>\n",
              "    </tr>\n",
              "    <tr>\n",
              "      <th>4344</th>\n",
              "      <td>One More Time</td>\n",
              "      <td>['Daft Punk']</td>\n",
              "      <td>0.614054</td>\n",
              "    </tr>\n",
              "    <tr>\n",
              "      <th>2179</th>\n",
              "      <td>Восьмиклассница</td>\n",
              "      <td>['КИНО']</td>\n",
              "      <td>0.612255</td>\n",
              "    </tr>\n",
              "    <tr>\n",
              "      <th>19118</th>\n",
              "      <td>Не спеши</td>\n",
              "      <td>['ЧайФ']</td>\n",
              "      <td>0.611776</td>\n",
              "    </tr>\n",
              "  </tbody>\n",
              "</table>\n",
              "</div>\n",
              "    <div class=\"colab-df-buttons\">\n",
              "\n",
              "  <div class=\"colab-df-container\">\n",
              "    <button class=\"colab-df-convert\" onclick=\"convertToInteractive('df-6e090bf0-cd25-4403-a100-8946ba5bbbf6')\"\n",
              "            title=\"Convert this dataframe to an interactive table.\"\n",
              "            style=\"display:none;\">\n",
              "\n",
              "  <svg xmlns=\"http://www.w3.org/2000/svg\" height=\"24px\" viewBox=\"0 -960 960 960\">\n",
              "    <path d=\"M120-120v-720h720v720H120Zm60-500h600v-160H180v160Zm220 220h160v-160H400v160Zm0 220h160v-160H400v160ZM180-400h160v-160H180v160Zm440 0h160v-160H620v160ZM180-180h160v-160H180v160Zm440 0h160v-160H620v160Z\"/>\n",
              "  </svg>\n",
              "    </button>\n",
              "\n",
              "  <style>\n",
              "    .colab-df-container {\n",
              "      display:flex;\n",
              "      gap: 12px;\n",
              "    }\n",
              "\n",
              "    .colab-df-convert {\n",
              "      background-color: #E8F0FE;\n",
              "      border: none;\n",
              "      border-radius: 50%;\n",
              "      cursor: pointer;\n",
              "      display: none;\n",
              "      fill: #1967D2;\n",
              "      height: 32px;\n",
              "      padding: 0 0 0 0;\n",
              "      width: 32px;\n",
              "    }\n",
              "\n",
              "    .colab-df-convert:hover {\n",
              "      background-color: #E2EBFA;\n",
              "      box-shadow: 0px 1px 2px rgba(60, 64, 67, 0.3), 0px 1px 3px 1px rgba(60, 64, 67, 0.15);\n",
              "      fill: #174EA6;\n",
              "    }\n",
              "\n",
              "    .colab-df-buttons div {\n",
              "      margin-bottom: 4px;\n",
              "    }\n",
              "\n",
              "    [theme=dark] .colab-df-convert {\n",
              "      background-color: #3B4455;\n",
              "      fill: #D2E3FC;\n",
              "    }\n",
              "\n",
              "    [theme=dark] .colab-df-convert:hover {\n",
              "      background-color: #434B5C;\n",
              "      box-shadow: 0px 1px 3px 1px rgba(0, 0, 0, 0.15);\n",
              "      filter: drop-shadow(0px 1px 2px rgba(0, 0, 0, 0.3));\n",
              "      fill: #FFFFFF;\n",
              "    }\n",
              "  </style>\n",
              "\n",
              "    <script>\n",
              "      const buttonEl =\n",
              "        document.querySelector('#df-6e090bf0-cd25-4403-a100-8946ba5bbbf6 button.colab-df-convert');\n",
              "      buttonEl.style.display =\n",
              "        google.colab.kernel.accessAllowed ? 'block' : 'none';\n",
              "\n",
              "      async function convertToInteractive(key) {\n",
              "        const element = document.querySelector('#df-6e090bf0-cd25-4403-a100-8946ba5bbbf6');\n",
              "        const dataTable =\n",
              "          await google.colab.kernel.invokeFunction('convertToInteractive',\n",
              "                                                    [key], {});\n",
              "        if (!dataTable) return;\n",
              "\n",
              "        const docLinkHtml = 'Like what you see? Visit the ' +\n",
              "          '<a target=\"_blank\" href=https://colab.research.google.com/notebooks/data_table.ipynb>data table notebook</a>'\n",
              "          + ' to learn more about interactive tables.';\n",
              "        element.innerHTML = '';\n",
              "        dataTable['output_type'] = 'display_data';\n",
              "        await google.colab.output.renderOutput(dataTable, element);\n",
              "        const docLink = document.createElement('div');\n",
              "        docLink.innerHTML = docLinkHtml;\n",
              "        element.appendChild(docLink);\n",
              "      }\n",
              "    </script>\n",
              "  </div>\n",
              "\n",
              "\n",
              "    <div id=\"df-7048f1c7-7564-4053-bc7a-06ac746f699d\">\n",
              "      <button class=\"colab-df-quickchart\" onclick=\"quickchart('df-7048f1c7-7564-4053-bc7a-06ac746f699d')\"\n",
              "                title=\"Suggest charts\"\n",
              "                style=\"display:none;\">\n",
              "\n",
              "<svg xmlns=\"http://www.w3.org/2000/svg\" height=\"24px\"viewBox=\"0 0 24 24\"\n",
              "     width=\"24px\">\n",
              "    <g>\n",
              "        <path d=\"M19 3H5c-1.1 0-2 .9-2 2v14c0 1.1.9 2 2 2h14c1.1 0 2-.9 2-2V5c0-1.1-.9-2-2-2zM9 17H7v-7h2v7zm4 0h-2V7h2v10zm4 0h-2v-4h2v4z\"/>\n",
              "    </g>\n",
              "</svg>\n",
              "      </button>\n",
              "\n",
              "<style>\n",
              "  .colab-df-quickchart {\n",
              "      --bg-color: #E8F0FE;\n",
              "      --fill-color: #1967D2;\n",
              "      --hover-bg-color: #E2EBFA;\n",
              "      --hover-fill-color: #174EA6;\n",
              "      --disabled-fill-color: #AAA;\n",
              "      --disabled-bg-color: #DDD;\n",
              "  }\n",
              "\n",
              "  [theme=dark] .colab-df-quickchart {\n",
              "      --bg-color: #3B4455;\n",
              "      --fill-color: #D2E3FC;\n",
              "      --hover-bg-color: #434B5C;\n",
              "      --hover-fill-color: #FFFFFF;\n",
              "      --disabled-bg-color: #3B4455;\n",
              "      --disabled-fill-color: #666;\n",
              "  }\n",
              "\n",
              "  .colab-df-quickchart {\n",
              "    background-color: var(--bg-color);\n",
              "    border: none;\n",
              "    border-radius: 50%;\n",
              "    cursor: pointer;\n",
              "    display: none;\n",
              "    fill: var(--fill-color);\n",
              "    height: 32px;\n",
              "    padding: 0;\n",
              "    width: 32px;\n",
              "  }\n",
              "\n",
              "  .colab-df-quickchart:hover {\n",
              "    background-color: var(--hover-bg-color);\n",
              "    box-shadow: 0 1px 2px rgba(60, 64, 67, 0.3), 0 1px 3px 1px rgba(60, 64, 67, 0.15);\n",
              "    fill: var(--button-hover-fill-color);\n",
              "  }\n",
              "\n",
              "  .colab-df-quickchart-complete:disabled,\n",
              "  .colab-df-quickchart-complete:disabled:hover {\n",
              "    background-color: var(--disabled-bg-color);\n",
              "    fill: var(--disabled-fill-color);\n",
              "    box-shadow: none;\n",
              "  }\n",
              "\n",
              "  .colab-df-spinner {\n",
              "    border: 2px solid var(--fill-color);\n",
              "    border-color: transparent;\n",
              "    border-bottom-color: var(--fill-color);\n",
              "    animation:\n",
              "      spin 1s steps(1) infinite;\n",
              "  }\n",
              "\n",
              "  @keyframes spin {\n",
              "    0% {\n",
              "      border-color: transparent;\n",
              "      border-bottom-color: var(--fill-color);\n",
              "      border-left-color: var(--fill-color);\n",
              "    }\n",
              "    20% {\n",
              "      border-color: transparent;\n",
              "      border-left-color: var(--fill-color);\n",
              "      border-top-color: var(--fill-color);\n",
              "    }\n",
              "    30% {\n",
              "      border-color: transparent;\n",
              "      border-left-color: var(--fill-color);\n",
              "      border-top-color: var(--fill-color);\n",
              "      border-right-color: var(--fill-color);\n",
              "    }\n",
              "    40% {\n",
              "      border-color: transparent;\n",
              "      border-right-color: var(--fill-color);\n",
              "      border-top-color: var(--fill-color);\n",
              "    }\n",
              "    60% {\n",
              "      border-color: transparent;\n",
              "      border-right-color: var(--fill-color);\n",
              "    }\n",
              "    80% {\n",
              "      border-color: transparent;\n",
              "      border-right-color: var(--fill-color);\n",
              "      border-bottom-color: var(--fill-color);\n",
              "    }\n",
              "    90% {\n",
              "      border-color: transparent;\n",
              "      border-bottom-color: var(--fill-color);\n",
              "    }\n",
              "  }\n",
              "</style>\n",
              "\n",
              "      <script>\n",
              "        async function quickchart(key) {\n",
              "          const quickchartButtonEl =\n",
              "            document.querySelector('#' + key + ' button');\n",
              "          quickchartButtonEl.disabled = true;  // To prevent multiple clicks.\n",
              "          quickchartButtonEl.classList.add('colab-df-spinner');\n",
              "          try {\n",
              "            const charts = await google.colab.kernel.invokeFunction(\n",
              "                'suggestCharts', [key], {});\n",
              "          } catch (error) {\n",
              "            console.error('Error during call to suggestCharts:', error);\n",
              "          }\n",
              "          quickchartButtonEl.classList.remove('colab-df-spinner');\n",
              "          quickchartButtonEl.classList.add('colab-df-quickchart-complete');\n",
              "        }\n",
              "        (() => {\n",
              "          let quickchartButtonEl =\n",
              "            document.querySelector('#df-7048f1c7-7564-4053-bc7a-06ac746f699d button');\n",
              "          quickchartButtonEl.style.display =\n",
              "            google.colab.kernel.accessAllowed ? 'block' : 'none';\n",
              "        })();\n",
              "      </script>\n",
              "    </div>\n",
              "    </div>\n",
              "  </div>\n"
            ],
            "application/vnd.google.colaboratory.intrinsic+json": {
              "type": "dataframe",
              "variable_name": "similar_tracks",
              "summary": "{\n  \"name\": \"similar_tracks\",\n  \"rows\": 20,\n  \"fields\": [\n    {\n      \"column\": \"name\",\n      \"properties\": {\n        \"dtype\": \"string\",\n        \"num_unique_values\": 20,\n        \"samples\": [\n          \"\\u0412\\u044b\\u0445\\u043e\\u0434\\u0430 \\u043d\\u0435\\u0442\",\n          \"One More Time\",\n          \"Simple Case of the Blues\"\n        ],\n        \"semantic_type\": \"\",\n        \"description\": \"\"\n      }\n    },\n    {\n      \"column\": \"artists\",\n      \"properties\": {\n        \"dtype\": \"string\",\n        \"num_unique_values\": 15,\n        \"samples\": [\n          \"['Van Halen']\",\n          \"['Rosie Flores']\",\n          \"['\\u0421\\u043f\\u043b\\u0438\\u043d']\"\n        ],\n        \"semantic_type\": \"\",\n        \"description\": \"\"\n      }\n    },\n    {\n      \"column\": \"similarity\",\n      \"properties\": {\n        \"dtype\": \"number\",\n        \"std\": 0.0825043391700451,\n        \"min\": 0.6117758449160126,\n        \"max\": 0.9999999999520703,\n        \"num_unique_values\": 13,\n        \"samples\": [\n          0.6122554601176653,\n          0.618471718570041,\n          0.9999999999520703\n        ],\n        \"semantic_type\": \"\",\n        \"description\": \"\"\n      }\n    }\n  ]\n}"
            }
          },
          "metadata": {},
          "execution_count": 164
        }
      ]
    },
    {
      "cell_type": "markdown",
      "source": [
        "Заметим, что IALS тоже показал себя тоже неплохо, но по рекам наверное похуже чем als, но явно лучше SGD"
      ],
      "metadata": {
        "id": "PmfEowNRj8Ys"
      },
      "id": "PmfEowNRj8Ys"
    },
    {
      "cell_type": "markdown",
      "id": "8132c2cb",
      "metadata": {
        "id": "8132c2cb"
      },
      "source": [
        "### Часть 3. Второй уровень рекомендаций.\n",
        "\n",
        "Выше мы построили простейшие модели, которые показывают не слишком высокое качество, но зато работают очень быстро. Воспользуемся ими для того, чтобы отобрать некоторое количество наиболее перспективных треков, которые мы сможем отранжировать уже более сложной моделью (в нашем случае это будет [CatBoost](https://catboost.ai/en/docs/concepts/python-reference_catboost))."
      ]
    },
    {
      "cell_type": "markdown",
      "id": "177d917e",
      "metadata": {
        "id": "177d917e"
      },
      "source": [
        "**Задание 9 (1 балл).**\n",
        "\n",
        "Для каждого пользователя возьмите топ-100 рекомендованных треков от модели LFM (ALS или SGD на ваш выбор) и топ-100 от модели User2User. Это будут наши кандидаты, которые мы затем будем ранжировать бустингом."
      ]
    },
    {
      "cell_type": "code",
      "source": [
        "model = HiddenVars(train_ratings, dim=64, mode='als')\n",
        "model.fit(num_iters=2)\n",
        "\n",
        "\n"
      ],
      "metadata": {
        "id": "o-qMaPm-lkEk",
        "outputId": "f06f4c16-bc0f-4273-c32d-8606e37f63be",
        "colab": {
          "base_uri": "https://localhost:8080/"
        }
      },
      "id": "o-qMaPm-lkEk",
      "execution_count": 175,
      "outputs": [
        {
          "output_type": "stream",
          "name": "stderr",
          "text": [
            "100%|██████████| 2/2 [00:45<00:00, 22.61s/it]"
          ]
        },
        {
          "output_type": "stream",
          "name": "stdout",
          "text": [
            "\n",
            "Total training time: 45.22 seconds\n"
          ]
        },
        {
          "output_type": "stream",
          "name": "stderr",
          "text": [
            "\n"
          ]
        }
      ]
    },
    {
      "cell_type": "code",
      "source": [
        "user_seen_items = train_ratings.groupby('userId')['trackId'].apply(set).to_dict()\n",
        "\n",
        "\n",
        "from tqdm import tqdm\n",
        "\n",
        "als_top100_recommendations = {}\n",
        "for uid in tqdm(range(model.n_users)):\n",
        "\n",
        "    raw_recs = model.recommend(uid, k=100)\n",
        "\n",
        "\n",
        "    seen_items = user_seen_items.get(uid, set())\n",
        "    filtered_recs = [item for item in raw_recs if item not in seen_items][:100]\n",
        "\n",
        "\n",
        "\n",
        "    als_top100_recommendations[uid] = filtered_recs[:100]\n",
        "\n",
        "# Пример вывода для первых 3 пользователей\n",
        "for uid in list(als_top100_recommendations.keys())[:3]:\n",
        "    print(f\"\\nUser {uid} top-5 recommendations:\")\n",
        "    print(tracks_info.loc[als_top100_recommendations[uid][:5], ['name', 'artists']])"
      ],
      "metadata": {
        "id": "5RXn4sAZxEIR",
        "outputId": "c85b33d1-2272-4705-bb1b-45a8e1cbd9b9",
        "colab": {
          "base_uri": "https://localhost:8080/"
        }
      },
      "id": "5RXn4sAZxEIR",
      "execution_count": 177,
      "outputs": [
        {
          "output_type": "stream",
          "name": "stderr",
          "text": [
            "100%|██████████| 241/241 [00:03<00:00, 74.60it/s] "
          ]
        },
        {
          "output_type": "stream",
          "name": "stdout",
          "text": [
            "\n",
            "User 0 top-5 recommendations:\n",
            "                   name                         artists\n",
            "16231  Hotel California                      ['Eagles']\n",
            "29169          Heathens           ['twenty one pilots']\n",
            "4091       Karma Police                   ['Radiohead']\n",
            "22155             Hello                        ['OMFG']\n",
            "35972    Play with Fire  ['Sam Tinnesz', 'Yacht Money']\n",
            "\n",
            "User 1 top-5 recommendations:\n",
            "                          name          artists\n",
            "29161             Russian Girl   ['Женя Любич']\n",
            "1073   Smells Like Teen Spirit      ['Nirvana']\n",
            "2814                      Numb  ['Linkin Park']\n",
            "\n",
            "User 2 top-5 recommendations:\n",
            "                         name                         artists\n",
            "11493     The Show Must Go On                       ['Queen']\n",
            "49577           Кукла колдуна                ['Король и Шут']\n",
            "56031         Blinding Lights                  ['The Weeknd']\n",
            "20094  Come And Get Your Love                     ['Redbone']\n",
            "27822  Звезда по имени Солнце  ['Игорь Вдовин', 'Виктор Цой']\n"
          ]
        },
        {
          "output_type": "stream",
          "name": "stderr",
          "text": [
            "\n"
          ]
        }
      ]
    },
    {
      "cell_type": "code",
      "source": [
        "model_ials = HiddenVars(train_ratings, 64, 'ials')\n",
        "model_ials.fit(num_iters=2)\n"
      ],
      "metadata": {
        "id": "4hRKopg70chC",
        "outputId": "8d764d54-2f5f-45df-e76e-66d1110dbde5",
        "colab": {
          "base_uri": "https://localhost:8080/"
        }
      },
      "id": "4hRKopg70chC",
      "execution_count": 178,
      "outputs": [
        {
          "output_type": "stream",
          "name": "stderr",
          "text": [
            "100%|██████████| 2/2 [00:46<00:00, 23.09s/it]"
          ]
        },
        {
          "output_type": "stream",
          "name": "stdout",
          "text": [
            "\n",
            "Total training time: 46.19 seconds\n"
          ]
        },
        {
          "output_type": "stream",
          "name": "stderr",
          "text": [
            "\n"
          ]
        }
      ]
    },
    {
      "cell_type": "code",
      "source": [
        "user_seen_items = train_ratings.groupby('userId')['trackId'].apply(set).to_dict()\n",
        "\n",
        "\n",
        "from tqdm import tqdm\n",
        "\n",
        "als_top100_recommendations = {}\n",
        "for uid in tqdm(range(model_ials.n_users)):\n",
        "\n",
        "    raw_recs = model_ials.recommend(uid, k=100)\n",
        "\n",
        "\n",
        "    seen_items = user_seen_items.get(uid, set())\n",
        "    filtered_recs = [item for item in raw_recs if item not in seen_items][:100]\n",
        "\n",
        "\n",
        "\n",
        "    als_top100_recommendations[uid] = filtered_recs[:100]\n",
        "\n",
        "# Пример вывода для первых 3 пользователей\n",
        "for uid in list(als_top100_recommendations.keys())[:3]:\n",
        "    print(f\"\\nUser {uid} top-5 recommendations:\")\n",
        "    print(tracks_info.loc[als_top100_recommendations[uid][:5], ['name', 'artists']])"
      ],
      "metadata": {
        "id": "NswPgGKD4Dg4",
        "outputId": "785a5196-b112-48b4-ce80-7c7a0b774329",
        "colab": {
          "base_uri": "https://localhost:8080/"
        }
      },
      "id": "NswPgGKD4Dg4",
      "execution_count": 180,
      "outputs": [
        {
          "output_type": "stream",
          "name": "stderr",
          "text": [
            "100%|██████████| 241/241 [00:03<00:00, 69.32it/s] \n"
          ]
        },
        {
          "output_type": "stream",
          "name": "stdout",
          "text": [
            "\n",
            "User 0 top-5 recommendations:\n",
            "                            name                artists\n",
            "14763          Seven Nation Army  ['The White Stripes']\n",
            "5521   Полковнику никто не пишет               ['Би-2']\n",
            "10282           Владивосток 2000       ['Мумий Тролль']\n",
            "23944                Трасса Е-95              ['Алиса']\n",
            "6136                 Billie Jean    ['Michael Jackson']\n",
            "\n",
            "User 1 top-5 recommendations:\n",
            "                 name              artists\n",
            "24500  Way Down We Go            ['KALEO']\n",
            "2767   What I've Done      ['Linkin Park']\n",
            "33436        Believer  ['Imagine Dragons']\n",
            "\n",
            "User 2 top-5 recommendations:\n",
            "                               name              artists\n",
            "11950  Somebody That I Used To Know  ['Gotye', 'Kimbra']\n",
            "17165             How You Remind Me       ['Nickelback']\n",
            "18070                Dernière danse           ['Indila']\n",
            "24500                Way Down We Go            ['KALEO']\n",
            "53422                  Dance Monkey      ['Tones And I']\n"
          ]
        }
      ]
    },
    {
      "cell_type": "markdown",
      "id": "51edc045",
      "metadata": {
        "id": "51edc045"
      },
      "source": [
        "**Задание 10 (2 балла).**\n",
        "\n",
        "Подготовьте датасет для обучения модели ранжирования. Он должен состоять из пар: объект, целевая переменная. Объект - это пара (user, item) и всякие дополнительные признаки на их основе. Предлагается создать набор следущих признаков, однако вы можете добавлять свои по желанию, если они вам кажутся разумными:\n",
        " 1) id пользователя\n",
        " 1) id трека\n",
        " 1) косинусное расстояние между эмбеддингами LFM соответствующих пользователя и трека\n",
        " 1) среднее значение меры Жаккара между этим пользователем и остальными из User2User модели\n",
        " 1) доля пользователей, слушавших этот трек (взять из обучающей выборки в Части 1)\n",
        " 1) количество прослушанных пользователем треков (взять из обучающей выборки в Части 1)\n",
        "\n",
        "В качестве целевой переменной возьмем бинарную метку \"попал ли трек в 50 последних прослушанных пользователем\"\n",
        "\n",
        "Разбейте полученную выборку на обучающую и тестовую в отношении 3:2 так, чтобы пропорции положительных и отрицательных примеров в обоих подвыборках были одинаковыми."
      ]
    },
    {
      "cell_type": "markdown",
      "id": "6098e743",
      "metadata": {
        "id": "6098e743"
      },
      "source": [
        "Как уже было сказано, для построения ранжирующей модели мы будем пользоваться библиотекой [CatBoost](https://www.youtube.com/watch?v=dQw4w9WgXcQ).\n",
        "\n",
        "Для преобразования датасета в удобный вид полезно использовать метод [`Pool`](https://catboost.ai/en/docs/concepts/python-reference_pool)."
      ]
    },
    {
      "cell_type": "code",
      "execution_count": null,
      "id": "74d12e82",
      "metadata": {
        "id": "74d12e82"
      },
      "outputs": [],
      "source": [
        "import catboost\n",
        "\n",
        "# group_id == user_id here\n",
        "train_pool = catboost.Pool(X_train, y_train, group_id=train_group_id)\n",
        "test_pool = catboost.Pool(X_test, y_test, group_id=test_group_id)"
      ]
    },
    {
      "cell_type": "markdown",
      "id": "d00f3667",
      "metadata": {
        "id": "d00f3667"
      },
      "source": [
        "**Задание 11 (1 балл)**\n",
        "\n",
        "Обучите `CatBoostClassifier`. С его помощью сделайте предсказания для тестовой выборки и посчитайте MAP@20. Сравните с рекомендациями моделей User2User и LFM. Учтите, что для честного сравнения необходимо пересчитать предсказания моделей на нашей новой тестовой выборке. Получилось ли улучшить результаты?"
      ]
    },
    {
      "cell_type": "code",
      "execution_count": null,
      "id": "72491fc8",
      "metadata": {
        "id": "72491fc8"
      },
      "outputs": [],
      "source": [
        "# your code here: (￣▽￣)/♫•*¨*•.¸¸♪"
      ]
    },
    {
      "cell_type": "markdown",
      "id": "5f6ab446",
      "metadata": {
        "id": "5f6ab446"
      },
      "source": [
        "**Задание 12 (1 балл)**\n",
        "\n",
        "Обучите `CatBoostRanker`, выбрав подходящую функцию ранжирования из тех, которые были рассмотрены на лекции. Проделайте все те же действия, что и с `CatBoostClassifier` и сравните результаты."
      ]
    },
    {
      "cell_type": "code",
      "execution_count": null,
      "id": "7e04fcad",
      "metadata": {
        "id": "7e04fcad"
      },
      "outputs": [],
      "source": [
        "# your code here: (￣▽￣)/♫•*¨*•.¸¸♪"
      ]
    }
  ],
  "metadata": {
    "colab": {
      "provenance": [],
      "toc_visible": true
    },
    "kernelspec": {
      "display_name": "Python 3 (ipykernel)",
      "language": "python",
      "name": "python3"
    },
    "language_info": {
      "codemirror_mode": {
        "name": "ipython",
        "version": 3
      },
      "file_extension": ".py",
      "mimetype": "text/x-python",
      "name": "python",
      "nbconvert_exporter": "python",
      "pygments_lexer": "ipython3",
      "version": "3.13.3"
    },
    "widgets": {
      "application/vnd.jupyter.widget-state+json": {
        "b4b50c7fc80d420c9a4f7f8ccff68447": {
          "model_module": "@jupyter-widgets/controls",
          "model_name": "HBoxModel",
          "model_module_version": "1.5.0",
          "state": {
            "_dom_classes": [],
            "_model_module": "@jupyter-widgets/controls",
            "_model_module_version": "1.5.0",
            "_model_name": "HBoxModel",
            "_view_count": null,
            "_view_module": "@jupyter-widgets/controls",
            "_view_module_version": "1.5.0",
            "_view_name": "HBoxView",
            "box_style": "",
            "children": [
              "IPY_MODEL_1a77fb5aa76a49ed91cfdc7ba1bca423",
              "IPY_MODEL_cfe3a1f9e0f5456fb2f44604e0d2f14e",
              "IPY_MODEL_7ef54d77c9f746c49558d0840af30084"
            ],
            "layout": "IPY_MODEL_f806e469e2974d31be9935aa901af2df"
          }
        },
        "1a77fb5aa76a49ed91cfdc7ba1bca423": {
          "model_module": "@jupyter-widgets/controls",
          "model_name": "HTMLModel",
          "model_module_version": "1.5.0",
          "state": {
            "_dom_classes": [],
            "_model_module": "@jupyter-widgets/controls",
            "_model_module_version": "1.5.0",
            "_model_name": "HTMLModel",
            "_view_count": null,
            "_view_module": "@jupyter-widgets/controls",
            "_view_module_version": "1.5.0",
            "_view_name": "HTMLView",
            "description": "",
            "description_tooltip": null,
            "layout": "IPY_MODEL_a8b80455bb934c19b2c61e96719abf93",
            "placeholder": "​",
            "style": "IPY_MODEL_289281645d3c4b16a36c47dd89133c47",
            "value": "100%"
          }
        },
        "cfe3a1f9e0f5456fb2f44604e0d2f14e": {
          "model_module": "@jupyter-widgets/controls",
          "model_name": "FloatProgressModel",
          "model_module_version": "1.5.0",
          "state": {
            "_dom_classes": [],
            "_model_module": "@jupyter-widgets/controls",
            "_model_module_version": "1.5.0",
            "_model_name": "FloatProgressModel",
            "_view_count": null,
            "_view_module": "@jupyter-widgets/controls",
            "_view_module_version": "1.5.0",
            "_view_name": "ProgressView",
            "bar_style": "success",
            "description": "",
            "description_tooltip": null,
            "layout": "IPY_MODEL_eb829e6907a14e53be7ed68e98ca7984",
            "max": 241,
            "min": 0,
            "orientation": "horizontal",
            "style": "IPY_MODEL_28e3ffe6117a40c8b8418d5b0d95d9ac",
            "value": 241
          }
        },
        "7ef54d77c9f746c49558d0840af30084": {
          "model_module": "@jupyter-widgets/controls",
          "model_name": "HTMLModel",
          "model_module_version": "1.5.0",
          "state": {
            "_dom_classes": [],
            "_model_module": "@jupyter-widgets/controls",
            "_model_module_version": "1.5.0",
            "_model_name": "HTMLModel",
            "_view_count": null,
            "_view_module": "@jupyter-widgets/controls",
            "_view_module_version": "1.5.0",
            "_view_name": "HTMLView",
            "description": "",
            "description_tooltip": null,
            "layout": "IPY_MODEL_d02f89e84f38403c83ce85d022012d83",
            "placeholder": "​",
            "style": "IPY_MODEL_464982f1b1ac4010bdb15ab5eaf2931d",
            "value": " 241/241 [00:00&lt;00:00, 4512.94it/s]"
          }
        },
        "f806e469e2974d31be9935aa901af2df": {
          "model_module": "@jupyter-widgets/base",
          "model_name": "LayoutModel",
          "model_module_version": "1.2.0",
          "state": {
            "_model_module": "@jupyter-widgets/base",
            "_model_module_version": "1.2.0",
            "_model_name": "LayoutModel",
            "_view_count": null,
            "_view_module": "@jupyter-widgets/base",
            "_view_module_version": "1.2.0",
            "_view_name": "LayoutView",
            "align_content": null,
            "align_items": null,
            "align_self": null,
            "border": null,
            "bottom": null,
            "display": null,
            "flex": null,
            "flex_flow": null,
            "grid_area": null,
            "grid_auto_columns": null,
            "grid_auto_flow": null,
            "grid_auto_rows": null,
            "grid_column": null,
            "grid_gap": null,
            "grid_row": null,
            "grid_template_areas": null,
            "grid_template_columns": null,
            "grid_template_rows": null,
            "height": null,
            "justify_content": null,
            "justify_items": null,
            "left": null,
            "margin": null,
            "max_height": null,
            "max_width": null,
            "min_height": null,
            "min_width": null,
            "object_fit": null,
            "object_position": null,
            "order": null,
            "overflow": null,
            "overflow_x": null,
            "overflow_y": null,
            "padding": null,
            "right": null,
            "top": null,
            "visibility": null,
            "width": null
          }
        },
        "a8b80455bb934c19b2c61e96719abf93": {
          "model_module": "@jupyter-widgets/base",
          "model_name": "LayoutModel",
          "model_module_version": "1.2.0",
          "state": {
            "_model_module": "@jupyter-widgets/base",
            "_model_module_version": "1.2.0",
            "_model_name": "LayoutModel",
            "_view_count": null,
            "_view_module": "@jupyter-widgets/base",
            "_view_module_version": "1.2.0",
            "_view_name": "LayoutView",
            "align_content": null,
            "align_items": null,
            "align_self": null,
            "border": null,
            "bottom": null,
            "display": null,
            "flex": null,
            "flex_flow": null,
            "grid_area": null,
            "grid_auto_columns": null,
            "grid_auto_flow": null,
            "grid_auto_rows": null,
            "grid_column": null,
            "grid_gap": null,
            "grid_row": null,
            "grid_template_areas": null,
            "grid_template_columns": null,
            "grid_template_rows": null,
            "height": null,
            "justify_content": null,
            "justify_items": null,
            "left": null,
            "margin": null,
            "max_height": null,
            "max_width": null,
            "min_height": null,
            "min_width": null,
            "object_fit": null,
            "object_position": null,
            "order": null,
            "overflow": null,
            "overflow_x": null,
            "overflow_y": null,
            "padding": null,
            "right": null,
            "top": null,
            "visibility": null,
            "width": null
          }
        },
        "289281645d3c4b16a36c47dd89133c47": {
          "model_module": "@jupyter-widgets/controls",
          "model_name": "DescriptionStyleModel",
          "model_module_version": "1.5.0",
          "state": {
            "_model_module": "@jupyter-widgets/controls",
            "_model_module_version": "1.5.0",
            "_model_name": "DescriptionStyleModel",
            "_view_count": null,
            "_view_module": "@jupyter-widgets/base",
            "_view_module_version": "1.2.0",
            "_view_name": "StyleView",
            "description_width": ""
          }
        },
        "eb829e6907a14e53be7ed68e98ca7984": {
          "model_module": "@jupyter-widgets/base",
          "model_name": "LayoutModel",
          "model_module_version": "1.2.0",
          "state": {
            "_model_module": "@jupyter-widgets/base",
            "_model_module_version": "1.2.0",
            "_model_name": "LayoutModel",
            "_view_count": null,
            "_view_module": "@jupyter-widgets/base",
            "_view_module_version": "1.2.0",
            "_view_name": "LayoutView",
            "align_content": null,
            "align_items": null,
            "align_self": null,
            "border": null,
            "bottom": null,
            "display": null,
            "flex": null,
            "flex_flow": null,
            "grid_area": null,
            "grid_auto_columns": null,
            "grid_auto_flow": null,
            "grid_auto_rows": null,
            "grid_column": null,
            "grid_gap": null,
            "grid_row": null,
            "grid_template_areas": null,
            "grid_template_columns": null,
            "grid_template_rows": null,
            "height": null,
            "justify_content": null,
            "justify_items": null,
            "left": null,
            "margin": null,
            "max_height": null,
            "max_width": null,
            "min_height": null,
            "min_width": null,
            "object_fit": null,
            "object_position": null,
            "order": null,
            "overflow": null,
            "overflow_x": null,
            "overflow_y": null,
            "padding": null,
            "right": null,
            "top": null,
            "visibility": null,
            "width": null
          }
        },
        "28e3ffe6117a40c8b8418d5b0d95d9ac": {
          "model_module": "@jupyter-widgets/controls",
          "model_name": "ProgressStyleModel",
          "model_module_version": "1.5.0",
          "state": {
            "_model_module": "@jupyter-widgets/controls",
            "_model_module_version": "1.5.0",
            "_model_name": "ProgressStyleModel",
            "_view_count": null,
            "_view_module": "@jupyter-widgets/base",
            "_view_module_version": "1.2.0",
            "_view_name": "StyleView",
            "bar_color": null,
            "description_width": ""
          }
        },
        "d02f89e84f38403c83ce85d022012d83": {
          "model_module": "@jupyter-widgets/base",
          "model_name": "LayoutModel",
          "model_module_version": "1.2.0",
          "state": {
            "_model_module": "@jupyter-widgets/base",
            "_model_module_version": "1.2.0",
            "_model_name": "LayoutModel",
            "_view_count": null,
            "_view_module": "@jupyter-widgets/base",
            "_view_module_version": "1.2.0",
            "_view_name": "LayoutView",
            "align_content": null,
            "align_items": null,
            "align_self": null,
            "border": null,
            "bottom": null,
            "display": null,
            "flex": null,
            "flex_flow": null,
            "grid_area": null,
            "grid_auto_columns": null,
            "grid_auto_flow": null,
            "grid_auto_rows": null,
            "grid_column": null,
            "grid_gap": null,
            "grid_row": null,
            "grid_template_areas": null,
            "grid_template_columns": null,
            "grid_template_rows": null,
            "height": null,
            "justify_content": null,
            "justify_items": null,
            "left": null,
            "margin": null,
            "max_height": null,
            "max_width": null,
            "min_height": null,
            "min_width": null,
            "object_fit": null,
            "object_position": null,
            "order": null,
            "overflow": null,
            "overflow_x": null,
            "overflow_y": null,
            "padding": null,
            "right": null,
            "top": null,
            "visibility": null,
            "width": null
          }
        },
        "464982f1b1ac4010bdb15ab5eaf2931d": {
          "model_module": "@jupyter-widgets/controls",
          "model_name": "DescriptionStyleModel",
          "model_module_version": "1.5.0",
          "state": {
            "_model_module": "@jupyter-widgets/controls",
            "_model_module_version": "1.5.0",
            "_model_name": "DescriptionStyleModel",
            "_view_count": null,
            "_view_module": "@jupyter-widgets/base",
            "_view_module_version": "1.2.0",
            "_view_name": "StyleView",
            "description_width": ""
          }
        },
        "1c2f051e353349009d5e99599c94adc4": {
          "model_module": "@jupyter-widgets/controls",
          "model_name": "HBoxModel",
          "model_module_version": "1.5.0",
          "state": {
            "_dom_classes": [],
            "_model_module": "@jupyter-widgets/controls",
            "_model_module_version": "1.5.0",
            "_model_name": "HBoxModel",
            "_view_count": null,
            "_view_module": "@jupyter-widgets/controls",
            "_view_module_version": "1.5.0",
            "_view_name": "HBoxView",
            "box_style": "",
            "children": [
              "IPY_MODEL_b0696e8f905a4d58b4148872eabf1cc9",
              "IPY_MODEL_65c9d4b1ed2b47e3987b36b97ab97668",
              "IPY_MODEL_3b7ff688afea47b2b5861e0003f232b5"
            ],
            "layout": "IPY_MODEL_c0558788674445baa3a6a0ce60f7eed8"
          }
        },
        "b0696e8f905a4d58b4148872eabf1cc9": {
          "model_module": "@jupyter-widgets/controls",
          "model_name": "HTMLModel",
          "model_module_version": "1.5.0",
          "state": {
            "_dom_classes": [],
            "_model_module": "@jupyter-widgets/controls",
            "_model_module_version": "1.5.0",
            "_model_name": "HTMLModel",
            "_view_count": null,
            "_view_module": "@jupyter-widgets/controls",
            "_view_module_version": "1.5.0",
            "_view_name": "HTMLView",
            "description": "",
            "description_tooltip": null,
            "layout": "IPY_MODEL_d6a920f22c3449f6a04547c71c85993a",
            "placeholder": "​",
            "style": "IPY_MODEL_466aa81f891a4f7ca1bf48795d963ce6",
            "value": "100%"
          }
        },
        "65c9d4b1ed2b47e3987b36b97ab97668": {
          "model_module": "@jupyter-widgets/controls",
          "model_name": "FloatProgressModel",
          "model_module_version": "1.5.0",
          "state": {
            "_dom_classes": [],
            "_model_module": "@jupyter-widgets/controls",
            "_model_module_version": "1.5.0",
            "_model_name": "FloatProgressModel",
            "_view_count": null,
            "_view_module": "@jupyter-widgets/controls",
            "_view_module_version": "1.5.0",
            "_view_name": "ProgressView",
            "bar_style": "success",
            "description": "",
            "description_tooltip": null,
            "layout": "IPY_MODEL_1a3acc06b0e44a8d9ef035f245677123",
            "max": 241,
            "min": 0,
            "orientation": "horizontal",
            "style": "IPY_MODEL_34dd566fa39b406ea707b11e8e397c5a",
            "value": 241
          }
        },
        "3b7ff688afea47b2b5861e0003f232b5": {
          "model_module": "@jupyter-widgets/controls",
          "model_name": "HTMLModel",
          "model_module_version": "1.5.0",
          "state": {
            "_dom_classes": [],
            "_model_module": "@jupyter-widgets/controls",
            "_model_module_version": "1.5.0",
            "_model_name": "HTMLModel",
            "_view_count": null,
            "_view_module": "@jupyter-widgets/controls",
            "_view_module_version": "1.5.0",
            "_view_name": "HTMLView",
            "description": "",
            "description_tooltip": null,
            "layout": "IPY_MODEL_63d616ce29354dc1a5d0108fbfdab924",
            "placeholder": "​",
            "style": "IPY_MODEL_2bcb9763893d4da7b273a1015bd49ec0",
            "value": " 241/241 [00:00&lt;00:00, 1104.20it/s]"
          }
        },
        "c0558788674445baa3a6a0ce60f7eed8": {
          "model_module": "@jupyter-widgets/base",
          "model_name": "LayoutModel",
          "model_module_version": "1.2.0",
          "state": {
            "_model_module": "@jupyter-widgets/base",
            "_model_module_version": "1.2.0",
            "_model_name": "LayoutModel",
            "_view_count": null,
            "_view_module": "@jupyter-widgets/base",
            "_view_module_version": "1.2.0",
            "_view_name": "LayoutView",
            "align_content": null,
            "align_items": null,
            "align_self": null,
            "border": null,
            "bottom": null,
            "display": null,
            "flex": null,
            "flex_flow": null,
            "grid_area": null,
            "grid_auto_columns": null,
            "grid_auto_flow": null,
            "grid_auto_rows": null,
            "grid_column": null,
            "grid_gap": null,
            "grid_row": null,
            "grid_template_areas": null,
            "grid_template_columns": null,
            "grid_template_rows": null,
            "height": null,
            "justify_content": null,
            "justify_items": null,
            "left": null,
            "margin": null,
            "max_height": null,
            "max_width": null,
            "min_height": null,
            "min_width": null,
            "object_fit": null,
            "object_position": null,
            "order": null,
            "overflow": null,
            "overflow_x": null,
            "overflow_y": null,
            "padding": null,
            "right": null,
            "top": null,
            "visibility": null,
            "width": null
          }
        },
        "d6a920f22c3449f6a04547c71c85993a": {
          "model_module": "@jupyter-widgets/base",
          "model_name": "LayoutModel",
          "model_module_version": "1.2.0",
          "state": {
            "_model_module": "@jupyter-widgets/base",
            "_model_module_version": "1.2.0",
            "_model_name": "LayoutModel",
            "_view_count": null,
            "_view_module": "@jupyter-widgets/base",
            "_view_module_version": "1.2.0",
            "_view_name": "LayoutView",
            "align_content": null,
            "align_items": null,
            "align_self": null,
            "border": null,
            "bottom": null,
            "display": null,
            "flex": null,
            "flex_flow": null,
            "grid_area": null,
            "grid_auto_columns": null,
            "grid_auto_flow": null,
            "grid_auto_rows": null,
            "grid_column": null,
            "grid_gap": null,
            "grid_row": null,
            "grid_template_areas": null,
            "grid_template_columns": null,
            "grid_template_rows": null,
            "height": null,
            "justify_content": null,
            "justify_items": null,
            "left": null,
            "margin": null,
            "max_height": null,
            "max_width": null,
            "min_height": null,
            "min_width": null,
            "object_fit": null,
            "object_position": null,
            "order": null,
            "overflow": null,
            "overflow_x": null,
            "overflow_y": null,
            "padding": null,
            "right": null,
            "top": null,
            "visibility": null,
            "width": null
          }
        },
        "466aa81f891a4f7ca1bf48795d963ce6": {
          "model_module": "@jupyter-widgets/controls",
          "model_name": "DescriptionStyleModel",
          "model_module_version": "1.5.0",
          "state": {
            "_model_module": "@jupyter-widgets/controls",
            "_model_module_version": "1.5.0",
            "_model_name": "DescriptionStyleModel",
            "_view_count": null,
            "_view_module": "@jupyter-widgets/base",
            "_view_module_version": "1.2.0",
            "_view_name": "StyleView",
            "description_width": ""
          }
        },
        "1a3acc06b0e44a8d9ef035f245677123": {
          "model_module": "@jupyter-widgets/base",
          "model_name": "LayoutModel",
          "model_module_version": "1.2.0",
          "state": {
            "_model_module": "@jupyter-widgets/base",
            "_model_module_version": "1.2.0",
            "_model_name": "LayoutModel",
            "_view_count": null,
            "_view_module": "@jupyter-widgets/base",
            "_view_module_version": "1.2.0",
            "_view_name": "LayoutView",
            "align_content": null,
            "align_items": null,
            "align_self": null,
            "border": null,
            "bottom": null,
            "display": null,
            "flex": null,
            "flex_flow": null,
            "grid_area": null,
            "grid_auto_columns": null,
            "grid_auto_flow": null,
            "grid_auto_rows": null,
            "grid_column": null,
            "grid_gap": null,
            "grid_row": null,
            "grid_template_areas": null,
            "grid_template_columns": null,
            "grid_template_rows": null,
            "height": null,
            "justify_content": null,
            "justify_items": null,
            "left": null,
            "margin": null,
            "max_height": null,
            "max_width": null,
            "min_height": null,
            "min_width": null,
            "object_fit": null,
            "object_position": null,
            "order": null,
            "overflow": null,
            "overflow_x": null,
            "overflow_y": null,
            "padding": null,
            "right": null,
            "top": null,
            "visibility": null,
            "width": null
          }
        },
        "34dd566fa39b406ea707b11e8e397c5a": {
          "model_module": "@jupyter-widgets/controls",
          "model_name": "ProgressStyleModel",
          "model_module_version": "1.5.0",
          "state": {
            "_model_module": "@jupyter-widgets/controls",
            "_model_module_version": "1.5.0",
            "_model_name": "ProgressStyleModel",
            "_view_count": null,
            "_view_module": "@jupyter-widgets/base",
            "_view_module_version": "1.2.0",
            "_view_name": "StyleView",
            "bar_color": null,
            "description_width": ""
          }
        },
        "63d616ce29354dc1a5d0108fbfdab924": {
          "model_module": "@jupyter-widgets/base",
          "model_name": "LayoutModel",
          "model_module_version": "1.2.0",
          "state": {
            "_model_module": "@jupyter-widgets/base",
            "_model_module_version": "1.2.0",
            "_model_name": "LayoutModel",
            "_view_count": null,
            "_view_module": "@jupyter-widgets/base",
            "_view_module_version": "1.2.0",
            "_view_name": "LayoutView",
            "align_content": null,
            "align_items": null,
            "align_self": null,
            "border": null,
            "bottom": null,
            "display": null,
            "flex": null,
            "flex_flow": null,
            "grid_area": null,
            "grid_auto_columns": null,
            "grid_auto_flow": null,
            "grid_auto_rows": null,
            "grid_column": null,
            "grid_gap": null,
            "grid_row": null,
            "grid_template_areas": null,
            "grid_template_columns": null,
            "grid_template_rows": null,
            "height": null,
            "justify_content": null,
            "justify_items": null,
            "left": null,
            "margin": null,
            "max_height": null,
            "max_width": null,
            "min_height": null,
            "min_width": null,
            "object_fit": null,
            "object_position": null,
            "order": null,
            "overflow": null,
            "overflow_x": null,
            "overflow_y": null,
            "padding": null,
            "right": null,
            "top": null,
            "visibility": null,
            "width": null
          }
        },
        "2bcb9763893d4da7b273a1015bd49ec0": {
          "model_module": "@jupyter-widgets/controls",
          "model_name": "DescriptionStyleModel",
          "model_module_version": "1.5.0",
          "state": {
            "_model_module": "@jupyter-widgets/controls",
            "_model_module_version": "1.5.0",
            "_model_name": "DescriptionStyleModel",
            "_view_count": null,
            "_view_module": "@jupyter-widgets/base",
            "_view_module_version": "1.2.0",
            "_view_name": "StyleView",
            "description_width": ""
          }
        }
      }
    }
  },
  "nbformat": 4,
  "nbformat_minor": 5
}